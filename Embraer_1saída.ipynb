{
  "nbformat": 4,
  "nbformat_minor": 0,
  "metadata": {
    "colab": {
      "provenance": []
    },
    "kernelspec": {
      "name": "python3",
      "display_name": "Python 3"
    },
    "language_info": {
      "name": "python"
    }
  },
  "cells": [
    {
      "cell_type": "markdown",
      "source": [
        "FIAP [Diangelis Barbato França- Bolsa (EMBRAER)"
      ],
      "metadata": {
        "id": "abomDk5EwsG2"
      }
    },
    {
      "cell_type": "code",
      "execution_count": null,
      "metadata": {
        "id": "6ibSlhNswmQv"
      },
      "outputs": [],
      "source": [
        "import numpy as np\n",
        "import pandas as pd\n",
        "import matplotlib\n",
        "import tensorflow as tf\n",
        "import sklearn"
      ]
    },
    {
      "cell_type": "code",
      "source": [
        "np.__version__, pd.__version__, matplotlib.__version__, tf.__version__, sklearn.__version__"
      ],
      "metadata": {
        "colab": {
          "base_uri": "https://localhost:8080/"
        },
        "id": "qMYE7oxbw0GG",
        "outputId": "b97ae762-5971-4bb1-e8c2-a7a94e7a44c2"
      },
      "execution_count": null,
      "outputs": [
        {
          "output_type": "execute_result",
          "data": {
            "text/plain": [
              "('2.0.2', '2.2.2', '3.10.0', '2.19.0', '1.6.1')"
            ]
          },
          "metadata": {},
          "execution_count": 3
        }
      ]
    },
    {
      "cell_type": "code",
      "source": [
        "from tensorflow.keras.models import Sequential\n",
        "from tensorflow.keras.layers import Dense, Dropout, LSTM\n",
        "from sklearn.preprocessing import MinMaxScaler\n",
        "import matplotlib.pyplot as plt"
      ],
      "metadata": {
        "id": "B6INdT-_w2dX"
      },
      "execution_count": null,
      "outputs": []
    },
    {
      "cell_type": "markdown",
      "source": [
        "Importar base de dados"
      ],
      "metadata": {
        "id": "XZTZkudBlozT"
      }
    },
    {
      "cell_type": "code",
      "source": [
        "base = pd.read_csv('/content/embraer_treinLO.csv') # Importar base de dados\n",
        "base"
      ],
      "metadata": {
        "colab": {
          "base_uri": "https://localhost:8080/",
          "height": 424
        },
        "id": "mb7Ie2JH1KS3",
        "outputId": "ef5c873d-95f4-4219-f007-cf18ffe2e674"
      },
      "execution_count": null,
      "outputs": [
        {
          "output_type": "execute_result",
          "data": {
            "text/plain": [
              "                              c       Open       High        Low      Close  \\\n",
              "0     2015-08-20 00:00:00-03:00  21.986374  22.228621  21.802265  21.918545   \n",
              "1     2015-08-21 00:00:00-03:00  21.705369  21.966997  21.569711  21.763508   \n",
              "2     2015-08-24 00:00:00-03:00  20.842968  21.656919  20.029016  21.104595   \n",
              "3     2015-08-25 00:00:00-03:00  21.327460  21.656917  21.104593  21.220871   \n",
              "4     2015-08-26 00:00:00-03:00  21.269326  22.354593  20.959248  22.354593   \n",
              "...                         ...        ...        ...        ...        ...   \n",
              "2326  2024-12-23 00:00:00-03:00  54.423919  55.942354  54.383959  55.492817   \n",
              "2327  2024-12-26 00:00:00-03:00  54.943385  56.252037  54.483859  56.182110   \n",
              "2328  2024-12-27 00:00:00-03:00  56.341946  56.641637  55.812489  56.272018   \n",
              "2329  2024-12-30 00:00:00-03:00  56.781489  57.031231  55.742558  56.132156   \n",
              "2330  2025-01-02 00:00:00-03:00  56.441840  57.920316  56.331953  57.740501   \n",
              "\n",
              "       Volume  \n",
              "0     1812600  \n",
              "1     1922000  \n",
              "2     3701900  \n",
              "3     2145900  \n",
              "4     2084700  \n",
              "...       ...  \n",
              "2326  4696500  \n",
              "2327  3878300  \n",
              "2328  3926000  \n",
              "2329  4084400  \n",
              "2330  6475600  \n",
              "\n",
              "[2331 rows x 6 columns]"
            ],
            "text/html": [
              "\n",
              "  <div id=\"df-3318196e-86df-494c-8b9b-074b6c6eddf1\" class=\"colab-df-container\">\n",
              "    <div>\n",
              "<style scoped>\n",
              "    .dataframe tbody tr th:only-of-type {\n",
              "        vertical-align: middle;\n",
              "    }\n",
              "\n",
              "    .dataframe tbody tr th {\n",
              "        vertical-align: top;\n",
              "    }\n",
              "\n",
              "    .dataframe thead th {\n",
              "        text-align: right;\n",
              "    }\n",
              "</style>\n",
              "<table border=\"1\" class=\"dataframe\">\n",
              "  <thead>\n",
              "    <tr style=\"text-align: right;\">\n",
              "      <th></th>\n",
              "      <th>c</th>\n",
              "      <th>Open</th>\n",
              "      <th>High</th>\n",
              "      <th>Low</th>\n",
              "      <th>Close</th>\n",
              "      <th>Volume</th>\n",
              "    </tr>\n",
              "  </thead>\n",
              "  <tbody>\n",
              "    <tr>\n",
              "      <th>0</th>\n",
              "      <td>2015-08-20 00:00:00-03:00</td>\n",
              "      <td>21.986374</td>\n",
              "      <td>22.228621</td>\n",
              "      <td>21.802265</td>\n",
              "      <td>21.918545</td>\n",
              "      <td>1812600</td>\n",
              "    </tr>\n",
              "    <tr>\n",
              "      <th>1</th>\n",
              "      <td>2015-08-21 00:00:00-03:00</td>\n",
              "      <td>21.705369</td>\n",
              "      <td>21.966997</td>\n",
              "      <td>21.569711</td>\n",
              "      <td>21.763508</td>\n",
              "      <td>1922000</td>\n",
              "    </tr>\n",
              "    <tr>\n",
              "      <th>2</th>\n",
              "      <td>2015-08-24 00:00:00-03:00</td>\n",
              "      <td>20.842968</td>\n",
              "      <td>21.656919</td>\n",
              "      <td>20.029016</td>\n",
              "      <td>21.104595</td>\n",
              "      <td>3701900</td>\n",
              "    </tr>\n",
              "    <tr>\n",
              "      <th>3</th>\n",
              "      <td>2015-08-25 00:00:00-03:00</td>\n",
              "      <td>21.327460</td>\n",
              "      <td>21.656917</td>\n",
              "      <td>21.104593</td>\n",
              "      <td>21.220871</td>\n",
              "      <td>2145900</td>\n",
              "    </tr>\n",
              "    <tr>\n",
              "      <th>4</th>\n",
              "      <td>2015-08-26 00:00:00-03:00</td>\n",
              "      <td>21.269326</td>\n",
              "      <td>22.354593</td>\n",
              "      <td>20.959248</td>\n",
              "      <td>22.354593</td>\n",
              "      <td>2084700</td>\n",
              "    </tr>\n",
              "    <tr>\n",
              "      <th>...</th>\n",
              "      <td>...</td>\n",
              "      <td>...</td>\n",
              "      <td>...</td>\n",
              "      <td>...</td>\n",
              "      <td>...</td>\n",
              "      <td>...</td>\n",
              "    </tr>\n",
              "    <tr>\n",
              "      <th>2326</th>\n",
              "      <td>2024-12-23 00:00:00-03:00</td>\n",
              "      <td>54.423919</td>\n",
              "      <td>55.942354</td>\n",
              "      <td>54.383959</td>\n",
              "      <td>55.492817</td>\n",
              "      <td>4696500</td>\n",
              "    </tr>\n",
              "    <tr>\n",
              "      <th>2327</th>\n",
              "      <td>2024-12-26 00:00:00-03:00</td>\n",
              "      <td>54.943385</td>\n",
              "      <td>56.252037</td>\n",
              "      <td>54.483859</td>\n",
              "      <td>56.182110</td>\n",
              "      <td>3878300</td>\n",
              "    </tr>\n",
              "    <tr>\n",
              "      <th>2328</th>\n",
              "      <td>2024-12-27 00:00:00-03:00</td>\n",
              "      <td>56.341946</td>\n",
              "      <td>56.641637</td>\n",
              "      <td>55.812489</td>\n",
              "      <td>56.272018</td>\n",
              "      <td>3926000</td>\n",
              "    </tr>\n",
              "    <tr>\n",
              "      <th>2329</th>\n",
              "      <td>2024-12-30 00:00:00-03:00</td>\n",
              "      <td>56.781489</td>\n",
              "      <td>57.031231</td>\n",
              "      <td>55.742558</td>\n",
              "      <td>56.132156</td>\n",
              "      <td>4084400</td>\n",
              "    </tr>\n",
              "    <tr>\n",
              "      <th>2330</th>\n",
              "      <td>2025-01-02 00:00:00-03:00</td>\n",
              "      <td>56.441840</td>\n",
              "      <td>57.920316</td>\n",
              "      <td>56.331953</td>\n",
              "      <td>57.740501</td>\n",
              "      <td>6475600</td>\n",
              "    </tr>\n",
              "  </tbody>\n",
              "</table>\n",
              "<p>2331 rows × 6 columns</p>\n",
              "</div>\n",
              "    <div class=\"colab-df-buttons\">\n",
              "\n",
              "  <div class=\"colab-df-container\">\n",
              "    <button class=\"colab-df-convert\" onclick=\"convertToInteractive('df-3318196e-86df-494c-8b9b-074b6c6eddf1')\"\n",
              "            title=\"Convert this dataframe to an interactive table.\"\n",
              "            style=\"display:none;\">\n",
              "\n",
              "  <svg xmlns=\"http://www.w3.org/2000/svg\" height=\"24px\" viewBox=\"0 -960 960 960\">\n",
              "    <path d=\"M120-120v-720h720v720H120Zm60-500h600v-160H180v160Zm220 220h160v-160H400v160Zm0 220h160v-160H400v160ZM180-400h160v-160H180v160Zm440 0h160v-160H620v160ZM180-180h160v-160H180v160Zm440 0h160v-160H620v160Z\"/>\n",
              "  </svg>\n",
              "    </button>\n",
              "\n",
              "  <style>\n",
              "    .colab-df-container {\n",
              "      display:flex;\n",
              "      gap: 12px;\n",
              "    }\n",
              "\n",
              "    .colab-df-convert {\n",
              "      background-color: #E8F0FE;\n",
              "      border: none;\n",
              "      border-radius: 50%;\n",
              "      cursor: pointer;\n",
              "      display: none;\n",
              "      fill: #1967D2;\n",
              "      height: 32px;\n",
              "      padding: 0 0 0 0;\n",
              "      width: 32px;\n",
              "    }\n",
              "\n",
              "    .colab-df-convert:hover {\n",
              "      background-color: #E2EBFA;\n",
              "      box-shadow: 0px 1px 2px rgba(60, 64, 67, 0.3), 0px 1px 3px 1px rgba(60, 64, 67, 0.15);\n",
              "      fill: #174EA6;\n",
              "    }\n",
              "\n",
              "    .colab-df-buttons div {\n",
              "      margin-bottom: 4px;\n",
              "    }\n",
              "\n",
              "    [theme=dark] .colab-df-convert {\n",
              "      background-color: #3B4455;\n",
              "      fill: #D2E3FC;\n",
              "    }\n",
              "\n",
              "    [theme=dark] .colab-df-convert:hover {\n",
              "      background-color: #434B5C;\n",
              "      box-shadow: 0px 1px 3px 1px rgba(0, 0, 0, 0.15);\n",
              "      filter: drop-shadow(0px 1px 2px rgba(0, 0, 0, 0.3));\n",
              "      fill: #FFFFFF;\n",
              "    }\n",
              "  </style>\n",
              "\n",
              "    <script>\n",
              "      const buttonEl =\n",
              "        document.querySelector('#df-3318196e-86df-494c-8b9b-074b6c6eddf1 button.colab-df-convert');\n",
              "      buttonEl.style.display =\n",
              "        google.colab.kernel.accessAllowed ? 'block' : 'none';\n",
              "\n",
              "      async function convertToInteractive(key) {\n",
              "        const element = document.querySelector('#df-3318196e-86df-494c-8b9b-074b6c6eddf1');\n",
              "        const dataTable =\n",
              "          await google.colab.kernel.invokeFunction('convertToInteractive',\n",
              "                                                    [key], {});\n",
              "        if (!dataTable) return;\n",
              "\n",
              "        const docLinkHtml = 'Like what you see? Visit the ' +\n",
              "          '<a target=\"_blank\" href=https://colab.research.google.com/notebooks/data_table.ipynb>data table notebook</a>'\n",
              "          + ' to learn more about interactive tables.';\n",
              "        element.innerHTML = '';\n",
              "        dataTable['output_type'] = 'display_data';\n",
              "        await google.colab.output.renderOutput(dataTable, element);\n",
              "        const docLink = document.createElement('div');\n",
              "        docLink.innerHTML = docLinkHtml;\n",
              "        element.appendChild(docLink);\n",
              "      }\n",
              "    </script>\n",
              "  </div>\n",
              "\n",
              "\n",
              "    <div id=\"df-2d6906e2-f773-4449-a7a8-e363143cd58f\">\n",
              "      <button class=\"colab-df-quickchart\" onclick=\"quickchart('df-2d6906e2-f773-4449-a7a8-e363143cd58f')\"\n",
              "                title=\"Suggest charts\"\n",
              "                style=\"display:none;\">\n",
              "\n",
              "<svg xmlns=\"http://www.w3.org/2000/svg\" height=\"24px\"viewBox=\"0 0 24 24\"\n",
              "     width=\"24px\">\n",
              "    <g>\n",
              "        <path d=\"M19 3H5c-1.1 0-2 .9-2 2v14c0 1.1.9 2 2 2h14c1.1 0 2-.9 2-2V5c0-1.1-.9-2-2-2zM9 17H7v-7h2v7zm4 0h-2V7h2v10zm4 0h-2v-4h2v4z\"/>\n",
              "    </g>\n",
              "</svg>\n",
              "      </button>\n",
              "\n",
              "<style>\n",
              "  .colab-df-quickchart {\n",
              "      --bg-color: #E8F0FE;\n",
              "      --fill-color: #1967D2;\n",
              "      --hover-bg-color: #E2EBFA;\n",
              "      --hover-fill-color: #174EA6;\n",
              "      --disabled-fill-color: #AAA;\n",
              "      --disabled-bg-color: #DDD;\n",
              "  }\n",
              "\n",
              "  [theme=dark] .colab-df-quickchart {\n",
              "      --bg-color: #3B4455;\n",
              "      --fill-color: #D2E3FC;\n",
              "      --hover-bg-color: #434B5C;\n",
              "      --hover-fill-color: #FFFFFF;\n",
              "      --disabled-bg-color: #3B4455;\n",
              "      --disabled-fill-color: #666;\n",
              "  }\n",
              "\n",
              "  .colab-df-quickchart {\n",
              "    background-color: var(--bg-color);\n",
              "    border: none;\n",
              "    border-radius: 50%;\n",
              "    cursor: pointer;\n",
              "    display: none;\n",
              "    fill: var(--fill-color);\n",
              "    height: 32px;\n",
              "    padding: 0;\n",
              "    width: 32px;\n",
              "  }\n",
              "\n",
              "  .colab-df-quickchart:hover {\n",
              "    background-color: var(--hover-bg-color);\n",
              "    box-shadow: 0 1px 2px rgba(60, 64, 67, 0.3), 0 1px 3px 1px rgba(60, 64, 67, 0.15);\n",
              "    fill: var(--button-hover-fill-color);\n",
              "  }\n",
              "\n",
              "  .colab-df-quickchart-complete:disabled,\n",
              "  .colab-df-quickchart-complete:disabled:hover {\n",
              "    background-color: var(--disabled-bg-color);\n",
              "    fill: var(--disabled-fill-color);\n",
              "    box-shadow: none;\n",
              "  }\n",
              "\n",
              "  .colab-df-spinner {\n",
              "    border: 2px solid var(--fill-color);\n",
              "    border-color: transparent;\n",
              "    border-bottom-color: var(--fill-color);\n",
              "    animation:\n",
              "      spin 1s steps(1) infinite;\n",
              "  }\n",
              "\n",
              "  @keyframes spin {\n",
              "    0% {\n",
              "      border-color: transparent;\n",
              "      border-bottom-color: var(--fill-color);\n",
              "      border-left-color: var(--fill-color);\n",
              "    }\n",
              "    20% {\n",
              "      border-color: transparent;\n",
              "      border-left-color: var(--fill-color);\n",
              "      border-top-color: var(--fill-color);\n",
              "    }\n",
              "    30% {\n",
              "      border-color: transparent;\n",
              "      border-left-color: var(--fill-color);\n",
              "      border-top-color: var(--fill-color);\n",
              "      border-right-color: var(--fill-color);\n",
              "    }\n",
              "    40% {\n",
              "      border-color: transparent;\n",
              "      border-right-color: var(--fill-color);\n",
              "      border-top-color: var(--fill-color);\n",
              "    }\n",
              "    60% {\n",
              "      border-color: transparent;\n",
              "      border-right-color: var(--fill-color);\n",
              "    }\n",
              "    80% {\n",
              "      border-color: transparent;\n",
              "      border-right-color: var(--fill-color);\n",
              "      border-bottom-color: var(--fill-color);\n",
              "    }\n",
              "    90% {\n",
              "      border-color: transparent;\n",
              "      border-bottom-color: var(--fill-color);\n",
              "    }\n",
              "  }\n",
              "</style>\n",
              "\n",
              "      <script>\n",
              "        async function quickchart(key) {\n",
              "          const quickchartButtonEl =\n",
              "            document.querySelector('#' + key + ' button');\n",
              "          quickchartButtonEl.disabled = true;  // To prevent multiple clicks.\n",
              "          quickchartButtonEl.classList.add('colab-df-spinner');\n",
              "          try {\n",
              "            const charts = await google.colab.kernel.invokeFunction(\n",
              "                'suggestCharts', [key], {});\n",
              "          } catch (error) {\n",
              "            console.error('Error during call to suggestCharts:', error);\n",
              "          }\n",
              "          quickchartButtonEl.classList.remove('colab-df-spinner');\n",
              "          quickchartButtonEl.classList.add('colab-df-quickchart-complete');\n",
              "        }\n",
              "        (() => {\n",
              "          let quickchartButtonEl =\n",
              "            document.querySelector('#df-2d6906e2-f773-4449-a7a8-e363143cd58f button');\n",
              "          quickchartButtonEl.style.display =\n",
              "            google.colab.kernel.accessAllowed ? 'block' : 'none';\n",
              "        })();\n",
              "      </script>\n",
              "    </div>\n",
              "\n",
              "  <div id=\"id_dafff935-86c9-4e64-83d2-c61bf0c24cf0\">\n",
              "    <style>\n",
              "      .colab-df-generate {\n",
              "        background-color: #E8F0FE;\n",
              "        border: none;\n",
              "        border-radius: 50%;\n",
              "        cursor: pointer;\n",
              "        display: none;\n",
              "        fill: #1967D2;\n",
              "        height: 32px;\n",
              "        padding: 0 0 0 0;\n",
              "        width: 32px;\n",
              "      }\n",
              "\n",
              "      .colab-df-generate:hover {\n",
              "        background-color: #E2EBFA;\n",
              "        box-shadow: 0px 1px 2px rgba(60, 64, 67, 0.3), 0px 1px 3px 1px rgba(60, 64, 67, 0.15);\n",
              "        fill: #174EA6;\n",
              "      }\n",
              "\n",
              "      [theme=dark] .colab-df-generate {\n",
              "        background-color: #3B4455;\n",
              "        fill: #D2E3FC;\n",
              "      }\n",
              "\n",
              "      [theme=dark] .colab-df-generate:hover {\n",
              "        background-color: #434B5C;\n",
              "        box-shadow: 0px 1px 3px 1px rgba(0, 0, 0, 0.15);\n",
              "        filter: drop-shadow(0px 1px 2px rgba(0, 0, 0, 0.3));\n",
              "        fill: #FFFFFF;\n",
              "      }\n",
              "    </style>\n",
              "    <button class=\"colab-df-generate\" onclick=\"generateWithVariable('base')\"\n",
              "            title=\"Generate code using this dataframe.\"\n",
              "            style=\"display:none;\">\n",
              "\n",
              "  <svg xmlns=\"http://www.w3.org/2000/svg\" height=\"24px\"viewBox=\"0 0 24 24\"\n",
              "       width=\"24px\">\n",
              "    <path d=\"M7,19H8.4L18.45,9,17,7.55,7,17.6ZM5,21V16.75L18.45,3.32a2,2,0,0,1,2.83,0l1.4,1.43a1.91,1.91,0,0,1,.58,1.4,1.91,1.91,0,0,1-.58,1.4L9.25,21ZM18.45,9,17,7.55Zm-12,3A5.31,5.31,0,0,0,4.9,8.1,5.31,5.31,0,0,0,1,6.5,5.31,5.31,0,0,0,4.9,4.9,5.31,5.31,0,0,0,6.5,1,5.31,5.31,0,0,0,8.1,4.9,5.31,5.31,0,0,0,12,6.5,5.46,5.46,0,0,0,6.5,12Z\"/>\n",
              "  </svg>\n",
              "    </button>\n",
              "    <script>\n",
              "      (() => {\n",
              "      const buttonEl =\n",
              "        document.querySelector('#id_dafff935-86c9-4e64-83d2-c61bf0c24cf0 button.colab-df-generate');\n",
              "      buttonEl.style.display =\n",
              "        google.colab.kernel.accessAllowed ? 'block' : 'none';\n",
              "\n",
              "      buttonEl.onclick = () => {\n",
              "        google.colab.notebook.generateWithVariable('base');\n",
              "      }\n",
              "      })();\n",
              "    </script>\n",
              "  </div>\n",
              "\n",
              "    </div>\n",
              "  </div>\n"
            ],
            "application/vnd.google.colaboratory.intrinsic+json": {
              "type": "dataframe",
              "variable_name": "base",
              "summary": "{\n  \"name\": \"base\",\n  \"rows\": 2331,\n  \"fields\": [\n    {\n      \"column\": \"c\",\n      \"properties\": {\n        \"dtype\": \"object\",\n        \"num_unique_values\": 2331,\n        \"samples\": [\n          \"2017-11-09 00:00:00-02:00\",\n          \"2021-05-11 00:00:00-03:00\",\n          \"2022-04-22 00:00:00-03:00\"\n        ],\n        \"semantic_type\": \"\",\n        \"description\": \"\"\n      }\n    },\n    {\n      \"column\": \"Open\",\n      \"properties\": {\n        \"dtype\": \"number\",\n        \"std\": 8.867887261727693,\n        \"min\": 5.903916252574184,\n        \"max\": 58.53967900605917,\n        \"num_unique_values\": 2319,\n        \"samples\": [\n          16.982500334794445,\n          15.225579797039064,\n          26.626287546921255\n        ],\n        \"semantic_type\": \"\",\n        \"description\": \"\"\n      }\n    },\n    {\n      \"column\": \"High\",\n      \"properties\": {\n        \"dtype\": \"number\",\n        \"std\": 9.005368966688653,\n        \"min\": 6.073741467141144,\n        \"max\": 58.75945084754641,\n        \"num_unique_values\": 2310,\n        \"samples\": [\n          14.065506009797044,\n          18.004413604736328,\n          15.993519678106557\n        ],\n        \"semantic_type\": \"\",\n        \"description\": \"\"\n      }\n    },\n    {\n      \"column\": \"Low\",\n      \"properties\": {\n        \"dtype\": \"number\",\n        \"std\": 8.744249049645699,\n        \"min\": 5.764060486507465,\n        \"max\": 57.47077784886415,\n        \"num_unique_values\": 2318,\n        \"samples\": [\n          17.671790897760573,\n          14.899317440164872,\n          26.15081835778897\n        ],\n        \"semantic_type\": \"\",\n        \"description\": \"\"\n      }\n    },\n    {\n      \"column\": \"Close\",\n      \"properties\": {\n        \"dtype\": \"number\",\n        \"std\": 8.887992067527104,\n        \"min\": 6.02379322052002,\n        \"max\": 58.42979431152344,\n        \"num_unique_values\": 1790,\n        \"samples\": [\n          9.02070426940918,\n          12.34727668762207,\n          16.79756736755371\n        ],\n        \"semantic_type\": \"\",\n        \"description\": \"\"\n      }\n    },\n    {\n      \"column\": \"Volume\",\n      \"properties\": {\n        \"dtype\": \"number\",\n        \"std\": 6517599,\n        \"min\": 0,\n        \"max\": 125473100,\n        \"num_unique_values\": 2294,\n        \"samples\": [\n          1851600,\n          11727400,\n          1580800\n        ],\n        \"semantic_type\": \"\",\n        \"description\": \"\"\n      }\n    }\n  ]\n}"
            }
          },
          "metadata": {},
          "execution_count": 6
        }
      ]
    },
    {
      "cell_type": "markdown",
      "source": [
        "Tratamento (verificar se há valores nulos)"
      ],
      "metadata": {
        "id": "Z_nJHMgdv5Px"
      }
    },
    {
      "cell_type": "code",
      "source": [
        "base.isnull().sum()"
      ],
      "metadata": {
        "colab": {
          "base_uri": "https://localhost:8080/",
          "height": 272
        },
        "id": "zqo41u6z1y18",
        "outputId": "1ccdee03-2a4c-4199-b2ad-28e7a0e4a1e2"
      },
      "execution_count": null,
      "outputs": [
        {
          "output_type": "execute_result",
          "data": {
            "text/plain": [
              "c         0\n",
              "Open      0\n",
              "High      0\n",
              "Low       0\n",
              "Close     0\n",
              "Volume    0\n",
              "dtype: int64"
            ],
            "text/html": [
              "<div>\n",
              "<style scoped>\n",
              "    .dataframe tbody tr th:only-of-type {\n",
              "        vertical-align: middle;\n",
              "    }\n",
              "\n",
              "    .dataframe tbody tr th {\n",
              "        vertical-align: top;\n",
              "    }\n",
              "\n",
              "    .dataframe thead th {\n",
              "        text-align: right;\n",
              "    }\n",
              "</style>\n",
              "<table border=\"1\" class=\"dataframe\">\n",
              "  <thead>\n",
              "    <tr style=\"text-align: right;\">\n",
              "      <th></th>\n",
              "      <th>0</th>\n",
              "    </tr>\n",
              "  </thead>\n",
              "  <tbody>\n",
              "    <tr>\n",
              "      <th>c</th>\n",
              "      <td>0</td>\n",
              "    </tr>\n",
              "    <tr>\n",
              "      <th>Open</th>\n",
              "      <td>0</td>\n",
              "    </tr>\n",
              "    <tr>\n",
              "      <th>High</th>\n",
              "      <td>0</td>\n",
              "    </tr>\n",
              "    <tr>\n",
              "      <th>Low</th>\n",
              "      <td>0</td>\n",
              "    </tr>\n",
              "    <tr>\n",
              "      <th>Close</th>\n",
              "      <td>0</td>\n",
              "    </tr>\n",
              "    <tr>\n",
              "      <th>Volume</th>\n",
              "      <td>0</td>\n",
              "    </tr>\n",
              "  </tbody>\n",
              "</table>\n",
              "</div><br><label><b>dtype:</b> int64</label>"
            ]
          },
          "metadata": {},
          "execution_count": 7
        }
      ]
    },
    {
      "cell_type": "markdown",
      "source": [
        "Caso existam valores faltantes usar (base = base.dropna())"
      ],
      "metadata": {
        "id": "dZNM5-h2zbAi"
      }
    },
    {
      "cell_type": "code",
      "source": [
        "base = base.dropna()"
      ],
      "metadata": {
        "id": "oogp-nC517Dt"
      },
      "execution_count": null,
      "outputs": []
    },
    {
      "cell_type": "code",
      "source": [
        "base.shape"
      ],
      "metadata": {
        "colab": {
          "base_uri": "https://localhost:8080/"
        },
        "id": "VXRrkyEp19ge",
        "outputId": "9a1e55e9-cb35-4f43-ae0d-2217cf3e0b9d"
      },
      "execution_count": null,
      "outputs": [
        {
          "output_type": "execute_result",
          "data": {
            "text/plain": [
              "(2331, 6)"
            ]
          },
          "metadata": {},
          "execution_count": 9
        }
      ]
    },
    {
      "cell_type": "markdown",
      "source": [
        "Selecionar a coluna open (que será usada para fazer as previsões)"
      ],
      "metadata": {
        "id": "woAiw2j0wCov"
      }
    },
    {
      "cell_type": "code",
      "source": [
        "base_treinamento = base.iloc[:, 1:2].values #.values para converter para o numpy"
      ],
      "metadata": {
        "id": "c16tOTx72Mpy"
      },
      "execution_count": null,
      "outputs": []
    },
    {
      "cell_type": "code",
      "source": [
        "base_treinamento"
      ],
      "metadata": {
        "colab": {
          "base_uri": "https://localhost:8080/"
        },
        "id": "jWwHh6422Zl7",
        "outputId": "58afc1c4-99bc-4b2a-dead-2cd8e9378d0c"
      },
      "execution_count": null,
      "outputs": [
        {
          "output_type": "execute_result",
          "data": {
            "text/plain": [
              "array([[21.98637374],\n",
              "       [21.70536898],\n",
              "       [20.84296754],\n",
              "       ...,\n",
              "       [56.34194607],\n",
              "       [56.78148878],\n",
              "       [56.44184035]])"
            ]
          },
          "metadata": {},
          "execution_count": 11
        }
      ]
    },
    {
      "cell_type": "markdown",
      "source": [
        "Normalização"
      ],
      "metadata": {
        "id": "Dtfy7BID0hyZ"
      }
    },
    {
      "cell_type": "code",
      "source": [
        "#aplicar uma normalização para otimizar o treinamento\n",
        "normalizador = MinMaxScaler(feature_range=(0, 1))\n",
        "base_treinamento_normalizada = normalizador.fit_transform(base_treinamento)\n",
        "base_treinamento_normalizada"
      ],
      "metadata": {
        "colab": {
          "base_uri": "https://localhost:8080/"
        },
        "id": "9XGHGqeJ2hyb",
        "outputId": "e037369e-e9f3-46eb-eb9f-372fea0fdf7b"
      },
      "execution_count": null,
      "outputs": [
        {
          "output_type": "execute_result",
          "data": {
            "text/plain": [
              "array([[0.3055424 ],\n",
              "       [0.30020374],\n",
              "       [0.28381941],\n",
              "       ...,\n",
              "       [0.95824639],\n",
              "       [0.96659704],\n",
              "       [0.96014423]])"
            ]
          },
          "metadata": {},
          "execution_count": 12
        }
      ]
    },
    {
      "cell_type": "code",
      "source": [
        "base_treinamento_normalizada.shape"
      ],
      "metadata": {
        "colab": {
          "base_uri": "https://localhost:8080/"
        },
        "id": "TzsQkFaO8GIn",
        "outputId": "a028559d-8c9e-402b-96ae-212962e3b5c8"
      },
      "execution_count": null,
      "outputs": [
        {
          "output_type": "execute_result",
          "data": {
            "text/plain": [
              "(2331, 1)"
            ]
          },
          "metadata": {},
          "execution_count": 13
        }
      ]
    },
    {
      "cell_type": "markdown",
      "source": [
        "Definição do intervalo de tempo necessário para a previsão (90 preços anteriores)"
      ],
      "metadata": {
        "id": "V1ckb4Zo05mB"
      }
    },
    {
      "cell_type": "code",
      "source": [
        "X = [] # previsores\n",
        "y = [] # preço real\n",
        "for i in range(90, 2331): # 90 preços anteriores\n",
        "  X.append(base_treinamento_normalizada[i - 90:i, 0])\n",
        "  y.append(base_treinamento_normalizada[i, 0])\n",
        "  #print(i, i - 90)\n",
        "X, y = np.array(X), np.array(y)"
      ],
      "metadata": {
        "id": "rYyydmR575tC"
      },
      "execution_count": null,
      "outputs": []
    },
    {
      "cell_type": "code",
      "source": [
        "X.shape"
      ],
      "metadata": {
        "colab": {
          "base_uri": "https://localhost:8080/"
        },
        "id": "1spATQOO95Uj",
        "outputId": "9ce27983-96c6-4c20-a3f2-071028aaddb9"
      },
      "execution_count": null,
      "outputs": [
        {
          "output_type": "execute_result",
          "data": {
            "text/plain": [
              "(2241, 90)"
            ]
          },
          "metadata": {},
          "execution_count": 15
        }
      ]
    },
    {
      "cell_type": "code",
      "source": [
        "y.shape"
      ],
      "metadata": {
        "colab": {
          "base_uri": "https://localhost:8080/"
        },
        "id": "HnOj1dT6-A1B",
        "outputId": "a43da27b-a211-42e2-d4d9-64521c2a4236"
      },
      "execution_count": null,
      "outputs": [
        {
          "output_type": "execute_result",
          "data": {
            "text/plain": [
              "(2241,)"
            ]
          },
          "metadata": {},
          "execution_count": 16
        }
      ]
    },
    {
      "cell_type": "code",
      "source": [
        "X[0], y[0] #mostra os 90 preços anteriores da posição selecionada"
      ],
      "metadata": {
        "colab": {
          "base_uri": "https://localhost:8080/"
        },
        "id": "WK55Fltj-LB5",
        "outputId": "ce32a148-58f1-4b58-a727-c5f8e35586dc"
      },
      "execution_count": null,
      "outputs": [
        {
          "output_type": "execute_result",
          "data": {
            "text/plain": [
              "(array([0.3055424 , 0.30020374, 0.28381941, 0.29302405, 0.29191958,\n",
              "        0.31677209, 0.30020372, 0.31364252, 0.30038784, 0.30425381,\n",
              "        0.32616085, 0.31677212, 0.33149963, 0.32744946, 0.3294746 ,\n",
              "        0.32155851, 0.32560866, 0.33831102, 0.34788389, 0.36021814,\n",
              "        0.36132273, 0.36279548, 0.3646364 , 0.37531381, 0.35267028,\n",
              "        0.35635217, 0.34935665, 0.35598404, 0.36371595, 0.35543178,\n",
              "        0.35340678, 0.36003404, 0.36187509, 0.35966589, 0.36831832,\n",
              "        0.37107968, 0.36647732, 0.36003405, 0.35377485, 0.36482052,\n",
              "        0.37752297, 0.37476162, 0.37310466, 0.37899568, 0.40219151,\n",
              "        0.39151402, 0.37697064, 0.39887777, 0.39409137, 0.40421645,\n",
              "        0.40881888, 0.42962137, 0.40881871, 0.41065977, 0.40881875,\n",
              "        0.393539  , 0.39538   , 0.39979825, 0.39501178, 0.41268476,\n",
              "        0.42612364, 0.42170533, 0.4217054 , 0.42409862, 0.43385552,\n",
              "        0.42630771, 0.42538724, 0.42409857, 0.42170533, 0.44490113,\n",
              "        0.43109412, 0.44398065, 0.43808962, 0.44287612, 0.44232377,\n",
              "        0.44029881, 0.43275105, 0.43146235, 0.42520319, 0.42667598,\n",
              "        0.41986438, 0.43477598, 0.42078492, 0.41342112, 0.41729076,\n",
              "        0.43480409, 0.42613954, 0.41286627, 0.41950294, 0.43351365]),\n",
              " np.float64(0.42982661790929966))"
            ]
          },
          "metadata": {},
          "execution_count": 17
        }
      ]
    },
    {
      "cell_type": "code",
      "source": [
        "base[0:90] #valores que serão usados para prever a posição 90"
      ],
      "metadata": {
        "colab": {
          "base_uri": "https://localhost:8080/",
          "height": 424
        },
        "id": "KiUOQ0fp_HCx",
        "outputId": "8caeb08f-308e-4b47-bc78-0b8a6d9db9ce"
      },
      "execution_count": null,
      "outputs": [
        {
          "output_type": "execute_result",
          "data": {
            "text/plain": [
              "                            c       Open       High        Low      Close  \\\n",
              "0   2015-08-20 00:00:00-03:00  21.986374  22.228621  21.802265  21.918545   \n",
              "1   2015-08-21 00:00:00-03:00  21.705369  21.966997  21.569711  21.763508   \n",
              "2   2015-08-24 00:00:00-03:00  20.842968  21.656919  20.029016  21.104595   \n",
              "3   2015-08-25 00:00:00-03:00  21.327460  21.656917  21.104593  21.220871   \n",
              "4   2015-08-26 00:00:00-03:00  21.269326  22.354593  20.959248  22.354593   \n",
              "..                        ...        ...        ...        ...        ...   \n",
              "85  2015-12-23 00:00:00-02:00  28.790161  28.790161  27.945960  28.217657   \n",
              "86  2015-12-28 00:00:00-02:00  28.334096  28.431129  27.780997  27.790701   \n",
              "87  2015-12-29 00:00:00-02:00  27.635447  28.304987  27.635447  28.198248   \n",
              "88  2015-12-30 00:00:00-02:00  27.984773  29.294741  27.965366  29.294741   \n",
              "89  2016-01-04 00:00:00-02:00  28.722238  29.032748  28.227361  28.450541   \n",
              "\n",
              "     Volume  \n",
              "0   1812600  \n",
              "1   1922000  \n",
              "2   3701900  \n",
              "3   2145900  \n",
              "4   2084700  \n",
              "..      ...  \n",
              "85  1117700  \n",
              "86   897900  \n",
              "87  1197900  \n",
              "88  4668700  \n",
              "89  1904900  \n",
              "\n",
              "[90 rows x 6 columns]"
            ],
            "text/html": [
              "\n",
              "  <div id=\"df-add60fbf-19c0-4ed8-be12-109b8a4a4372\" class=\"colab-df-container\">\n",
              "    <div>\n",
              "<style scoped>\n",
              "    .dataframe tbody tr th:only-of-type {\n",
              "        vertical-align: middle;\n",
              "    }\n",
              "\n",
              "    .dataframe tbody tr th {\n",
              "        vertical-align: top;\n",
              "    }\n",
              "\n",
              "    .dataframe thead th {\n",
              "        text-align: right;\n",
              "    }\n",
              "</style>\n",
              "<table border=\"1\" class=\"dataframe\">\n",
              "  <thead>\n",
              "    <tr style=\"text-align: right;\">\n",
              "      <th></th>\n",
              "      <th>c</th>\n",
              "      <th>Open</th>\n",
              "      <th>High</th>\n",
              "      <th>Low</th>\n",
              "      <th>Close</th>\n",
              "      <th>Volume</th>\n",
              "    </tr>\n",
              "  </thead>\n",
              "  <tbody>\n",
              "    <tr>\n",
              "      <th>0</th>\n",
              "      <td>2015-08-20 00:00:00-03:00</td>\n",
              "      <td>21.986374</td>\n",
              "      <td>22.228621</td>\n",
              "      <td>21.802265</td>\n",
              "      <td>21.918545</td>\n",
              "      <td>1812600</td>\n",
              "    </tr>\n",
              "    <tr>\n",
              "      <th>1</th>\n",
              "      <td>2015-08-21 00:00:00-03:00</td>\n",
              "      <td>21.705369</td>\n",
              "      <td>21.966997</td>\n",
              "      <td>21.569711</td>\n",
              "      <td>21.763508</td>\n",
              "      <td>1922000</td>\n",
              "    </tr>\n",
              "    <tr>\n",
              "      <th>2</th>\n",
              "      <td>2015-08-24 00:00:00-03:00</td>\n",
              "      <td>20.842968</td>\n",
              "      <td>21.656919</td>\n",
              "      <td>20.029016</td>\n",
              "      <td>21.104595</td>\n",
              "      <td>3701900</td>\n",
              "    </tr>\n",
              "    <tr>\n",
              "      <th>3</th>\n",
              "      <td>2015-08-25 00:00:00-03:00</td>\n",
              "      <td>21.327460</td>\n",
              "      <td>21.656917</td>\n",
              "      <td>21.104593</td>\n",
              "      <td>21.220871</td>\n",
              "      <td>2145900</td>\n",
              "    </tr>\n",
              "    <tr>\n",
              "      <th>4</th>\n",
              "      <td>2015-08-26 00:00:00-03:00</td>\n",
              "      <td>21.269326</td>\n",
              "      <td>22.354593</td>\n",
              "      <td>20.959248</td>\n",
              "      <td>22.354593</td>\n",
              "      <td>2084700</td>\n",
              "    </tr>\n",
              "    <tr>\n",
              "      <th>...</th>\n",
              "      <td>...</td>\n",
              "      <td>...</td>\n",
              "      <td>...</td>\n",
              "      <td>...</td>\n",
              "      <td>...</td>\n",
              "      <td>...</td>\n",
              "    </tr>\n",
              "    <tr>\n",
              "      <th>85</th>\n",
              "      <td>2015-12-23 00:00:00-02:00</td>\n",
              "      <td>28.790161</td>\n",
              "      <td>28.790161</td>\n",
              "      <td>27.945960</td>\n",
              "      <td>28.217657</td>\n",
              "      <td>1117700</td>\n",
              "    </tr>\n",
              "    <tr>\n",
              "      <th>86</th>\n",
              "      <td>2015-12-28 00:00:00-02:00</td>\n",
              "      <td>28.334096</td>\n",
              "      <td>28.431129</td>\n",
              "      <td>27.780997</td>\n",
              "      <td>27.790701</td>\n",
              "      <td>897900</td>\n",
              "    </tr>\n",
              "    <tr>\n",
              "      <th>87</th>\n",
              "      <td>2015-12-29 00:00:00-02:00</td>\n",
              "      <td>27.635447</td>\n",
              "      <td>28.304987</td>\n",
              "      <td>27.635447</td>\n",
              "      <td>28.198248</td>\n",
              "      <td>1197900</td>\n",
              "    </tr>\n",
              "    <tr>\n",
              "      <th>88</th>\n",
              "      <td>2015-12-30 00:00:00-02:00</td>\n",
              "      <td>27.984773</td>\n",
              "      <td>29.294741</td>\n",
              "      <td>27.965366</td>\n",
              "      <td>29.294741</td>\n",
              "      <td>4668700</td>\n",
              "    </tr>\n",
              "    <tr>\n",
              "      <th>89</th>\n",
              "      <td>2016-01-04 00:00:00-02:00</td>\n",
              "      <td>28.722238</td>\n",
              "      <td>29.032748</td>\n",
              "      <td>28.227361</td>\n",
              "      <td>28.450541</td>\n",
              "      <td>1904900</td>\n",
              "    </tr>\n",
              "  </tbody>\n",
              "</table>\n",
              "<p>90 rows × 6 columns</p>\n",
              "</div>\n",
              "    <div class=\"colab-df-buttons\">\n",
              "\n",
              "  <div class=\"colab-df-container\">\n",
              "    <button class=\"colab-df-convert\" onclick=\"convertToInteractive('df-add60fbf-19c0-4ed8-be12-109b8a4a4372')\"\n",
              "            title=\"Convert this dataframe to an interactive table.\"\n",
              "            style=\"display:none;\">\n",
              "\n",
              "  <svg xmlns=\"http://www.w3.org/2000/svg\" height=\"24px\" viewBox=\"0 -960 960 960\">\n",
              "    <path d=\"M120-120v-720h720v720H120Zm60-500h600v-160H180v160Zm220 220h160v-160H400v160Zm0 220h160v-160H400v160ZM180-400h160v-160H180v160Zm440 0h160v-160H620v160ZM180-180h160v-160H180v160Zm440 0h160v-160H620v160Z\"/>\n",
              "  </svg>\n",
              "    </button>\n",
              "\n",
              "  <style>\n",
              "    .colab-df-container {\n",
              "      display:flex;\n",
              "      gap: 12px;\n",
              "    }\n",
              "\n",
              "    .colab-df-convert {\n",
              "      background-color: #E8F0FE;\n",
              "      border: none;\n",
              "      border-radius: 50%;\n",
              "      cursor: pointer;\n",
              "      display: none;\n",
              "      fill: #1967D2;\n",
              "      height: 32px;\n",
              "      padding: 0 0 0 0;\n",
              "      width: 32px;\n",
              "    }\n",
              "\n",
              "    .colab-df-convert:hover {\n",
              "      background-color: #E2EBFA;\n",
              "      box-shadow: 0px 1px 2px rgba(60, 64, 67, 0.3), 0px 1px 3px 1px rgba(60, 64, 67, 0.15);\n",
              "      fill: #174EA6;\n",
              "    }\n",
              "\n",
              "    .colab-df-buttons div {\n",
              "      margin-bottom: 4px;\n",
              "    }\n",
              "\n",
              "    [theme=dark] .colab-df-convert {\n",
              "      background-color: #3B4455;\n",
              "      fill: #D2E3FC;\n",
              "    }\n",
              "\n",
              "    [theme=dark] .colab-df-convert:hover {\n",
              "      background-color: #434B5C;\n",
              "      box-shadow: 0px 1px 3px 1px rgba(0, 0, 0, 0.15);\n",
              "      filter: drop-shadow(0px 1px 2px rgba(0, 0, 0, 0.3));\n",
              "      fill: #FFFFFF;\n",
              "    }\n",
              "  </style>\n",
              "\n",
              "    <script>\n",
              "      const buttonEl =\n",
              "        document.querySelector('#df-add60fbf-19c0-4ed8-be12-109b8a4a4372 button.colab-df-convert');\n",
              "      buttonEl.style.display =\n",
              "        google.colab.kernel.accessAllowed ? 'block' : 'none';\n",
              "\n",
              "      async function convertToInteractive(key) {\n",
              "        const element = document.querySelector('#df-add60fbf-19c0-4ed8-be12-109b8a4a4372');\n",
              "        const dataTable =\n",
              "          await google.colab.kernel.invokeFunction('convertToInteractive',\n",
              "                                                    [key], {});\n",
              "        if (!dataTable) return;\n",
              "\n",
              "        const docLinkHtml = 'Like what you see? Visit the ' +\n",
              "          '<a target=\"_blank\" href=https://colab.research.google.com/notebooks/data_table.ipynb>data table notebook</a>'\n",
              "          + ' to learn more about interactive tables.';\n",
              "        element.innerHTML = '';\n",
              "        dataTable['output_type'] = 'display_data';\n",
              "        await google.colab.output.renderOutput(dataTable, element);\n",
              "        const docLink = document.createElement('div');\n",
              "        docLink.innerHTML = docLinkHtml;\n",
              "        element.appendChild(docLink);\n",
              "      }\n",
              "    </script>\n",
              "  </div>\n",
              "\n",
              "\n",
              "    <div id=\"df-888f8c34-ee8e-401b-9d57-2c76ebc21033\">\n",
              "      <button class=\"colab-df-quickchart\" onclick=\"quickchart('df-888f8c34-ee8e-401b-9d57-2c76ebc21033')\"\n",
              "                title=\"Suggest charts\"\n",
              "                style=\"display:none;\">\n",
              "\n",
              "<svg xmlns=\"http://www.w3.org/2000/svg\" height=\"24px\"viewBox=\"0 0 24 24\"\n",
              "     width=\"24px\">\n",
              "    <g>\n",
              "        <path d=\"M19 3H5c-1.1 0-2 .9-2 2v14c0 1.1.9 2 2 2h14c1.1 0 2-.9 2-2V5c0-1.1-.9-2-2-2zM9 17H7v-7h2v7zm4 0h-2V7h2v10zm4 0h-2v-4h2v4z\"/>\n",
              "    </g>\n",
              "</svg>\n",
              "      </button>\n",
              "\n",
              "<style>\n",
              "  .colab-df-quickchart {\n",
              "      --bg-color: #E8F0FE;\n",
              "      --fill-color: #1967D2;\n",
              "      --hover-bg-color: #E2EBFA;\n",
              "      --hover-fill-color: #174EA6;\n",
              "      --disabled-fill-color: #AAA;\n",
              "      --disabled-bg-color: #DDD;\n",
              "  }\n",
              "\n",
              "  [theme=dark] .colab-df-quickchart {\n",
              "      --bg-color: #3B4455;\n",
              "      --fill-color: #D2E3FC;\n",
              "      --hover-bg-color: #434B5C;\n",
              "      --hover-fill-color: #FFFFFF;\n",
              "      --disabled-bg-color: #3B4455;\n",
              "      --disabled-fill-color: #666;\n",
              "  }\n",
              "\n",
              "  .colab-df-quickchart {\n",
              "    background-color: var(--bg-color);\n",
              "    border: none;\n",
              "    border-radius: 50%;\n",
              "    cursor: pointer;\n",
              "    display: none;\n",
              "    fill: var(--fill-color);\n",
              "    height: 32px;\n",
              "    padding: 0;\n",
              "    width: 32px;\n",
              "  }\n",
              "\n",
              "  .colab-df-quickchart:hover {\n",
              "    background-color: var(--hover-bg-color);\n",
              "    box-shadow: 0 1px 2px rgba(60, 64, 67, 0.3), 0 1px 3px 1px rgba(60, 64, 67, 0.15);\n",
              "    fill: var(--button-hover-fill-color);\n",
              "  }\n",
              "\n",
              "  .colab-df-quickchart-complete:disabled,\n",
              "  .colab-df-quickchart-complete:disabled:hover {\n",
              "    background-color: var(--disabled-bg-color);\n",
              "    fill: var(--disabled-fill-color);\n",
              "    box-shadow: none;\n",
              "  }\n",
              "\n",
              "  .colab-df-spinner {\n",
              "    border: 2px solid var(--fill-color);\n",
              "    border-color: transparent;\n",
              "    border-bottom-color: var(--fill-color);\n",
              "    animation:\n",
              "      spin 1s steps(1) infinite;\n",
              "  }\n",
              "\n",
              "  @keyframes spin {\n",
              "    0% {\n",
              "      border-color: transparent;\n",
              "      border-bottom-color: var(--fill-color);\n",
              "      border-left-color: var(--fill-color);\n",
              "    }\n",
              "    20% {\n",
              "      border-color: transparent;\n",
              "      border-left-color: var(--fill-color);\n",
              "      border-top-color: var(--fill-color);\n",
              "    }\n",
              "    30% {\n",
              "      border-color: transparent;\n",
              "      border-left-color: var(--fill-color);\n",
              "      border-top-color: var(--fill-color);\n",
              "      border-right-color: var(--fill-color);\n",
              "    }\n",
              "    40% {\n",
              "      border-color: transparent;\n",
              "      border-right-color: var(--fill-color);\n",
              "      border-top-color: var(--fill-color);\n",
              "    }\n",
              "    60% {\n",
              "      border-color: transparent;\n",
              "      border-right-color: var(--fill-color);\n",
              "    }\n",
              "    80% {\n",
              "      border-color: transparent;\n",
              "      border-right-color: var(--fill-color);\n",
              "      border-bottom-color: var(--fill-color);\n",
              "    }\n",
              "    90% {\n",
              "      border-color: transparent;\n",
              "      border-bottom-color: var(--fill-color);\n",
              "    }\n",
              "  }\n",
              "</style>\n",
              "\n",
              "      <script>\n",
              "        async function quickchart(key) {\n",
              "          const quickchartButtonEl =\n",
              "            document.querySelector('#' + key + ' button');\n",
              "          quickchartButtonEl.disabled = true;  // To prevent multiple clicks.\n",
              "          quickchartButtonEl.classList.add('colab-df-spinner');\n",
              "          try {\n",
              "            const charts = await google.colab.kernel.invokeFunction(\n",
              "                'suggestCharts', [key], {});\n",
              "          } catch (error) {\n",
              "            console.error('Error during call to suggestCharts:', error);\n",
              "          }\n",
              "          quickchartButtonEl.classList.remove('colab-df-spinner');\n",
              "          quickchartButtonEl.classList.add('colab-df-quickchart-complete');\n",
              "        }\n",
              "        (() => {\n",
              "          let quickchartButtonEl =\n",
              "            document.querySelector('#df-888f8c34-ee8e-401b-9d57-2c76ebc21033 button');\n",
              "          quickchartButtonEl.style.display =\n",
              "            google.colab.kernel.accessAllowed ? 'block' : 'none';\n",
              "        })();\n",
              "      </script>\n",
              "    </div>\n",
              "\n",
              "    </div>\n",
              "  </div>\n"
            ],
            "application/vnd.google.colaboratory.intrinsic+json": {
              "type": "dataframe",
              "summary": "{\n  \"name\": \"base[0:90]\",\n  \"rows\": 90,\n  \"fields\": [\n    {\n      \"column\": \"c\",\n      \"properties\": {\n        \"dtype\": \"object\",\n        \"num_unique_values\": 90,\n        \"samples\": [\n          \"2015-10-19 00:00:00-02:00\",\n          \"2015-09-22 00:00:00-03:00\",\n          \"2015-11-10 00:00:00-02:00\"\n        ],\n        \"semantic_type\": \"\",\n        \"description\": \"\"\n      }\n    },\n    {\n      \"column\": \"Open\",\n      \"properties\": {\n        \"dtype\": \"number\",\n        \"std\": 2.3563367984512444,\n        \"min\": 20.842967535977245,\n        \"max\": 29.321626775105653,\n        \"num_unique_values\": 90,\n        \"samples\": [\n          25.77512599143947,\n          25.096831049257517,\n          26.618141874694448\n        ],\n        \"semantic_type\": \"\",\n        \"description\": \"\"\n      }\n    },\n    {\n      \"column\": \"High\",\n      \"properties\": {\n        \"dtype\": \"number\",\n        \"std\": 2.3693602539683774,\n        \"min\": 21.656917012494024,\n        \"max\": 29.854570375970702,\n        \"num_unique_values\": 90,\n        \"samples\": [\n          25.9592345490915,\n          25.72667393916493,\n          27.112326759580984\n        ],\n        \"semantic_type\": \"\",\n        \"description\": \"\"\n      }\n    },\n    {\n      \"column\": \"Low\",\n      \"properties\": {\n        \"dtype\": \"number\",\n        \"std\": 2.330198934315705,\n        \"min\": 20.029016084359085,\n        \"max\": 29.15689849853516,\n        \"num_unique_values\": 90,\n        \"samples\": [\n          25.358460131164367,\n          25.00962183469484,\n          26.453413579732267\n        ],\n        \"semantic_type\": \"\",\n        \"description\": \"\"\n      }\n    },\n    {\n      \"column\": \"Close\",\n      \"properties\": {\n        \"dtype\": \"number\",\n        \"std\": 2.315024223365459,\n        \"min\": 21.10459518432617,\n        \"max\": 29.45728302001953,\n        \"num_unique_values\": 83,\n        \"samples\": [\n          25.43597984313965,\n          21.91854476928711,\n          24.641407012939453\n        ],\n        \"semantic_type\": \"\",\n        \"description\": \"\"\n      }\n    },\n    {\n      \"column\": \"Volume\",\n      \"properties\": {\n        \"dtype\": \"number\",\n        \"std\": 949575,\n        \"min\": 188000,\n        \"max\": 5592700,\n        \"num_unique_values\": 90,\n        \"samples\": [\n          1136500,\n          1642300,\n          1104600\n        ],\n        \"semantic_type\": \"\",\n        \"description\": \"\"\n      }\n    }\n  ]\n}"
            }
          },
          "metadata": {},
          "execution_count": 18
        }
      ]
    },
    {
      "cell_type": "code",
      "source": [
        "X.shape, X.shape[1]"
      ],
      "metadata": {
        "colab": {
          "base_uri": "https://localhost:8080/"
        },
        "id": "O6qHHGt7s_iv",
        "outputId": "f02d8807-ab54-4e5f-af69-4e9142604779"
      },
      "execution_count": null,
      "outputs": [
        {
          "output_type": "execute_result",
          "data": {
            "text/plain": [
              "((2241, 90), 90)"
            ]
          },
          "metadata": {},
          "execution_count": 19
        }
      ]
    },
    {
      "cell_type": "markdown",
      "source": [
        "Criação das camadas LSTM"
      ],
      "metadata": {
        "id": "yBcKCDzr9fEw"
      }
    },
    {
      "cell_type": "code",
      "source": [
        "regressor = Sequential()\n",
        "\n",
        "regressor.add(LSTM(units = 100, return_sequences=True, input_shape = (X.shape[1], 1)))\n",
        "regressor.add(Dropout(0.3))\n",
        "\n",
        "regressor.add(LSTM(units = 50, return_sequences=True))\n",
        "regressor.add(Dropout(0.3))\n",
        "\n",
        "regressor.add(LSTM(units = 50, return_sequences=True))\n",
        "regressor.add(Dropout(0.3))\n",
        "\n",
        "regressor.add(LSTM(units = 50)) #aqui os dados não serão reeviados\n",
        "regressor.add(Dropout(0.3))\n",
        "\n",
        "regressor.add(Dense(units = 1, activation = 'linear')) #para problemas de regressão usar a função linear\n",
        "\n",
        "regressor.summary()"
      ],
      "metadata": {
        "colab": {
          "base_uri": "https://localhost:8080/",
          "height": 472
        },
        "id": "--LPq2AksKSE",
        "outputId": "e04159e5-104e-4345-a6dd-b4c6c21cb7fc"
      },
      "execution_count": null,
      "outputs": [
        {
          "output_type": "stream",
          "name": "stderr",
          "text": [
            "/usr/local/lib/python3.12/dist-packages/keras/src/layers/rnn/rnn.py:199: UserWarning: Do not pass an `input_shape`/`input_dim` argument to a layer. When using Sequential models, prefer using an `Input(shape)` object as the first layer in the model instead.\n",
            "  super().__init__(**kwargs)\n"
          ]
        },
        {
          "output_type": "display_data",
          "data": {
            "text/plain": [
              "\u001b[1mModel: \"sequential\"\u001b[0m\n"
            ],
            "text/html": [
              "<pre style=\"white-space:pre;overflow-x:auto;line-height:normal;font-family:Menlo,'DejaVu Sans Mono',consolas,'Courier New',monospace\"><span style=\"font-weight: bold\">Model: \"sequential\"</span>\n",
              "</pre>\n"
            ]
          },
          "metadata": {}
        },
        {
          "output_type": "display_data",
          "data": {
            "text/plain": [
              "┏━━━━━━━━━━━━━━━━━━━━━━━━━━━━━━━━━┳━━━━━━━━━━━━━━━━━━━━━━━━┳━━━━━━━━━━━━━━━┓\n",
              "┃\u001b[1m \u001b[0m\u001b[1mLayer (type)                   \u001b[0m\u001b[1m \u001b[0m┃\u001b[1m \u001b[0m\u001b[1mOutput Shape          \u001b[0m\u001b[1m \u001b[0m┃\u001b[1m \u001b[0m\u001b[1m      Param #\u001b[0m\u001b[1m \u001b[0m┃\n",
              "┡━━━━━━━━━━━━━━━━━━━━━━━━━━━━━━━━━╇━━━━━━━━━━━━━━━━━━━━━━━━╇━━━━━━━━━━━━━━━┩\n",
              "│ lstm (\u001b[38;5;33mLSTM\u001b[0m)                     │ (\u001b[38;5;45mNone\u001b[0m, \u001b[38;5;34m90\u001b[0m, \u001b[38;5;34m100\u001b[0m)        │        \u001b[38;5;34m40,800\u001b[0m │\n",
              "├─────────────────────────────────┼────────────────────────┼───────────────┤\n",
              "│ dropout (\u001b[38;5;33mDropout\u001b[0m)               │ (\u001b[38;5;45mNone\u001b[0m, \u001b[38;5;34m90\u001b[0m, \u001b[38;5;34m100\u001b[0m)        │             \u001b[38;5;34m0\u001b[0m │\n",
              "├─────────────────────────────────┼────────────────────────┼───────────────┤\n",
              "│ lstm_1 (\u001b[38;5;33mLSTM\u001b[0m)                   │ (\u001b[38;5;45mNone\u001b[0m, \u001b[38;5;34m90\u001b[0m, \u001b[38;5;34m50\u001b[0m)         │        \u001b[38;5;34m30,200\u001b[0m │\n",
              "├─────────────────────────────────┼────────────────────────┼───────────────┤\n",
              "│ dropout_1 (\u001b[38;5;33mDropout\u001b[0m)             │ (\u001b[38;5;45mNone\u001b[0m, \u001b[38;5;34m90\u001b[0m, \u001b[38;5;34m50\u001b[0m)         │             \u001b[38;5;34m0\u001b[0m │\n",
              "├─────────────────────────────────┼────────────────────────┼───────────────┤\n",
              "│ lstm_2 (\u001b[38;5;33mLSTM\u001b[0m)                   │ (\u001b[38;5;45mNone\u001b[0m, \u001b[38;5;34m90\u001b[0m, \u001b[38;5;34m50\u001b[0m)         │        \u001b[38;5;34m20,200\u001b[0m │\n",
              "├─────────────────────────────────┼────────────────────────┼───────────────┤\n",
              "│ dropout_2 (\u001b[38;5;33mDropout\u001b[0m)             │ (\u001b[38;5;45mNone\u001b[0m, \u001b[38;5;34m90\u001b[0m, \u001b[38;5;34m50\u001b[0m)         │             \u001b[38;5;34m0\u001b[0m │\n",
              "├─────────────────────────────────┼────────────────────────┼───────────────┤\n",
              "│ lstm_3 (\u001b[38;5;33mLSTM\u001b[0m)                   │ (\u001b[38;5;45mNone\u001b[0m, \u001b[38;5;34m50\u001b[0m)             │        \u001b[38;5;34m20,200\u001b[0m │\n",
              "├─────────────────────────────────┼────────────────────────┼───────────────┤\n",
              "│ dropout_3 (\u001b[38;5;33mDropout\u001b[0m)             │ (\u001b[38;5;45mNone\u001b[0m, \u001b[38;5;34m50\u001b[0m)             │             \u001b[38;5;34m0\u001b[0m │\n",
              "├─────────────────────────────────┼────────────────────────┼───────────────┤\n",
              "│ dense (\u001b[38;5;33mDense\u001b[0m)                   │ (\u001b[38;5;45mNone\u001b[0m, \u001b[38;5;34m1\u001b[0m)              │            \u001b[38;5;34m51\u001b[0m │\n",
              "└─────────────────────────────────┴────────────────────────┴───────────────┘\n"
            ],
            "text/html": [
              "<pre style=\"white-space:pre;overflow-x:auto;line-height:normal;font-family:Menlo,'DejaVu Sans Mono',consolas,'Courier New',monospace\">┏━━━━━━━━━━━━━━━━━━━━━━━━━━━━━━━━━┳━━━━━━━━━━━━━━━━━━━━━━━━┳━━━━━━━━━━━━━━━┓\n",
              "┃<span style=\"font-weight: bold\"> Layer (type)                    </span>┃<span style=\"font-weight: bold\"> Output Shape           </span>┃<span style=\"font-weight: bold\">       Param # </span>┃\n",
              "┡━━━━━━━━━━━━━━━━━━━━━━━━━━━━━━━━━╇━━━━━━━━━━━━━━━━━━━━━━━━╇━━━━━━━━━━━━━━━┩\n",
              "│ lstm (<span style=\"color: #0087ff; text-decoration-color: #0087ff\">LSTM</span>)                     │ (<span style=\"color: #00d7ff; text-decoration-color: #00d7ff\">None</span>, <span style=\"color: #00af00; text-decoration-color: #00af00\">90</span>, <span style=\"color: #00af00; text-decoration-color: #00af00\">100</span>)        │        <span style=\"color: #00af00; text-decoration-color: #00af00\">40,800</span> │\n",
              "├─────────────────────────────────┼────────────────────────┼───────────────┤\n",
              "│ dropout (<span style=\"color: #0087ff; text-decoration-color: #0087ff\">Dropout</span>)               │ (<span style=\"color: #00d7ff; text-decoration-color: #00d7ff\">None</span>, <span style=\"color: #00af00; text-decoration-color: #00af00\">90</span>, <span style=\"color: #00af00; text-decoration-color: #00af00\">100</span>)        │             <span style=\"color: #00af00; text-decoration-color: #00af00\">0</span> │\n",
              "├─────────────────────────────────┼────────────────────────┼───────────────┤\n",
              "│ lstm_1 (<span style=\"color: #0087ff; text-decoration-color: #0087ff\">LSTM</span>)                   │ (<span style=\"color: #00d7ff; text-decoration-color: #00d7ff\">None</span>, <span style=\"color: #00af00; text-decoration-color: #00af00\">90</span>, <span style=\"color: #00af00; text-decoration-color: #00af00\">50</span>)         │        <span style=\"color: #00af00; text-decoration-color: #00af00\">30,200</span> │\n",
              "├─────────────────────────────────┼────────────────────────┼───────────────┤\n",
              "│ dropout_1 (<span style=\"color: #0087ff; text-decoration-color: #0087ff\">Dropout</span>)             │ (<span style=\"color: #00d7ff; text-decoration-color: #00d7ff\">None</span>, <span style=\"color: #00af00; text-decoration-color: #00af00\">90</span>, <span style=\"color: #00af00; text-decoration-color: #00af00\">50</span>)         │             <span style=\"color: #00af00; text-decoration-color: #00af00\">0</span> │\n",
              "├─────────────────────────────────┼────────────────────────┼───────────────┤\n",
              "│ lstm_2 (<span style=\"color: #0087ff; text-decoration-color: #0087ff\">LSTM</span>)                   │ (<span style=\"color: #00d7ff; text-decoration-color: #00d7ff\">None</span>, <span style=\"color: #00af00; text-decoration-color: #00af00\">90</span>, <span style=\"color: #00af00; text-decoration-color: #00af00\">50</span>)         │        <span style=\"color: #00af00; text-decoration-color: #00af00\">20,200</span> │\n",
              "├─────────────────────────────────┼────────────────────────┼───────────────┤\n",
              "│ dropout_2 (<span style=\"color: #0087ff; text-decoration-color: #0087ff\">Dropout</span>)             │ (<span style=\"color: #00d7ff; text-decoration-color: #00d7ff\">None</span>, <span style=\"color: #00af00; text-decoration-color: #00af00\">90</span>, <span style=\"color: #00af00; text-decoration-color: #00af00\">50</span>)         │             <span style=\"color: #00af00; text-decoration-color: #00af00\">0</span> │\n",
              "├─────────────────────────────────┼────────────────────────┼───────────────┤\n",
              "│ lstm_3 (<span style=\"color: #0087ff; text-decoration-color: #0087ff\">LSTM</span>)                   │ (<span style=\"color: #00d7ff; text-decoration-color: #00d7ff\">None</span>, <span style=\"color: #00af00; text-decoration-color: #00af00\">50</span>)             │        <span style=\"color: #00af00; text-decoration-color: #00af00\">20,200</span> │\n",
              "├─────────────────────────────────┼────────────────────────┼───────────────┤\n",
              "│ dropout_3 (<span style=\"color: #0087ff; text-decoration-color: #0087ff\">Dropout</span>)             │ (<span style=\"color: #00d7ff; text-decoration-color: #00d7ff\">None</span>, <span style=\"color: #00af00; text-decoration-color: #00af00\">50</span>)             │             <span style=\"color: #00af00; text-decoration-color: #00af00\">0</span> │\n",
              "├─────────────────────────────────┼────────────────────────┼───────────────┤\n",
              "│ dense (<span style=\"color: #0087ff; text-decoration-color: #0087ff\">Dense</span>)                   │ (<span style=\"color: #00d7ff; text-decoration-color: #00d7ff\">None</span>, <span style=\"color: #00af00; text-decoration-color: #00af00\">1</span>)              │            <span style=\"color: #00af00; text-decoration-color: #00af00\">51</span> │\n",
              "└─────────────────────────────────┴────────────────────────┴───────────────┘\n",
              "</pre>\n"
            ]
          },
          "metadata": {}
        },
        {
          "output_type": "display_data",
          "data": {
            "text/plain": [
              "\u001b[1m Total params: \u001b[0m\u001b[38;5;34m111,451\u001b[0m (435.36 KB)\n"
            ],
            "text/html": [
              "<pre style=\"white-space:pre;overflow-x:auto;line-height:normal;font-family:Menlo,'DejaVu Sans Mono',consolas,'Courier New',monospace\"><span style=\"font-weight: bold\"> Total params: </span><span style=\"color: #00af00; text-decoration-color: #00af00\">111,451</span> (435.36 KB)\n",
              "</pre>\n"
            ]
          },
          "metadata": {}
        },
        {
          "output_type": "display_data",
          "data": {
            "text/plain": [
              "\u001b[1m Trainable params: \u001b[0m\u001b[38;5;34m111,451\u001b[0m (435.36 KB)\n"
            ],
            "text/html": [
              "<pre style=\"white-space:pre;overflow-x:auto;line-height:normal;font-family:Menlo,'DejaVu Sans Mono',consolas,'Courier New',monospace\"><span style=\"font-weight: bold\"> Trainable params: </span><span style=\"color: #00af00; text-decoration-color: #00af00\">111,451</span> (435.36 KB)\n",
              "</pre>\n"
            ]
          },
          "metadata": {}
        },
        {
          "output_type": "display_data",
          "data": {
            "text/plain": [
              "\u001b[1m Non-trainable params: \u001b[0m\u001b[38;5;34m0\u001b[0m (0.00 B)\n"
            ],
            "text/html": [
              "<pre style=\"white-space:pre;overflow-x:auto;line-height:normal;font-family:Menlo,'DejaVu Sans Mono',consolas,'Courier New',monospace\"><span style=\"font-weight: bold\"> Non-trainable params: </span><span style=\"color: #00af00; text-decoration-color: #00af00\">0</span> (0.00 B)\n",
              "</pre>\n"
            ]
          },
          "metadata": {}
        }
      ]
    },
    {
      "cell_type": "markdown",
      "source": [
        "\n",
        "1.   Otimização com 'rmsprop.\n",
        "2.   Os erros no treinemento serão avaliados com 'mean_squared_error'(erros maiores terão pesos maiores).\n",
        "\n",
        "Para avialiaçao do algoritmo será usado o 'mean_absolute_error'\n"
      ],
      "metadata": {
        "id": "KpoDerc8-Ty8"
      }
    },
    {
      "cell_type": "code",
      "source": [
        "regressor.compile(optimizer = 'rmsprop', loss = 'mean_squared_error', metrics = ['mean_absolute_error'])"
      ],
      "metadata": {
        "id": "zBKZsXN9uIeh"
      },
      "execution_count": null,
      "outputs": []
    },
    {
      "cell_type": "code",
      "source": [
        "regressor.fit(X, y, epochs = 100, batch_size = 32)"
      ],
      "metadata": {
        "colab": {
          "base_uri": "https://localhost:8080/"
        },
        "id": "UBglcR5vuadC",
        "outputId": "948d197d-e173-4c0d-a0d7-c7695bfe7e46"
      },
      "execution_count": null,
      "outputs": [
        {
          "output_type": "stream",
          "name": "stdout",
          "text": [
            "Epoch 1/100\n",
            "\u001b[1m71/71\u001b[0m \u001b[32m━━━━━━━━━━━━━━━━━━━━\u001b[0m\u001b[37m\u001b[0m \u001b[1m21s\u001b[0m 210ms/step - loss: 0.0177 - mean_absolute_error: 0.0926\n",
            "Epoch 2/100\n",
            "\u001b[1m71/71\u001b[0m \u001b[32m━━━━━━━━━━━━━━━━━━━━\u001b[0m\u001b[37m\u001b[0m \u001b[1m21s\u001b[0m 216ms/step - loss: 0.0063 - mean_absolute_error: 0.0541\n",
            "Epoch 3/100\n",
            "\u001b[1m71/71\u001b[0m \u001b[32m━━━━━━━━━━━━━━━━━━━━\u001b[0m\u001b[37m\u001b[0m \u001b[1m15s\u001b[0m 205ms/step - loss: 0.0048 - mean_absolute_error: 0.0482\n",
            "Epoch 4/100\n",
            "\u001b[1m71/71\u001b[0m \u001b[32m━━━━━━━━━━━━━━━━━━━━\u001b[0m\u001b[37m\u001b[0m \u001b[1m15s\u001b[0m 207ms/step - loss: 0.0034 - mean_absolute_error: 0.0407\n",
            "Epoch 5/100\n",
            "\u001b[1m71/71\u001b[0m \u001b[32m━━━━━━━━━━━━━━━━━━━━\u001b[0m\u001b[37m\u001b[0m \u001b[1m15s\u001b[0m 206ms/step - loss: 0.0027 - mean_absolute_error: 0.0364\n",
            "Epoch 6/100\n",
            "\u001b[1m71/71\u001b[0m \u001b[32m━━━━━━━━━━━━━━━━━━━━\u001b[0m\u001b[37m\u001b[0m \u001b[1m20s\u001b[0m 205ms/step - loss: 0.0025 - mean_absolute_error: 0.0350\n",
            "Epoch 7/100\n",
            "\u001b[1m71/71\u001b[0m \u001b[32m━━━━━━━━━━━━━━━━━━━━\u001b[0m\u001b[37m\u001b[0m \u001b[1m15s\u001b[0m 206ms/step - loss: 0.0023 - mean_absolute_error: 0.0343\n",
            "Epoch 8/100\n",
            "\u001b[1m71/71\u001b[0m \u001b[32m━━━━━━━━━━━━━━━━━━━━\u001b[0m\u001b[37m\u001b[0m \u001b[1m20s\u001b[0m 205ms/step - loss: 0.0024 - mean_absolute_error: 0.0349\n",
            "Epoch 9/100\n",
            "\u001b[1m71/71\u001b[0m \u001b[32m━━━━━━━━━━━━━━━━━━━━\u001b[0m\u001b[37m\u001b[0m \u001b[1m21s\u001b[0m 206ms/step - loss: 0.0024 - mean_absolute_error: 0.0339\n",
            "Epoch 10/100\n",
            "\u001b[1m71/71\u001b[0m \u001b[32m━━━━━━━━━━━━━━━━━━━━\u001b[0m\u001b[37m\u001b[0m \u001b[1m15s\u001b[0m 205ms/step - loss: 0.0020 - mean_absolute_error: 0.0326\n",
            "Epoch 11/100\n",
            "\u001b[1m71/71\u001b[0m \u001b[32m━━━━━━━━━━━━━━━━━━━━\u001b[0m\u001b[37m\u001b[0m \u001b[1m20s\u001b[0m 198ms/step - loss: 0.0019 - mean_absolute_error: 0.0311\n",
            "Epoch 12/100\n",
            "\u001b[1m71/71\u001b[0m \u001b[32m━━━━━━━━━━━━━━━━━━━━\u001b[0m\u001b[37m\u001b[0m \u001b[1m21s\u001b[0m 206ms/step - loss: 0.0016 - mean_absolute_error: 0.0293\n",
            "Epoch 13/100\n",
            "\u001b[1m71/71\u001b[0m \u001b[32m━━━━━━━━━━━━━━━━━━━━\u001b[0m\u001b[37m\u001b[0m \u001b[1m15s\u001b[0m 205ms/step - loss: 0.0018 - mean_absolute_error: 0.0301\n",
            "Epoch 14/100\n",
            "\u001b[1m71/71\u001b[0m \u001b[32m━━━━━━━━━━━━━━━━━━━━\u001b[0m\u001b[37m\u001b[0m \u001b[1m15s\u001b[0m 206ms/step - loss: 0.0015 - mean_absolute_error: 0.0278\n",
            "Epoch 15/100\n",
            "\u001b[1m71/71\u001b[0m \u001b[32m━━━━━━━━━━━━━━━━━━━━\u001b[0m\u001b[37m\u001b[0m \u001b[1m24s\u001b[0m 252ms/step - loss: 0.0017 - mean_absolute_error: 0.0288\n",
            "Epoch 16/100\n",
            "\u001b[1m71/71\u001b[0m \u001b[32m━━━━━━━━━━━━━━━━━━━━\u001b[0m\u001b[37m\u001b[0m \u001b[1m14s\u001b[0m 199ms/step - loss: 0.0015 - mean_absolute_error: 0.0280\n",
            "Epoch 17/100\n",
            "\u001b[1m71/71\u001b[0m \u001b[32m━━━━━━━━━━━━━━━━━━━━\u001b[0m\u001b[37m\u001b[0m \u001b[1m21s\u001b[0m 206ms/step - loss: 0.0018 - mean_absolute_error: 0.0282\n",
            "Epoch 18/100\n",
            "\u001b[1m71/71\u001b[0m \u001b[32m━━━━━━━━━━━━━━━━━━━━\u001b[0m\u001b[37m\u001b[0m \u001b[1m15s\u001b[0m 205ms/step - loss: 0.0015 - mean_absolute_error: 0.0267\n",
            "Epoch 19/100\n",
            "\u001b[1m71/71\u001b[0m \u001b[32m━━━━━━━━━━━━━━━━━━━━\u001b[0m\u001b[37m\u001b[0m \u001b[1m15s\u001b[0m 206ms/step - loss: 0.0014 - mean_absolute_error: 0.0252\n",
            "Epoch 20/100\n",
            "\u001b[1m71/71\u001b[0m \u001b[32m━━━━━━━━━━━━━━━━━━━━\u001b[0m\u001b[37m\u001b[0m \u001b[1m15s\u001b[0m 206ms/step - loss: 0.0013 - mean_absolute_error: 0.0255\n",
            "Epoch 21/100\n",
            "\u001b[1m71/71\u001b[0m \u001b[32m━━━━━━━━━━━━━━━━━━━━\u001b[0m\u001b[37m\u001b[0m \u001b[1m15s\u001b[0m 206ms/step - loss: 0.0016 - mean_absolute_error: 0.0265\n",
            "Epoch 22/100\n",
            "\u001b[1m71/71\u001b[0m \u001b[32m━━━━━━━━━━━━━━━━━━━━\u001b[0m\u001b[37m\u001b[0m \u001b[1m15s\u001b[0m 206ms/step - loss: 0.0016 - mean_absolute_error: 0.0268\n",
            "Epoch 23/100\n",
            "\u001b[1m71/71\u001b[0m \u001b[32m━━━━━━━━━━━━━━━━━━━━\u001b[0m\u001b[37m\u001b[0m \u001b[1m20s\u001b[0m 206ms/step - loss: 0.0014 - mean_absolute_error: 0.0261\n",
            "Epoch 24/100\n",
            "\u001b[1m71/71\u001b[0m \u001b[32m━━━━━━━━━━━━━━━━━━━━\u001b[0m\u001b[37m\u001b[0m \u001b[1m20s\u001b[0m 205ms/step - loss: 0.0014 - mean_absolute_error: 0.0259\n",
            "Epoch 25/100\n",
            "\u001b[1m71/71\u001b[0m \u001b[32m━━━━━━━━━━━━━━━━━━━━\u001b[0m\u001b[37m\u001b[0m \u001b[1m20s\u001b[0m 205ms/step - loss: 0.0012 - mean_absolute_error: 0.0237\n",
            "Epoch 26/100\n",
            "\u001b[1m71/71\u001b[0m \u001b[32m━━━━━━━━━━━━━━━━━━━━\u001b[0m\u001b[37m\u001b[0m \u001b[1m20s\u001b[0m 201ms/step - loss: 0.0015 - mean_absolute_error: 0.0253\n",
            "Epoch 27/100\n",
            "\u001b[1m71/71\u001b[0m \u001b[32m━━━━━━━━━━━━━━━━━━━━\u001b[0m\u001b[37m\u001b[0m \u001b[1m14s\u001b[0m 199ms/step - loss: 0.0013 - mean_absolute_error: 0.0252\n",
            "Epoch 28/100\n",
            "\u001b[1m71/71\u001b[0m \u001b[32m━━━━━━━━━━━━━━━━━━━━\u001b[0m\u001b[37m\u001b[0m \u001b[1m14s\u001b[0m 200ms/step - loss: 0.0013 - mean_absolute_error: 0.0244\n",
            "Epoch 29/100\n",
            "\u001b[1m71/71\u001b[0m \u001b[32m━━━━━━━━━━━━━━━━━━━━\u001b[0m\u001b[37m\u001b[0m \u001b[1m14s\u001b[0m 201ms/step - loss: 0.0012 - mean_absolute_error: 0.0240\n",
            "Epoch 30/100\n",
            "\u001b[1m71/71\u001b[0m \u001b[32m━━━━━━━━━━━━━━━━━━━━\u001b[0m\u001b[37m\u001b[0m \u001b[1m23s\u001b[0m 241ms/step - loss: 0.0013 - mean_absolute_error: 0.0252\n",
            "Epoch 31/100\n",
            "\u001b[1m71/71\u001b[0m \u001b[32m━━━━━━━━━━━━━━━━━━━━\u001b[0m\u001b[37m\u001b[0m \u001b[1m15s\u001b[0m 205ms/step - loss: 0.0013 - mean_absolute_error: 0.0243\n",
            "Epoch 32/100\n",
            "\u001b[1m71/71\u001b[0m \u001b[32m━━━━━━━━━━━━━━━━━━━━\u001b[0m\u001b[37m\u001b[0m \u001b[1m20s\u001b[0m 204ms/step - loss: 0.0016 - mean_absolute_error: 0.0272\n",
            "Epoch 33/100\n",
            "\u001b[1m71/71\u001b[0m \u001b[32m━━━━━━━━━━━━━━━━━━━━\u001b[0m\u001b[37m\u001b[0m \u001b[1m15s\u001b[0m 206ms/step - loss: 0.0014 - mean_absolute_error: 0.0246\n",
            "Epoch 34/100\n",
            "\u001b[1m71/71\u001b[0m \u001b[32m━━━━━━━━━━━━━━━━━━━━\u001b[0m\u001b[37m\u001b[0m \u001b[1m20s\u001b[0m 206ms/step - loss: 0.0013 - mean_absolute_error: 0.0247\n",
            "Epoch 35/100\n",
            "\u001b[1m71/71\u001b[0m \u001b[32m━━━━━━━━━━━━━━━━━━━━\u001b[0m\u001b[37m\u001b[0m \u001b[1m14s\u001b[0m 202ms/step - loss: 0.0012 - mean_absolute_error: 0.0238\n",
            "Epoch 36/100\n",
            "\u001b[1m71/71\u001b[0m \u001b[32m━━━━━━━━━━━━━━━━━━━━\u001b[0m\u001b[37m\u001b[0m \u001b[1m14s\u001b[0m 202ms/step - loss: 0.0012 - mean_absolute_error: 0.0241\n",
            "Epoch 37/100\n",
            "\u001b[1m71/71\u001b[0m \u001b[32m━━━━━━━━━━━━━━━━━━━━\u001b[0m\u001b[37m\u001b[0m \u001b[1m14s\u001b[0m 200ms/step - loss: 0.0011 - mean_absolute_error: 0.0230\n",
            "Epoch 38/100\n",
            "\u001b[1m71/71\u001b[0m \u001b[32m━━━━━━━━━━━━━━━━━━━━\u001b[0m\u001b[37m\u001b[0m \u001b[1m21s\u001b[0m 206ms/step - loss: 0.0012 - mean_absolute_error: 0.0228\n",
            "Epoch 39/100\n",
            "\u001b[1m71/71\u001b[0m \u001b[32m━━━━━━━━━━━━━━━━━━━━\u001b[0m\u001b[37m\u001b[0m \u001b[1m15s\u001b[0m 206ms/step - loss: 9.4936e-04 - mean_absolute_error: 0.0217\n",
            "Epoch 40/100\n",
            "\u001b[1m71/71\u001b[0m \u001b[32m━━━━━━━━━━━━━━━━━━━━\u001b[0m\u001b[37m\u001b[0m \u001b[1m20s\u001b[0m 201ms/step - loss: 9.9752e-04 - mean_absolute_error: 0.0215\n",
            "Epoch 41/100\n",
            "\u001b[1m71/71\u001b[0m \u001b[32m━━━━━━━━━━━━━━━━━━━━\u001b[0m\u001b[37m\u001b[0m \u001b[1m14s\u001b[0m 201ms/step - loss: 0.0013 - mean_absolute_error: 0.0235\n",
            "Epoch 42/100\n",
            "\u001b[1m71/71\u001b[0m \u001b[32m━━━━━━━━━━━━━━━━━━━━\u001b[0m\u001b[37m\u001b[0m \u001b[1m15s\u001b[0m 205ms/step - loss: 0.0010 - mean_absolute_error: 0.0217\n",
            "Epoch 43/100\n",
            "\u001b[1m71/71\u001b[0m \u001b[32m━━━━━━━━━━━━━━━━━━━━\u001b[0m\u001b[37m\u001b[0m \u001b[1m15s\u001b[0m 205ms/step - loss: 0.0017 - mean_absolute_error: 0.0259\n",
            "Epoch 44/100\n",
            "\u001b[1m71/71\u001b[0m \u001b[32m━━━━━━━━━━━━━━━━━━━━\u001b[0m\u001b[37m\u001b[0m \u001b[1m20s\u001b[0m 205ms/step - loss: 0.0011 - mean_absolute_error: 0.0223\n",
            "Epoch 45/100\n",
            "\u001b[1m71/71\u001b[0m \u001b[32m━━━━━━━━━━━━━━━━━━━━\u001b[0m\u001b[37m\u001b[0m \u001b[1m15s\u001b[0m 205ms/step - loss: 0.0010 - mean_absolute_error: 0.0227\n",
            "Epoch 46/100\n",
            "\u001b[1m71/71\u001b[0m \u001b[32m━━━━━━━━━━━━━━━━━━━━\u001b[0m\u001b[37m\u001b[0m \u001b[1m17s\u001b[0m 235ms/step - loss: 0.0011 - mean_absolute_error: 0.0222\n",
            "Epoch 47/100\n",
            "\u001b[1m71/71\u001b[0m \u001b[32m━━━━━━━━━━━━━━━━━━━━\u001b[0m\u001b[37m\u001b[0m \u001b[1m18s\u001b[0m 206ms/step - loss: 9.2225e-04 - mean_absolute_error: 0.0216\n",
            "Epoch 48/100\n",
            "\u001b[1m71/71\u001b[0m \u001b[32m━━━━━━━━━━━━━━━━━━━━\u001b[0m\u001b[37m\u001b[0m \u001b[1m20s\u001b[0m 199ms/step - loss: 0.0012 - mean_absolute_error: 0.0233\n",
            "Epoch 49/100\n",
            "\u001b[1m71/71\u001b[0m \u001b[32m━━━━━━━━━━━━━━━━━━━━\u001b[0m\u001b[37m\u001b[0m \u001b[1m14s\u001b[0m 201ms/step - loss: 0.0013 - mean_absolute_error: 0.0231\n",
            "Epoch 50/100\n",
            "\u001b[1m71/71\u001b[0m \u001b[32m━━━━━━━━━━━━━━━━━━━━\u001b[0m\u001b[37m\u001b[0m \u001b[1m21s\u001b[0m 206ms/step - loss: 8.6937e-04 - mean_absolute_error: 0.0210\n",
            "Epoch 51/100\n",
            "\u001b[1m71/71\u001b[0m \u001b[32m━━━━━━━━━━━━━━━━━━━━\u001b[0m\u001b[37m\u001b[0m \u001b[1m15s\u001b[0m 206ms/step - loss: 9.8154e-04 - mean_absolute_error: 0.0219\n",
            "Epoch 52/100\n",
            "\u001b[1m71/71\u001b[0m \u001b[32m━━━━━━━━━━━━━━━━━━━━\u001b[0m\u001b[37m\u001b[0m \u001b[1m15s\u001b[0m 206ms/step - loss: 9.2573e-04 - mean_absolute_error: 0.0212\n",
            "Epoch 53/100\n",
            "\u001b[1m71/71\u001b[0m \u001b[32m━━━━━━━━━━━━━━━━━━━━\u001b[0m\u001b[37m\u001b[0m \u001b[1m15s\u001b[0m 206ms/step - loss: 0.0011 - mean_absolute_error: 0.0220\n",
            "Epoch 54/100\n",
            "\u001b[1m71/71\u001b[0m \u001b[32m━━━━━━━━━━━━━━━━━━━━\u001b[0m\u001b[37m\u001b[0m \u001b[1m15s\u001b[0m 207ms/step - loss: 0.0012 - mean_absolute_error: 0.0233\n",
            "Epoch 55/100\n",
            "\u001b[1m71/71\u001b[0m \u001b[32m━━━━━━━━━━━━━━━━━━━━\u001b[0m\u001b[37m\u001b[0m \u001b[1m15s\u001b[0m 207ms/step - loss: 0.0013 - mean_absolute_error: 0.0236\n",
            "Epoch 56/100\n",
            "\u001b[1m71/71\u001b[0m \u001b[32m━━━━━━━━━━━━━━━━━━━━\u001b[0m\u001b[37m\u001b[0m \u001b[1m15s\u001b[0m 206ms/step - loss: 0.0011 - mean_absolute_error: 0.0223\n",
            "Epoch 57/100\n",
            "\u001b[1m71/71\u001b[0m \u001b[32m━━━━━━━━━━━━━━━━━━━━\u001b[0m\u001b[37m\u001b[0m \u001b[1m15s\u001b[0m 207ms/step - loss: 9.9217e-04 - mean_absolute_error: 0.0223\n",
            "Epoch 58/100\n",
            "\u001b[1m71/71\u001b[0m \u001b[32m━━━━━━━━━━━━━━━━━━━━\u001b[0m\u001b[37m\u001b[0m \u001b[1m15s\u001b[0m 205ms/step - loss: 9.7036e-04 - mean_absolute_error: 0.0215\n",
            "Epoch 59/100\n",
            "\u001b[1m71/71\u001b[0m \u001b[32m━━━━━━━━━━━━━━━━━━━━\u001b[0m\u001b[37m\u001b[0m \u001b[1m15s\u001b[0m 206ms/step - loss: 8.2753e-04 - mean_absolute_error: 0.0206\n",
            "Epoch 60/100\n",
            "\u001b[1m71/71\u001b[0m \u001b[32m━━━━━━━━━━━━━━━━━━━━\u001b[0m\u001b[37m\u001b[0m \u001b[1m15s\u001b[0m 205ms/step - loss: 9.9393e-04 - mean_absolute_error: 0.0215\n",
            "Epoch 61/100\n",
            "\u001b[1m71/71\u001b[0m \u001b[32m━━━━━━━━━━━━━━━━━━━━\u001b[0m\u001b[37m\u001b[0m \u001b[1m14s\u001b[0m 202ms/step - loss: 0.0010 - mean_absolute_error: 0.0218\n",
            "Epoch 62/100\n",
            "\u001b[1m71/71\u001b[0m \u001b[32m━━━━━━━━━━━━━━━━━━━━\u001b[0m\u001b[37m\u001b[0m \u001b[1m23s\u001b[0m 238ms/step - loss: 9.4393e-04 - mean_absolute_error: 0.0210\n",
            "Epoch 63/100\n",
            "\u001b[1m71/71\u001b[0m \u001b[32m━━━━━━━━━━━━━━━━━━━━\u001b[0m\u001b[37m\u001b[0m \u001b[1m15s\u001b[0m 206ms/step - loss: 0.0010 - mean_absolute_error: 0.0218\n",
            "Epoch 64/100\n",
            "\u001b[1m71/71\u001b[0m \u001b[32m━━━━━━━━━━━━━━━━━━━━\u001b[0m\u001b[37m\u001b[0m \u001b[1m20s\u001b[0m 199ms/step - loss: 0.0012 - mean_absolute_error: 0.0231\n",
            "Epoch 65/100\n",
            "\u001b[1m71/71\u001b[0m \u001b[32m━━━━━━━━━━━━━━━━━━━━\u001b[0m\u001b[37m\u001b[0m \u001b[1m14s\u001b[0m 201ms/step - loss: 0.0011 - mean_absolute_error: 0.0212\n",
            "Epoch 66/100\n",
            "\u001b[1m71/71\u001b[0m \u001b[32m━━━━━━━━━━━━━━━━━━━━\u001b[0m\u001b[37m\u001b[0m \u001b[1m21s\u001b[0m 206ms/step - loss: 9.4476e-04 - mean_absolute_error: 0.0213\n",
            "Epoch 67/100\n",
            "\u001b[1m71/71\u001b[0m \u001b[32m━━━━━━━━━━━━━━━━━━━━\u001b[0m\u001b[37m\u001b[0m \u001b[1m20s\u001b[0m 201ms/step - loss: 0.0010 - mean_absolute_error: 0.0208\n",
            "Epoch 68/100\n",
            "\u001b[1m71/71\u001b[0m \u001b[32m━━━━━━━━━━━━━━━━━━━━\u001b[0m\u001b[37m\u001b[0m \u001b[1m21s\u001b[0m 207ms/step - loss: 9.3530e-04 - mean_absolute_error: 0.0214\n",
            "Epoch 69/100\n",
            "\u001b[1m71/71\u001b[0m \u001b[32m━━━━━━━━━━━━━━━━━━━━\u001b[0m\u001b[37m\u001b[0m \u001b[1m15s\u001b[0m 206ms/step - loss: 9.9332e-04 - mean_absolute_error: 0.0213\n",
            "Epoch 70/100\n",
            "\u001b[1m71/71\u001b[0m \u001b[32m━━━━━━━━━━━━━━━━━━━━\u001b[0m\u001b[37m\u001b[0m \u001b[1m15s\u001b[0m 206ms/step - loss: 0.0011 - mean_absolute_error: 0.0225\n",
            "Epoch 71/100\n",
            "\u001b[1m71/71\u001b[0m \u001b[32m━━━━━━━━━━━━━━━━━━━━\u001b[0m\u001b[37m\u001b[0m \u001b[1m15s\u001b[0m 205ms/step - loss: 9.0482e-04 - mean_absolute_error: 0.0212\n",
            "Epoch 72/100\n",
            "\u001b[1m71/71\u001b[0m \u001b[32m━━━━━━━━━━━━━━━━━━━━\u001b[0m\u001b[37m\u001b[0m \u001b[1m20s\u001b[0m 205ms/step - loss: 0.0016 - mean_absolute_error: 0.0245\n",
            "Epoch 73/100\n",
            "\u001b[1m71/71\u001b[0m \u001b[32m━━━━━━━━━━━━━━━━━━━━\u001b[0m\u001b[37m\u001b[0m \u001b[1m21s\u001b[0m 206ms/step - loss: 8.5829e-04 - mean_absolute_error: 0.0205\n",
            "Epoch 74/100\n",
            "\u001b[1m71/71\u001b[0m \u001b[32m━━━━━━━━━━━━━━━━━━━━\u001b[0m\u001b[37m\u001b[0m \u001b[1m14s\u001b[0m 204ms/step - loss: 9.9085e-04 - mean_absolute_error: 0.0210\n",
            "Epoch 75/100\n",
            "\u001b[1m71/71\u001b[0m \u001b[32m━━━━━━━━━━━━━━━━━━━━\u001b[0m\u001b[37m\u001b[0m \u001b[1m15s\u001b[0m 202ms/step - loss: 8.2029e-04 - mean_absolute_error: 0.0193\n",
            "Epoch 76/100\n",
            "\u001b[1m71/71\u001b[0m \u001b[32m━━━━━━━━━━━━━━━━━━━━\u001b[0m\u001b[37m\u001b[0m \u001b[1m21s\u001b[0m 206ms/step - loss: 9.6699e-04 - mean_absolute_error: 0.0213\n",
            "Epoch 77/100\n",
            "\u001b[1m71/71\u001b[0m \u001b[32m━━━━━━━━━━━━━━━━━━━━\u001b[0m\u001b[37m\u001b[0m \u001b[1m24s\u001b[0m 253ms/step - loss: 8.6537e-04 - mean_absolute_error: 0.0205\n",
            "Epoch 78/100\n",
            "\u001b[1m71/71\u001b[0m \u001b[32m━━━━━━━━━━━━━━━━━━━━\u001b[0m\u001b[37m\u001b[0m \u001b[1m14s\u001b[0m 203ms/step - loss: 0.0012 - mean_absolute_error: 0.0217\n",
            "Epoch 79/100\n",
            "\u001b[1m71/71\u001b[0m \u001b[32m━━━━━━━━━━━━━━━━━━━━\u001b[0m\u001b[37m\u001b[0m \u001b[1m14s\u001b[0m 198ms/step - loss: 8.9708e-04 - mean_absolute_error: 0.0202\n",
            "Epoch 80/100\n",
            "\u001b[1m71/71\u001b[0m \u001b[32m━━━━━━━━━━━━━━━━━━━━\u001b[0m\u001b[37m\u001b[0m \u001b[1m21s\u001b[0m 206ms/step - loss: 9.7149e-04 - mean_absolute_error: 0.0206\n",
            "Epoch 81/100\n",
            "\u001b[1m71/71\u001b[0m \u001b[32m━━━━━━━━━━━━━━━━━━━━\u001b[0m\u001b[37m\u001b[0m \u001b[1m15s\u001b[0m 206ms/step - loss: 9.5749e-04 - mean_absolute_error: 0.0206\n",
            "Epoch 82/100\n",
            "\u001b[1m71/71\u001b[0m \u001b[32m━━━━━━━━━━━━━━━━━━━━\u001b[0m\u001b[37m\u001b[0m \u001b[1m15s\u001b[0m 207ms/step - loss: 9.1228e-04 - mean_absolute_error: 0.0202\n",
            "Epoch 83/100\n",
            "\u001b[1m71/71\u001b[0m \u001b[32m━━━━━━━━━━━━━━━━━━━━\u001b[0m\u001b[37m\u001b[0m \u001b[1m20s\u001b[0m 197ms/step - loss: 0.0010 - mean_absolute_error: 0.0217\n",
            "Epoch 84/100\n",
            "\u001b[1m71/71\u001b[0m \u001b[32m━━━━━━━━━━━━━━━━━━━━\u001b[0m\u001b[37m\u001b[0m \u001b[1m21s\u001b[0m 205ms/step - loss: 8.8526e-04 - mean_absolute_error: 0.0205\n",
            "Epoch 85/100\n",
            "\u001b[1m71/71\u001b[0m \u001b[32m━━━━━━━━━━━━━━━━━━━━\u001b[0m\u001b[37m\u001b[0m \u001b[1m15s\u001b[0m 206ms/step - loss: 0.0018 - mean_absolute_error: 0.0237\n",
            "Epoch 86/100\n",
            "\u001b[1m71/71\u001b[0m \u001b[32m━━━━━━━━━━━━━━━━━━━━\u001b[0m\u001b[37m\u001b[0m \u001b[1m20s\u001b[0m 205ms/step - loss: 8.5888e-04 - mean_absolute_error: 0.0195\n",
            "Epoch 87/100\n",
            "\u001b[1m71/71\u001b[0m \u001b[32m━━━━━━━━━━━━━━━━━━━━\u001b[0m\u001b[37m\u001b[0m \u001b[1m20s\u001b[0m 206ms/step - loss: 0.0012 - mean_absolute_error: 0.0232\n",
            "Epoch 88/100\n",
            "\u001b[1m71/71\u001b[0m \u001b[32m━━━━━━━━━━━━━━━━━━━━\u001b[0m\u001b[37m\u001b[0m \u001b[1m15s\u001b[0m 206ms/step - loss: 8.8243e-04 - mean_absolute_error: 0.0200\n",
            "Epoch 89/100\n",
            "\u001b[1m71/71\u001b[0m \u001b[32m━━━━━━━━━━━━━━━━━━━━\u001b[0m\u001b[37m\u001b[0m \u001b[1m15s\u001b[0m 205ms/step - loss: 7.4765e-04 - mean_absolute_error: 0.0188\n",
            "Epoch 90/100\n",
            "\u001b[1m71/71\u001b[0m \u001b[32m━━━━━━━━━━━━━━━━━━━━\u001b[0m\u001b[37m\u001b[0m \u001b[1m14s\u001b[0m 204ms/step - loss: 8.6207e-04 - mean_absolute_error: 0.0195\n",
            "Epoch 91/100\n",
            "\u001b[1m71/71\u001b[0m \u001b[32m━━━━━━━━━━━━━━━━━━━━\u001b[0m\u001b[37m\u001b[0m \u001b[1m14s\u001b[0m 201ms/step - loss: 9.1918e-04 - mean_absolute_error: 0.0201\n",
            "Epoch 92/100\n",
            "\u001b[1m71/71\u001b[0m \u001b[32m━━━━━━━━━━━━━━━━━━━━\u001b[0m\u001b[37m\u001b[0m \u001b[1m21s\u001b[0m 206ms/step - loss: 7.8059e-04 - mean_absolute_error: 0.0200\n",
            "Epoch 93/100\n",
            "\u001b[1m71/71\u001b[0m \u001b[32m━━━━━━━━━━━━━━━━━━━━\u001b[0m\u001b[37m\u001b[0m \u001b[1m17s\u001b[0m 238ms/step - loss: 9.5457e-04 - mean_absolute_error: 0.0204\n",
            "Epoch 94/100\n",
            "\u001b[1m71/71\u001b[0m \u001b[32m━━━━━━━━━━━━━━━━━━━━\u001b[0m\u001b[37m\u001b[0m \u001b[1m15s\u001b[0m 205ms/step - loss: 0.0012 - mean_absolute_error: 0.0222\n",
            "Epoch 95/100\n",
            "\u001b[1m71/71\u001b[0m \u001b[32m━━━━━━━━━━━━━━━━━━━━\u001b[0m\u001b[37m\u001b[0m \u001b[1m15s\u001b[0m 205ms/step - loss: 8.8121e-04 - mean_absolute_error: 0.0200\n",
            "Epoch 96/100\n",
            "\u001b[1m71/71\u001b[0m \u001b[32m━━━━━━━━━━━━━━━━━━━━\u001b[0m\u001b[37m\u001b[0m \u001b[1m20s\u001b[0m 198ms/step - loss: 8.5728e-04 - mean_absolute_error: 0.0200\n",
            "Epoch 97/100\n",
            "\u001b[1m71/71\u001b[0m \u001b[32m━━━━━━━━━━━━━━━━━━━━\u001b[0m\u001b[37m\u001b[0m \u001b[1m14s\u001b[0m 200ms/step - loss: 8.6136e-04 - mean_absolute_error: 0.0200\n",
            "Epoch 98/100\n",
            "\u001b[1m71/71\u001b[0m \u001b[32m━━━━━━━━━━━━━━━━━━━━\u001b[0m\u001b[37m\u001b[0m \u001b[1m21s\u001b[0m 205ms/step - loss: 9.0261e-04 - mean_absolute_error: 0.0204\n",
            "Epoch 99/100\n",
            "\u001b[1m71/71\u001b[0m \u001b[32m━━━━━━━━━━━━━━━━━━━━\u001b[0m\u001b[37m\u001b[0m \u001b[1m15s\u001b[0m 206ms/step - loss: 7.8766e-04 - mean_absolute_error: 0.0190\n",
            "Epoch 100/100\n",
            "\u001b[1m71/71\u001b[0m \u001b[32m━━━━━━━━━━━━━━━━━━━━\u001b[0m\u001b[37m\u001b[0m \u001b[1m15s\u001b[0m 207ms/step - loss: 9.5250e-04 - mean_absolute_error: 0.0207\n"
          ]
        },
        {
          "output_type": "execute_result",
          "data": {
            "text/plain": [
              "<keras.src.callbacks.history.History at 0x798885583530>"
            ]
          },
          "metadata": {},
          "execution_count": 22
        }
      ]
    },
    {
      "cell_type": "code",
      "source": [
        "# Importa a função necessária para salvar o modelo\n",
        "from tensorflow.keras.models import load_model, save_model\n",
        "\n",
        "# Salva o modelo treinado em um arquivo\n",
        "regressor.save('modelo_Embraer_lstm.h5')\n",
        "print(\"O modelo foi salvo com sucesso!\")"
      ],
      "metadata": {
        "colab": {
          "base_uri": "https://localhost:8080/"
        },
        "id": "llQT1nqd3i-Y",
        "outputId": "0efc4c8d-a98d-4514-f9de-6ff62cccc992"
      },
      "execution_count": null,
      "outputs": [
        {
          "output_type": "stream",
          "name": "stderr",
          "text": [
            "WARNING:absl:You are saving your model as an HDF5 file via `model.save()` or `keras.saving.save_model(model)`. This file format is considered legacy. We recommend using instead the native Keras format, e.g. `model.save('my_model.keras')` or `keras.saving.save_model(model, 'my_model.keras')`. \n"
          ]
        },
        {
          "output_type": "stream",
          "name": "stdout",
          "text": [
            "O modelo foi salvo com sucesso!\n"
          ]
        }
      ]
    },
    {
      "cell_type": "code",
      "source": [
        "base_teste = pd.read_csv('/content/Embraer_testLO.csv')\n",
        "base_teste"
      ],
      "metadata": {
        "colab": {
          "base_uri": "https://localhost:8080/",
          "height": 739
        },
        "id": "76l2ClCsxtsG",
        "outputId": "71b61c80-5511-4ef2-d592-672f6bc938ff"
      },
      "execution_count": null,
      "outputs": [
        {
          "output_type": "execute_result",
          "data": {
            "text/plain": [
              "                         Date       Open       High        Low      Close  \\\n",
              "0   2025-01-03 00:00:00-03:00  57.730514  57.940297  56.971294  56.971294   \n",
              "1   2025-01-06 00:00:00-03:00  57.260996  57.590658  56.282005  56.811459   \n",
              "2   2025-01-07 00:00:00-03:00  57.161102  58.160073  56.861408  57.990246   \n",
              "3   2025-01-08 00:00:00-03:00  58.289934  58.919287  57.151108  57.181080   \n",
              "4   2025-01-09 00:00:00-03:00  57.320934  57.660584  56.841428  57.290962   \n",
              "5   2025-01-10 00:00:00-03:00  57.241016  57.350904  56.262026  57.241016   \n",
              "6   2025-01-13 00:00:00-03:00  57.031232  58.000235  56.242044  56.491787   \n",
              "7   2025-01-14 00:00:00-03:00  56.491789  57.310944  55.752553  56.841431   \n",
              "8   2025-01-15 00:00:00-03:00  57.350904  58.729485  57.191069  58.000237   \n",
              "9   2025-01-16 00:00:00-03:00  58.020215  60.078092  57.960275  60.068104   \n",
              "10  2025-01-17 00:00:00-03:00  60.038134  60.657499  59.298898  59.818363   \n",
              "11  2025-01-20 00:00:00-03:00  59.938237  60.687465  59.488700  60.657497   \n",
              "12  2025-01-21 00:00:00-03:00  60.437725  62.655441  60.327837  62.395706   \n",
              "13  2025-01-22 00:00:00-03:00  62.086026  62.835254  60.687465  61.087055   \n",
              "14  2025-01-23 00:00:00-03:00  61.686438  62.185923  60.937210  61.666458   \n",
              "15  2025-01-24 00:00:00-03:00  61.836285  62.036076  60.277889  60.907242   \n",
              "16  2025-01-27 00:00:00-03:00  61.087055  61.416714  58.719492  59.099102   \n",
              "17  2025-01-28 00:00:00-03:00  59.738441  60.088083  58.849358  59.308884   \n",
              "18  2025-01-29 00:00:00-03:00  59.768415  59.878298  58.839372  59.129070   \n",
              "19  2025-01-30 00:00:00-03:00  59.238959  60.297869  59.228971  59.978199   \n",
              "20  2025-01-31 00:00:00-03:00  60.217947  60.837311  59.398791  59.638546   \n",
              "21  2025-02-03 00:00:00-03:00  59.788391  59.838343  58.000236  59.358833   \n",
              "\n",
              "     Volume  \n",
              "0   4186400  \n",
              "1   3628100  \n",
              "2   6228800  \n",
              "3   5066900  \n",
              "4   2185300  \n",
              "5   5152800  \n",
              "6   4258300  \n",
              "7   4950100  \n",
              "8   5991700  \n",
              "9   7330600  \n",
              "10  4849600  \n",
              "11  1920600  \n",
              "12  5500900  \n",
              "13  4708400  \n",
              "14  4377100  \n",
              "15  4302400  \n",
              "16  7229600  \n",
              "17  4775900  \n",
              "18  4029000  \n",
              "19  4514200  \n",
              "20  5318300  \n",
              "21  6188700  "
            ],
            "text/html": [
              "\n",
              "  <div id=\"df-33b9e61a-871a-423d-83ac-331d711d8d2c\" class=\"colab-df-container\">\n",
              "    <div>\n",
              "<style scoped>\n",
              "    .dataframe tbody tr th:only-of-type {\n",
              "        vertical-align: middle;\n",
              "    }\n",
              "\n",
              "    .dataframe tbody tr th {\n",
              "        vertical-align: top;\n",
              "    }\n",
              "\n",
              "    .dataframe thead th {\n",
              "        text-align: right;\n",
              "    }\n",
              "</style>\n",
              "<table border=\"1\" class=\"dataframe\">\n",
              "  <thead>\n",
              "    <tr style=\"text-align: right;\">\n",
              "      <th></th>\n",
              "      <th>Date</th>\n",
              "      <th>Open</th>\n",
              "      <th>High</th>\n",
              "      <th>Low</th>\n",
              "      <th>Close</th>\n",
              "      <th>Volume</th>\n",
              "    </tr>\n",
              "  </thead>\n",
              "  <tbody>\n",
              "    <tr>\n",
              "      <th>0</th>\n",
              "      <td>2025-01-03 00:00:00-03:00</td>\n",
              "      <td>57.730514</td>\n",
              "      <td>57.940297</td>\n",
              "      <td>56.971294</td>\n",
              "      <td>56.971294</td>\n",
              "      <td>4186400</td>\n",
              "    </tr>\n",
              "    <tr>\n",
              "      <th>1</th>\n",
              "      <td>2025-01-06 00:00:00-03:00</td>\n",
              "      <td>57.260996</td>\n",
              "      <td>57.590658</td>\n",
              "      <td>56.282005</td>\n",
              "      <td>56.811459</td>\n",
              "      <td>3628100</td>\n",
              "    </tr>\n",
              "    <tr>\n",
              "      <th>2</th>\n",
              "      <td>2025-01-07 00:00:00-03:00</td>\n",
              "      <td>57.161102</td>\n",
              "      <td>58.160073</td>\n",
              "      <td>56.861408</td>\n",
              "      <td>57.990246</td>\n",
              "      <td>6228800</td>\n",
              "    </tr>\n",
              "    <tr>\n",
              "      <th>3</th>\n",
              "      <td>2025-01-08 00:00:00-03:00</td>\n",
              "      <td>58.289934</td>\n",
              "      <td>58.919287</td>\n",
              "      <td>57.151108</td>\n",
              "      <td>57.181080</td>\n",
              "      <td>5066900</td>\n",
              "    </tr>\n",
              "    <tr>\n",
              "      <th>4</th>\n",
              "      <td>2025-01-09 00:00:00-03:00</td>\n",
              "      <td>57.320934</td>\n",
              "      <td>57.660584</td>\n",
              "      <td>56.841428</td>\n",
              "      <td>57.290962</td>\n",
              "      <td>2185300</td>\n",
              "    </tr>\n",
              "    <tr>\n",
              "      <th>5</th>\n",
              "      <td>2025-01-10 00:00:00-03:00</td>\n",
              "      <td>57.241016</td>\n",
              "      <td>57.350904</td>\n",
              "      <td>56.262026</td>\n",
              "      <td>57.241016</td>\n",
              "      <td>5152800</td>\n",
              "    </tr>\n",
              "    <tr>\n",
              "      <th>6</th>\n",
              "      <td>2025-01-13 00:00:00-03:00</td>\n",
              "      <td>57.031232</td>\n",
              "      <td>58.000235</td>\n",
              "      <td>56.242044</td>\n",
              "      <td>56.491787</td>\n",
              "      <td>4258300</td>\n",
              "    </tr>\n",
              "    <tr>\n",
              "      <th>7</th>\n",
              "      <td>2025-01-14 00:00:00-03:00</td>\n",
              "      <td>56.491789</td>\n",
              "      <td>57.310944</td>\n",
              "      <td>55.752553</td>\n",
              "      <td>56.841431</td>\n",
              "      <td>4950100</td>\n",
              "    </tr>\n",
              "    <tr>\n",
              "      <th>8</th>\n",
              "      <td>2025-01-15 00:00:00-03:00</td>\n",
              "      <td>57.350904</td>\n",
              "      <td>58.729485</td>\n",
              "      <td>57.191069</td>\n",
              "      <td>58.000237</td>\n",
              "      <td>5991700</td>\n",
              "    </tr>\n",
              "    <tr>\n",
              "      <th>9</th>\n",
              "      <td>2025-01-16 00:00:00-03:00</td>\n",
              "      <td>58.020215</td>\n",
              "      <td>60.078092</td>\n",
              "      <td>57.960275</td>\n",
              "      <td>60.068104</td>\n",
              "      <td>7330600</td>\n",
              "    </tr>\n",
              "    <tr>\n",
              "      <th>10</th>\n",
              "      <td>2025-01-17 00:00:00-03:00</td>\n",
              "      <td>60.038134</td>\n",
              "      <td>60.657499</td>\n",
              "      <td>59.298898</td>\n",
              "      <td>59.818363</td>\n",
              "      <td>4849600</td>\n",
              "    </tr>\n",
              "    <tr>\n",
              "      <th>11</th>\n",
              "      <td>2025-01-20 00:00:00-03:00</td>\n",
              "      <td>59.938237</td>\n",
              "      <td>60.687465</td>\n",
              "      <td>59.488700</td>\n",
              "      <td>60.657497</td>\n",
              "      <td>1920600</td>\n",
              "    </tr>\n",
              "    <tr>\n",
              "      <th>12</th>\n",
              "      <td>2025-01-21 00:00:00-03:00</td>\n",
              "      <td>60.437725</td>\n",
              "      <td>62.655441</td>\n",
              "      <td>60.327837</td>\n",
              "      <td>62.395706</td>\n",
              "      <td>5500900</td>\n",
              "    </tr>\n",
              "    <tr>\n",
              "      <th>13</th>\n",
              "      <td>2025-01-22 00:00:00-03:00</td>\n",
              "      <td>62.086026</td>\n",
              "      <td>62.835254</td>\n",
              "      <td>60.687465</td>\n",
              "      <td>61.087055</td>\n",
              "      <td>4708400</td>\n",
              "    </tr>\n",
              "    <tr>\n",
              "      <th>14</th>\n",
              "      <td>2025-01-23 00:00:00-03:00</td>\n",
              "      <td>61.686438</td>\n",
              "      <td>62.185923</td>\n",
              "      <td>60.937210</td>\n",
              "      <td>61.666458</td>\n",
              "      <td>4377100</td>\n",
              "    </tr>\n",
              "    <tr>\n",
              "      <th>15</th>\n",
              "      <td>2025-01-24 00:00:00-03:00</td>\n",
              "      <td>61.836285</td>\n",
              "      <td>62.036076</td>\n",
              "      <td>60.277889</td>\n",
              "      <td>60.907242</td>\n",
              "      <td>4302400</td>\n",
              "    </tr>\n",
              "    <tr>\n",
              "      <th>16</th>\n",
              "      <td>2025-01-27 00:00:00-03:00</td>\n",
              "      <td>61.087055</td>\n",
              "      <td>61.416714</td>\n",
              "      <td>58.719492</td>\n",
              "      <td>59.099102</td>\n",
              "      <td>7229600</td>\n",
              "    </tr>\n",
              "    <tr>\n",
              "      <th>17</th>\n",
              "      <td>2025-01-28 00:00:00-03:00</td>\n",
              "      <td>59.738441</td>\n",
              "      <td>60.088083</td>\n",
              "      <td>58.849358</td>\n",
              "      <td>59.308884</td>\n",
              "      <td>4775900</td>\n",
              "    </tr>\n",
              "    <tr>\n",
              "      <th>18</th>\n",
              "      <td>2025-01-29 00:00:00-03:00</td>\n",
              "      <td>59.768415</td>\n",
              "      <td>59.878298</td>\n",
              "      <td>58.839372</td>\n",
              "      <td>59.129070</td>\n",
              "      <td>4029000</td>\n",
              "    </tr>\n",
              "    <tr>\n",
              "      <th>19</th>\n",
              "      <td>2025-01-30 00:00:00-03:00</td>\n",
              "      <td>59.238959</td>\n",
              "      <td>60.297869</td>\n",
              "      <td>59.228971</td>\n",
              "      <td>59.978199</td>\n",
              "      <td>4514200</td>\n",
              "    </tr>\n",
              "    <tr>\n",
              "      <th>20</th>\n",
              "      <td>2025-01-31 00:00:00-03:00</td>\n",
              "      <td>60.217947</td>\n",
              "      <td>60.837311</td>\n",
              "      <td>59.398791</td>\n",
              "      <td>59.638546</td>\n",
              "      <td>5318300</td>\n",
              "    </tr>\n",
              "    <tr>\n",
              "      <th>21</th>\n",
              "      <td>2025-02-03 00:00:00-03:00</td>\n",
              "      <td>59.788391</td>\n",
              "      <td>59.838343</td>\n",
              "      <td>58.000236</td>\n",
              "      <td>59.358833</td>\n",
              "      <td>6188700</td>\n",
              "    </tr>\n",
              "  </tbody>\n",
              "</table>\n",
              "</div>\n",
              "    <div class=\"colab-df-buttons\">\n",
              "\n",
              "  <div class=\"colab-df-container\">\n",
              "    <button class=\"colab-df-convert\" onclick=\"convertToInteractive('df-33b9e61a-871a-423d-83ac-331d711d8d2c')\"\n",
              "            title=\"Convert this dataframe to an interactive table.\"\n",
              "            style=\"display:none;\">\n",
              "\n",
              "  <svg xmlns=\"http://www.w3.org/2000/svg\" height=\"24px\" viewBox=\"0 -960 960 960\">\n",
              "    <path d=\"M120-120v-720h720v720H120Zm60-500h600v-160H180v160Zm220 220h160v-160H400v160Zm0 220h160v-160H400v160ZM180-400h160v-160H180v160Zm440 0h160v-160H620v160ZM180-180h160v-160H180v160Zm440 0h160v-160H620v160Z\"/>\n",
              "  </svg>\n",
              "    </button>\n",
              "\n",
              "  <style>\n",
              "    .colab-df-container {\n",
              "      display:flex;\n",
              "      gap: 12px;\n",
              "    }\n",
              "\n",
              "    .colab-df-convert {\n",
              "      background-color: #E8F0FE;\n",
              "      border: none;\n",
              "      border-radius: 50%;\n",
              "      cursor: pointer;\n",
              "      display: none;\n",
              "      fill: #1967D2;\n",
              "      height: 32px;\n",
              "      padding: 0 0 0 0;\n",
              "      width: 32px;\n",
              "    }\n",
              "\n",
              "    .colab-df-convert:hover {\n",
              "      background-color: #E2EBFA;\n",
              "      box-shadow: 0px 1px 2px rgba(60, 64, 67, 0.3), 0px 1px 3px 1px rgba(60, 64, 67, 0.15);\n",
              "      fill: #174EA6;\n",
              "    }\n",
              "\n",
              "    .colab-df-buttons div {\n",
              "      margin-bottom: 4px;\n",
              "    }\n",
              "\n",
              "    [theme=dark] .colab-df-convert {\n",
              "      background-color: #3B4455;\n",
              "      fill: #D2E3FC;\n",
              "    }\n",
              "\n",
              "    [theme=dark] .colab-df-convert:hover {\n",
              "      background-color: #434B5C;\n",
              "      box-shadow: 0px 1px 3px 1px rgba(0, 0, 0, 0.15);\n",
              "      filter: drop-shadow(0px 1px 2px rgba(0, 0, 0, 0.3));\n",
              "      fill: #FFFFFF;\n",
              "    }\n",
              "  </style>\n",
              "\n",
              "    <script>\n",
              "      const buttonEl =\n",
              "        document.querySelector('#df-33b9e61a-871a-423d-83ac-331d711d8d2c button.colab-df-convert');\n",
              "      buttonEl.style.display =\n",
              "        google.colab.kernel.accessAllowed ? 'block' : 'none';\n",
              "\n",
              "      async function convertToInteractive(key) {\n",
              "        const element = document.querySelector('#df-33b9e61a-871a-423d-83ac-331d711d8d2c');\n",
              "        const dataTable =\n",
              "          await google.colab.kernel.invokeFunction('convertToInteractive',\n",
              "                                                    [key], {});\n",
              "        if (!dataTable) return;\n",
              "\n",
              "        const docLinkHtml = 'Like what you see? Visit the ' +\n",
              "          '<a target=\"_blank\" href=https://colab.research.google.com/notebooks/data_table.ipynb>data table notebook</a>'\n",
              "          + ' to learn more about interactive tables.';\n",
              "        element.innerHTML = '';\n",
              "        dataTable['output_type'] = 'display_data';\n",
              "        await google.colab.output.renderOutput(dataTable, element);\n",
              "        const docLink = document.createElement('div');\n",
              "        docLink.innerHTML = docLinkHtml;\n",
              "        element.appendChild(docLink);\n",
              "      }\n",
              "    </script>\n",
              "  </div>\n",
              "\n",
              "\n",
              "    <div id=\"df-d99c780f-b97c-46ca-8edf-8e411749d994\">\n",
              "      <button class=\"colab-df-quickchart\" onclick=\"quickchart('df-d99c780f-b97c-46ca-8edf-8e411749d994')\"\n",
              "                title=\"Suggest charts\"\n",
              "                style=\"display:none;\">\n",
              "\n",
              "<svg xmlns=\"http://www.w3.org/2000/svg\" height=\"24px\"viewBox=\"0 0 24 24\"\n",
              "     width=\"24px\">\n",
              "    <g>\n",
              "        <path d=\"M19 3H5c-1.1 0-2 .9-2 2v14c0 1.1.9 2 2 2h14c1.1 0 2-.9 2-2V5c0-1.1-.9-2-2-2zM9 17H7v-7h2v7zm4 0h-2V7h2v10zm4 0h-2v-4h2v4z\"/>\n",
              "    </g>\n",
              "</svg>\n",
              "      </button>\n",
              "\n",
              "<style>\n",
              "  .colab-df-quickchart {\n",
              "      --bg-color: #E8F0FE;\n",
              "      --fill-color: #1967D2;\n",
              "      --hover-bg-color: #E2EBFA;\n",
              "      --hover-fill-color: #174EA6;\n",
              "      --disabled-fill-color: #AAA;\n",
              "      --disabled-bg-color: #DDD;\n",
              "  }\n",
              "\n",
              "  [theme=dark] .colab-df-quickchart {\n",
              "      --bg-color: #3B4455;\n",
              "      --fill-color: #D2E3FC;\n",
              "      --hover-bg-color: #434B5C;\n",
              "      --hover-fill-color: #FFFFFF;\n",
              "      --disabled-bg-color: #3B4455;\n",
              "      --disabled-fill-color: #666;\n",
              "  }\n",
              "\n",
              "  .colab-df-quickchart {\n",
              "    background-color: var(--bg-color);\n",
              "    border: none;\n",
              "    border-radius: 50%;\n",
              "    cursor: pointer;\n",
              "    display: none;\n",
              "    fill: var(--fill-color);\n",
              "    height: 32px;\n",
              "    padding: 0;\n",
              "    width: 32px;\n",
              "  }\n",
              "\n",
              "  .colab-df-quickchart:hover {\n",
              "    background-color: var(--hover-bg-color);\n",
              "    box-shadow: 0 1px 2px rgba(60, 64, 67, 0.3), 0 1px 3px 1px rgba(60, 64, 67, 0.15);\n",
              "    fill: var(--button-hover-fill-color);\n",
              "  }\n",
              "\n",
              "  .colab-df-quickchart-complete:disabled,\n",
              "  .colab-df-quickchart-complete:disabled:hover {\n",
              "    background-color: var(--disabled-bg-color);\n",
              "    fill: var(--disabled-fill-color);\n",
              "    box-shadow: none;\n",
              "  }\n",
              "\n",
              "  .colab-df-spinner {\n",
              "    border: 2px solid var(--fill-color);\n",
              "    border-color: transparent;\n",
              "    border-bottom-color: var(--fill-color);\n",
              "    animation:\n",
              "      spin 1s steps(1) infinite;\n",
              "  }\n",
              "\n",
              "  @keyframes spin {\n",
              "    0% {\n",
              "      border-color: transparent;\n",
              "      border-bottom-color: var(--fill-color);\n",
              "      border-left-color: var(--fill-color);\n",
              "    }\n",
              "    20% {\n",
              "      border-color: transparent;\n",
              "      border-left-color: var(--fill-color);\n",
              "      border-top-color: var(--fill-color);\n",
              "    }\n",
              "    30% {\n",
              "      border-color: transparent;\n",
              "      border-left-color: var(--fill-color);\n",
              "      border-top-color: var(--fill-color);\n",
              "      border-right-color: var(--fill-color);\n",
              "    }\n",
              "    40% {\n",
              "      border-color: transparent;\n",
              "      border-right-color: var(--fill-color);\n",
              "      border-top-color: var(--fill-color);\n",
              "    }\n",
              "    60% {\n",
              "      border-color: transparent;\n",
              "      border-right-color: var(--fill-color);\n",
              "    }\n",
              "    80% {\n",
              "      border-color: transparent;\n",
              "      border-right-color: var(--fill-color);\n",
              "      border-bottom-color: var(--fill-color);\n",
              "    }\n",
              "    90% {\n",
              "      border-color: transparent;\n",
              "      border-bottom-color: var(--fill-color);\n",
              "    }\n",
              "  }\n",
              "</style>\n",
              "\n",
              "      <script>\n",
              "        async function quickchart(key) {\n",
              "          const quickchartButtonEl =\n",
              "            document.querySelector('#' + key + ' button');\n",
              "          quickchartButtonEl.disabled = true;  // To prevent multiple clicks.\n",
              "          quickchartButtonEl.classList.add('colab-df-spinner');\n",
              "          try {\n",
              "            const charts = await google.colab.kernel.invokeFunction(\n",
              "                'suggestCharts', [key], {});\n",
              "          } catch (error) {\n",
              "            console.error('Error during call to suggestCharts:', error);\n",
              "          }\n",
              "          quickchartButtonEl.classList.remove('colab-df-spinner');\n",
              "          quickchartButtonEl.classList.add('colab-df-quickchart-complete');\n",
              "        }\n",
              "        (() => {\n",
              "          let quickchartButtonEl =\n",
              "            document.querySelector('#df-d99c780f-b97c-46ca-8edf-8e411749d994 button');\n",
              "          quickchartButtonEl.style.display =\n",
              "            google.colab.kernel.accessAllowed ? 'block' : 'none';\n",
              "        })();\n",
              "      </script>\n",
              "    </div>\n",
              "\n",
              "  <div id=\"id_a9b82a5b-2572-4e21-a7b4-72da5077b087\">\n",
              "    <style>\n",
              "      .colab-df-generate {\n",
              "        background-color: #E8F0FE;\n",
              "        border: none;\n",
              "        border-radius: 50%;\n",
              "        cursor: pointer;\n",
              "        display: none;\n",
              "        fill: #1967D2;\n",
              "        height: 32px;\n",
              "        padding: 0 0 0 0;\n",
              "        width: 32px;\n",
              "      }\n",
              "\n",
              "      .colab-df-generate:hover {\n",
              "        background-color: #E2EBFA;\n",
              "        box-shadow: 0px 1px 2px rgba(60, 64, 67, 0.3), 0px 1px 3px 1px rgba(60, 64, 67, 0.15);\n",
              "        fill: #174EA6;\n",
              "      }\n",
              "\n",
              "      [theme=dark] .colab-df-generate {\n",
              "        background-color: #3B4455;\n",
              "        fill: #D2E3FC;\n",
              "      }\n",
              "\n",
              "      [theme=dark] .colab-df-generate:hover {\n",
              "        background-color: #434B5C;\n",
              "        box-shadow: 0px 1px 3px 1px rgba(0, 0, 0, 0.15);\n",
              "        filter: drop-shadow(0px 1px 2px rgba(0, 0, 0, 0.3));\n",
              "        fill: #FFFFFF;\n",
              "      }\n",
              "    </style>\n",
              "    <button class=\"colab-df-generate\" onclick=\"generateWithVariable('base_teste')\"\n",
              "            title=\"Generate code using this dataframe.\"\n",
              "            style=\"display:none;\">\n",
              "\n",
              "  <svg xmlns=\"http://www.w3.org/2000/svg\" height=\"24px\"viewBox=\"0 0 24 24\"\n",
              "       width=\"24px\">\n",
              "    <path d=\"M7,19H8.4L18.45,9,17,7.55,7,17.6ZM5,21V16.75L18.45,3.32a2,2,0,0,1,2.83,0l1.4,1.43a1.91,1.91,0,0,1,.58,1.4,1.91,1.91,0,0,1-.58,1.4L9.25,21ZM18.45,9,17,7.55Zm-12,3A5.31,5.31,0,0,0,4.9,8.1,5.31,5.31,0,0,0,1,6.5,5.31,5.31,0,0,0,4.9,4.9,5.31,5.31,0,0,0,6.5,1,5.31,5.31,0,0,0,8.1,4.9,5.31,5.31,0,0,0,12,6.5,5.46,5.46,0,0,0,6.5,12Z\"/>\n",
              "  </svg>\n",
              "    </button>\n",
              "    <script>\n",
              "      (() => {\n",
              "      const buttonEl =\n",
              "        document.querySelector('#id_a9b82a5b-2572-4e21-a7b4-72da5077b087 button.colab-df-generate');\n",
              "      buttonEl.style.display =\n",
              "        google.colab.kernel.accessAllowed ? 'block' : 'none';\n",
              "\n",
              "      buttonEl.onclick = () => {\n",
              "        google.colab.notebook.generateWithVariable('base_teste');\n",
              "      }\n",
              "      })();\n",
              "    </script>\n",
              "  </div>\n",
              "\n",
              "    </div>\n",
              "  </div>\n"
            ],
            "application/vnd.google.colaboratory.intrinsic+json": {
              "type": "dataframe",
              "variable_name": "base_teste",
              "summary": "{\n  \"name\": \"base_teste\",\n  \"rows\": 22,\n  \"fields\": [\n    {\n      \"column\": \"Date\",\n      \"properties\": {\n        \"dtype\": \"object\",\n        \"num_unique_values\": 22,\n        \"samples\": [\n          \"2025-01-03 00:00:00-03:00\",\n          \"2025-01-22 00:00:00-03:00\",\n          \"2025-01-15 00:00:00-03:00\"\n        ],\n        \"semantic_type\": \"\",\n        \"description\": \"\"\n      }\n    },\n    {\n      \"column\": \"Open\",\n      \"properties\": {\n        \"dtype\": \"number\",\n        \"std\": 1.75396427649898,\n        \"min\": 56.4917886552994,\n        \"max\": 62.08602583069769,\n        \"num_unique_values\": 22,\n        \"samples\": [\n          57.730514223818496,\n          62.08602583069769,\n          57.350904073374544\n        ],\n        \"semantic_type\": \"\",\n        \"description\": \"\"\n      }\n    },\n    {\n      \"column\": \"High\",\n      \"properties\": {\n        \"dtype\": \"number\",\n        \"std\": 1.781370198801299,\n        \"min\": 57.31094427125671,\n        \"max\": 62.835253798996845,\n        \"num_unique_values\": 22,\n        \"samples\": [\n          57.94029714371944,\n          62.835253798996845,\n          58.72948461838388\n        ],\n        \"semantic_type\": \"\",\n        \"description\": \"\"\n      }\n    },\n    {\n      \"column\": \"Low\",\n      \"properties\": {\n        \"dtype\": \"number\",\n        \"std\": 1.5968463833054756,\n        \"min\": 55.75255251932356,\n        \"max\": 60.9372100083864,\n        \"num_unique_values\": 22,\n        \"samples\": [\n          56.97129440307617,\n          60.68746543223108,\n          57.19106892400901\n        ],\n        \"semantic_type\": \"\",\n        \"description\": \"\"\n      }\n    },\n    {\n      \"column\": \"Close\",\n      \"properties\": {\n        \"dtype\": \"number\",\n        \"std\": 1.7458175725935323,\n        \"min\": 56.49178695678711,\n        \"max\": 62.39570617675781,\n        \"num_unique_values\": 22,\n        \"samples\": [\n          56.97129440307617,\n          61.08705520629883,\n          58.00023651123047\n        ],\n        \"semantic_type\": \"\",\n        \"description\": \"\"\n      }\n    },\n    {\n      \"column\": \"Volume\",\n      \"properties\": {\n        \"dtype\": \"number\",\n        \"std\": 1325674,\n        \"min\": 1920600,\n        \"max\": 7330600,\n        \"num_unique_values\": 22,\n        \"samples\": [\n          4186400,\n          4708400,\n          5991700\n        ],\n        \"semantic_type\": \"\",\n        \"description\": \"\"\n      }\n    }\n  ]\n}"
            }
          },
          "metadata": {},
          "execution_count": 24
        }
      ]
    },
    {
      "cell_type": "code",
      "source": [
        "base_teste.shape"
      ],
      "metadata": {
        "colab": {
          "base_uri": "https://localhost:8080/"
        },
        "id": "GFMO1nQTx1cw",
        "outputId": "ef4ed0a5-1ab7-483f-e4be-0431058dd476"
      },
      "execution_count": null,
      "outputs": [
        {
          "output_type": "execute_result",
          "data": {
            "text/plain": [
              "(22, 6)"
            ]
          },
          "metadata": {},
          "execution_count": 25
        }
      ]
    },
    {
      "cell_type": "code",
      "source": [
        "y_teste = base_teste.iloc[:, 1:2].values"
      ],
      "metadata": {
        "id": "SORJqePTyB78"
      },
      "execution_count": null,
      "outputs": []
    },
    {
      "cell_type": "code",
      "source": [
        "y_teste"
      ],
      "metadata": {
        "colab": {
          "base_uri": "https://localhost:8080/"
        },
        "id": "gFpnoWsvyQme",
        "outputId": "2b4c5636-4c7f-41cf-8931-59d80d83f5bc"
      },
      "execution_count": null,
      "outputs": [
        {
          "output_type": "execute_result",
          "data": {
            "text/plain": [
              "array([[57.73051422],\n",
              "       [57.26099613],\n",
              "       [57.16110216],\n",
              "       [58.28993405],\n",
              "       [57.32093393],\n",
              "       [57.24101639],\n",
              "       [57.031232  ],\n",
              "       [56.49178866],\n",
              "       [57.35090407],\n",
              "       [58.0202148 ],\n",
              "       [60.03813414],\n",
              "       [59.93823734],\n",
              "       [60.43772461],\n",
              "       [62.08602583],\n",
              "       [61.686438  ],\n",
              "       [61.83628483],\n",
              "       [61.08705524],\n",
              "       [59.73844133],\n",
              "       [59.76841469],\n",
              "       [59.23895904],\n",
              "       [60.21794696],\n",
              "       [59.78839099]])"
            ]
          },
          "metadata": {},
          "execution_count": 27
        }
      ]
    },
    {
      "cell_type": "code",
      "source": [
        "base.shape"
      ],
      "metadata": {
        "colab": {
          "base_uri": "https://localhost:8080/"
        },
        "id": "cpVGYPmfydim",
        "outputId": "c0347730-7fdc-4c74-f792-3ecb5869dde1"
      },
      "execution_count": null,
      "outputs": [
        {
          "output_type": "execute_result",
          "data": {
            "text/plain": [
              "(2331, 6)"
            ]
          },
          "metadata": {},
          "execution_count": 28
        }
      ]
    },
    {
      "cell_type": "code",
      "source": [
        "base_completa = pd.concat((base['Open'], base_teste['Open']), axis = 0)"
      ],
      "metadata": {
        "id": "XcZMFRktyYJj"
      },
      "execution_count": null,
      "outputs": []
    },
    {
      "cell_type": "code",
      "source": [
        "2331 + 22"
      ],
      "metadata": {
        "colab": {
          "base_uri": "https://localhost:8080/"
        },
        "id": "KvqIsZQSyp7j",
        "outputId": "8913a8aa-43bd-431c-f3ab-0809245b16ce"
      },
      "execution_count": null,
      "outputs": [
        {
          "output_type": "execute_result",
          "data": {
            "text/plain": [
              "2353"
            ]
          },
          "metadata": {},
          "execution_count": 30
        }
      ]
    },
    {
      "cell_type": "code",
      "source": [
        "base_completa.shape"
      ],
      "metadata": {
        "colab": {
          "base_uri": "https://localhost:8080/"
        },
        "id": "RAitQmF9ylXY",
        "outputId": "26c81a37-8f18-4b28-f232-aab3d71ee4e8"
      },
      "execution_count": null,
      "outputs": [
        {
          "output_type": "execute_result",
          "data": {
            "text/plain": [
              "(2353,)"
            ]
          },
          "metadata": {},
          "execution_count": 31
        }
      ]
    },
    {
      "cell_type": "code",
      "source": [
        "base_completa"
      ],
      "metadata": {
        "colab": {
          "base_uri": "https://localhost:8080/",
          "height": 458
        },
        "id": "njCLV0eTyvcM",
        "outputId": "dd5e9766-cdb5-4e87-e858-f75a02fa9285"
      },
      "execution_count": null,
      "outputs": [
        {
          "output_type": "execute_result",
          "data": {
            "text/plain": [
              "0     21.986374\n",
              "1     21.705369\n",
              "2     20.842968\n",
              "3     21.327460\n",
              "4     21.269326\n",
              "        ...    \n",
              "17    59.738441\n",
              "18    59.768415\n",
              "19    59.238959\n",
              "20    60.217947\n",
              "21    59.788391\n",
              "Name: Open, Length: 2353, dtype: float64"
            ],
            "text/html": [
              "<div>\n",
              "<style scoped>\n",
              "    .dataframe tbody tr th:only-of-type {\n",
              "        vertical-align: middle;\n",
              "    }\n",
              "\n",
              "    .dataframe tbody tr th {\n",
              "        vertical-align: top;\n",
              "    }\n",
              "\n",
              "    .dataframe thead th {\n",
              "        text-align: right;\n",
              "    }\n",
              "</style>\n",
              "<table border=\"1\" class=\"dataframe\">\n",
              "  <thead>\n",
              "    <tr style=\"text-align: right;\">\n",
              "      <th></th>\n",
              "      <th>Open</th>\n",
              "    </tr>\n",
              "  </thead>\n",
              "  <tbody>\n",
              "    <tr>\n",
              "      <th>0</th>\n",
              "      <td>21.986374</td>\n",
              "    </tr>\n",
              "    <tr>\n",
              "      <th>1</th>\n",
              "      <td>21.705369</td>\n",
              "    </tr>\n",
              "    <tr>\n",
              "      <th>2</th>\n",
              "      <td>20.842968</td>\n",
              "    </tr>\n",
              "    <tr>\n",
              "      <th>3</th>\n",
              "      <td>21.327460</td>\n",
              "    </tr>\n",
              "    <tr>\n",
              "      <th>4</th>\n",
              "      <td>21.269326</td>\n",
              "    </tr>\n",
              "    <tr>\n",
              "      <th>...</th>\n",
              "      <td>...</td>\n",
              "    </tr>\n",
              "    <tr>\n",
              "      <th>17</th>\n",
              "      <td>59.738441</td>\n",
              "    </tr>\n",
              "    <tr>\n",
              "      <th>18</th>\n",
              "      <td>59.768415</td>\n",
              "    </tr>\n",
              "    <tr>\n",
              "      <th>19</th>\n",
              "      <td>59.238959</td>\n",
              "    </tr>\n",
              "    <tr>\n",
              "      <th>20</th>\n",
              "      <td>60.217947</td>\n",
              "    </tr>\n",
              "    <tr>\n",
              "      <th>21</th>\n",
              "      <td>59.788391</td>\n",
              "    </tr>\n",
              "  </tbody>\n",
              "</table>\n",
              "<p>2353 rows × 1 columns</p>\n",
              "</div><br><label><b>dtype:</b> float64</label>"
            ]
          },
          "metadata": {},
          "execution_count": 32
        }
      ]
    },
    {
      "cell_type": "code",
      "source": [
        "entradas = base_completa[len(base_completa) - len(base_teste) - 90:].values"
      ],
      "metadata": {
        "id": "SkOYRXdJy_fB"
      },
      "execution_count": null,
      "outputs": []
    },
    {
      "cell_type": "code",
      "source": [
        "entradas"
      ],
      "metadata": {
        "colab": {
          "base_uri": "https://localhost:8080/"
        },
        "id": "YxxkMLJU1U7N",
        "outputId": "85fc7036-cbe7-46c4-c6f8-6267e8815f2a"
      },
      "execution_count": null,
      "outputs": [
        {
          "output_type": "execute_result",
          "data": {
            "text/plain": [
              "array([45.40321509, 46.15244341, 46.11248277, 46.11248464, 45.6129973 ,\n",
              "       46.45213251, 46.26233033, 46.78179466, 45.89270982, 46.70187695,\n",
              "       49.19930161, 49.84863437, 48.0504868 , 47.82072441, 48.69981892,\n",
              "       49.43905634, 50.75769892, 50.69775903, 49.33915768, 48.3401884 ,\n",
              "       47.70084702, 47.58097192, 48.38014779, 49.54894118, 50.34812255,\n",
              "       50.44801773, 50.39807036, 48.21032237, 48.50002218, 47.91062985,\n",
              "       45.97262696, 45.3532666 , 46.20239167, 46.5420414 , 45.75285557,\n",
              "       45.95264961, 46.77180374, 45.13349281, 46.40218705, 46.45213521,\n",
              "       48.78972749, 48.33020044, 48.4300948 , 49.91856482, 49.57891263,\n",
              "       49.04945502, 49.44904782, 49.95852001, 49.04945469, 50.16830588,\n",
              "       49.0494564 , 48.68983133, 48.82968679, 48.74976676, 48.45007399,\n",
              "       49.99847794, 50.4979641 , 54.28406334, 55.61269162, 54.36398135,\n",
              "       56.64163434, 55.43287992, 55.13318871, 53.77458967, 56.08221085,\n",
              "       56.94132493, 56.94132638, 58.53967901, 56.68159642, 56.65162345,\n",
              "       57.90033552, 57.49075823, 56.04225116, 56.19209931, 56.3419466 ,\n",
              "       57.36089154, 57.00126451, 56.15213771, 56.64163602, 55.52278985,\n",
              "       56.01228205, 56.3319517 , 56.39189262, 55.41290253, 55.67263113,\n",
              "       54.42391867, 54.94338458, 56.34194607, 56.78148878, 56.44184035,\n",
              "       57.73051422, 57.26099613, 57.16110216, 58.28993405, 57.32093393,\n",
              "       57.24101639, 57.031232  , 56.49178866, 57.35090407, 58.0202148 ,\n",
              "       60.03813414, 59.93823734, 60.43772461, 62.08602583, 61.686438  ,\n",
              "       61.83628483, 61.08705524, 59.73844133, 59.76841469, 59.23895904,\n",
              "       60.21794696, 59.78839099])"
            ]
          },
          "metadata": {},
          "execution_count": 34
        }
      ]
    },
    {
      "cell_type": "code",
      "source": [
        "entradas.shape"
      ],
      "metadata": {
        "colab": {
          "base_uri": "https://localhost:8080/"
        },
        "id": "XBqEm6hN1c-E",
        "outputId": "245fae5b-2805-498b-e338-2f236cd3ec30"
      },
      "execution_count": null,
      "outputs": [
        {
          "output_type": "execute_result",
          "data": {
            "text/plain": [
              "(112,)"
            ]
          },
          "metadata": {},
          "execution_count": 35
        }
      ]
    },
    {
      "cell_type": "code",
      "source": [
        "entradas = entradas.reshape(-1, 1)\n",
        "entradas.shape"
      ],
      "metadata": {
        "colab": {
          "base_uri": "https://localhost:8080/"
        },
        "id": "sMTuVljk1fP6",
        "outputId": "7ee90d65-361b-4f89-b6c1-ca666e85c0af"
      },
      "execution_count": null,
      "outputs": [
        {
          "output_type": "execute_result",
          "data": {
            "text/plain": [
              "(112, 1)"
            ]
          },
          "metadata": {},
          "execution_count": 36
        }
      ]
    },
    {
      "cell_type": "code",
      "source": [
        "entradas"
      ],
      "metadata": {
        "colab": {
          "base_uri": "https://localhost:8080/"
        },
        "id": "JDo4LVIP1oAn",
        "outputId": "ae0d5c4f-fe34-4850-fd7e-23f28beaa369"
      },
      "execution_count": null,
      "outputs": [
        {
          "output_type": "execute_result",
          "data": {
            "text/plain": [
              "array([[45.40321509],\n",
              "       [46.15244341],\n",
              "       [46.11248277],\n",
              "       [46.11248464],\n",
              "       [45.6129973 ],\n",
              "       [46.45213251],\n",
              "       [46.26233033],\n",
              "       [46.78179466],\n",
              "       [45.89270982],\n",
              "       [46.70187695],\n",
              "       [49.19930161],\n",
              "       [49.84863437],\n",
              "       [48.0504868 ],\n",
              "       [47.82072441],\n",
              "       [48.69981892],\n",
              "       [49.43905634],\n",
              "       [50.75769892],\n",
              "       [50.69775903],\n",
              "       [49.33915768],\n",
              "       [48.3401884 ],\n",
              "       [47.70084702],\n",
              "       [47.58097192],\n",
              "       [48.38014779],\n",
              "       [49.54894118],\n",
              "       [50.34812255],\n",
              "       [50.44801773],\n",
              "       [50.39807036],\n",
              "       [48.21032237],\n",
              "       [48.50002218],\n",
              "       [47.91062985],\n",
              "       [45.97262696],\n",
              "       [45.3532666 ],\n",
              "       [46.20239167],\n",
              "       [46.5420414 ],\n",
              "       [45.75285557],\n",
              "       [45.95264961],\n",
              "       [46.77180374],\n",
              "       [45.13349281],\n",
              "       [46.40218705],\n",
              "       [46.45213521],\n",
              "       [48.78972749],\n",
              "       [48.33020044],\n",
              "       [48.4300948 ],\n",
              "       [49.91856482],\n",
              "       [49.57891263],\n",
              "       [49.04945502],\n",
              "       [49.44904782],\n",
              "       [49.95852001],\n",
              "       [49.04945469],\n",
              "       [50.16830588],\n",
              "       [49.0494564 ],\n",
              "       [48.68983133],\n",
              "       [48.82968679],\n",
              "       [48.74976676],\n",
              "       [48.45007399],\n",
              "       [49.99847794],\n",
              "       [50.4979641 ],\n",
              "       [54.28406334],\n",
              "       [55.61269162],\n",
              "       [54.36398135],\n",
              "       [56.64163434],\n",
              "       [55.43287992],\n",
              "       [55.13318871],\n",
              "       [53.77458967],\n",
              "       [56.08221085],\n",
              "       [56.94132493],\n",
              "       [56.94132638],\n",
              "       [58.53967901],\n",
              "       [56.68159642],\n",
              "       [56.65162345],\n",
              "       [57.90033552],\n",
              "       [57.49075823],\n",
              "       [56.04225116],\n",
              "       [56.19209931],\n",
              "       [56.3419466 ],\n",
              "       [57.36089154],\n",
              "       [57.00126451],\n",
              "       [56.15213771],\n",
              "       [56.64163602],\n",
              "       [55.52278985],\n",
              "       [56.01228205],\n",
              "       [56.3319517 ],\n",
              "       [56.39189262],\n",
              "       [55.41290253],\n",
              "       [55.67263113],\n",
              "       [54.42391867],\n",
              "       [54.94338458],\n",
              "       [56.34194607],\n",
              "       [56.78148878],\n",
              "       [56.44184035],\n",
              "       [57.73051422],\n",
              "       [57.26099613],\n",
              "       [57.16110216],\n",
              "       [58.28993405],\n",
              "       [57.32093393],\n",
              "       [57.24101639],\n",
              "       [57.031232  ],\n",
              "       [56.49178866],\n",
              "       [57.35090407],\n",
              "       [58.0202148 ],\n",
              "       [60.03813414],\n",
              "       [59.93823734],\n",
              "       [60.43772461],\n",
              "       [62.08602583],\n",
              "       [61.686438  ],\n",
              "       [61.83628483],\n",
              "       [61.08705524],\n",
              "       [59.73844133],\n",
              "       [59.76841469],\n",
              "       [59.23895904],\n",
              "       [60.21794696],\n",
              "       [59.78839099]])"
            ]
          },
          "metadata": {},
          "execution_count": 37
        }
      ]
    },
    {
      "cell_type": "code",
      "source": [
        "entradas = normalizador.transform(entradas)"
      ],
      "metadata": {
        "id": "5o47Hhqt1zsy"
      },
      "execution_count": null,
      "outputs": []
    },
    {
      "cell_type": "code",
      "source": [
        "entradas"
      ],
      "metadata": {
        "colab": {
          "base_uri": "https://localhost:8080/"
        },
        "id": "8b9FmqMj12_t",
        "outputId": "474f7b90-3d57-4f51-9897-bb96c7de0ff1"
      },
      "execution_count": null,
      "outputs": [
        {
          "output_type": "execute_result",
          "data": {
            "text/plain": [
              "array([[0.75042702],\n",
              "       [0.76466123],\n",
              "       [0.76390204],\n",
              "       [0.76390208],\n",
              "       [0.75441257],\n",
              "       [0.77035487],\n",
              "       [0.76674892],\n",
              "       [0.77661795],\n",
              "       [0.75972669],\n",
              "       [0.77509964],\n",
              "       [0.82254694],\n",
              "       [0.83488328],\n",
              "       [0.80072119],\n",
              "       [0.79635605],\n",
              "       [0.81305752],\n",
              "       [0.82710191],\n",
              "       [0.85215413],\n",
              "       [0.85101536],\n",
              "       [0.82520399],\n",
              "       [0.80622508],\n",
              "       [0.79407856],\n",
              "       [0.79180112],\n",
              "       [0.80698425],\n",
              "       [0.82918956],\n",
              "       [0.8443728 ],\n",
              "       [0.84627066],\n",
              "       [0.84532173],\n",
              "       [0.80375782],\n",
              "       [0.80926168],\n",
              "       [0.79806412],\n",
              "       [0.76124499],\n",
              "       [0.74947808],\n",
              "       [0.76561017],\n",
              "       [0.772063  ],\n",
              "       [0.75706967],\n",
              "       [0.76086545],\n",
              "       [0.77642814],\n",
              "       [0.74530271],\n",
              "       [0.76940598],\n",
              "       [0.77035492],\n",
              "       [0.81476565],\n",
              "       [0.80603533],\n",
              "       [0.80793317],\n",
              "       [0.83621185],\n",
              "       [0.82975897],\n",
              "       [0.81970008],\n",
              "       [0.82729174],\n",
              "       [0.83697094],\n",
              "       [0.81970007],\n",
              "       [0.84095655],\n",
              "       [0.8197001 ],\n",
              "       [0.81286777],\n",
              "       [0.81552481],\n",
              "       [0.81400645],\n",
              "       [0.80831274],\n",
              "       [0.83773008],\n",
              "       [0.84721956],\n",
              "       [0.91914973],\n",
              "       [0.94439166],\n",
              "       [0.92066805],\n",
              "       [0.96394002],\n",
              "       [0.94097551],\n",
              "       [0.93528183],\n",
              "       [0.9094705 ],\n",
              "       [0.95331182],\n",
              "       [0.96963369],\n",
              "       [0.96963371],\n",
              "       [1.        ],\n",
              "       [0.96469924],\n",
              "       [0.9641298 ],\n",
              "       [0.98785344],\n",
              "       [0.98007209],\n",
              "       [0.95255264],\n",
              "       [0.95539953],\n",
              "       [0.9582464 ],\n",
              "       [0.97760482],\n",
              "       [0.97077245],\n",
              "       [0.95464032],\n",
              "       [0.96394005],\n",
              "       [0.94268366],\n",
              "       [0.95198327],\n",
              "       [0.95805652],\n",
              "       [0.9591953 ],\n",
              "       [0.94059597],\n",
              "       [0.94553042],\n",
              "       [0.92180677],\n",
              "       [0.93167584],\n",
              "       [0.95824639],\n",
              "       [0.96659704],\n",
              "       [0.96014423],\n",
              "       [0.98462709],\n",
              "       [0.97570696],\n",
              "       [0.97380912],\n",
              "       [0.99525522],\n",
              "       [0.97684568],\n",
              "       [0.97532737],\n",
              "       [0.97134178],\n",
              "       [0.96109318],\n",
              "       [0.97741507],\n",
              "       [0.99013096],\n",
              "       [1.02846838],\n",
              "       [1.0265705 ],\n",
              "       [1.03606   ],\n",
              "       [1.06737523],\n",
              "       [1.05978367],\n",
              "       [1.06263053],\n",
              "       [1.0483963 ],\n",
              "       [1.02277467],\n",
              "       [1.02334412],\n",
              "       [1.01328526],\n",
              "       [1.03188456],\n",
              "       [1.02372364]])"
            ]
          },
          "metadata": {},
          "execution_count": 39
        }
      ]
    },
    {
      "cell_type": "code",
      "source": [
        "X_teste = []\n",
        "for i in range(90, 112):\n",
        "  #print(i)\n",
        "  X_teste.append(entradas[i - 90:i, 0])"
      ],
      "metadata": {
        "id": "3Akzz4jC2CUb"
      },
      "execution_count": null,
      "outputs": []
    },
    {
      "cell_type": "code",
      "source": [
        "X_teste"
      ],
      "metadata": {
        "colab": {
          "base_uri": "https://localhost:8080/"
        },
        "id": "OTVS-H9X2YCD",
        "outputId": "44123aeb-c65a-4f2c-b8c7-30edaed0bbf7",
        "collapsed": true
      },
      "execution_count": null,
      "outputs": [
        {
          "output_type": "execute_result",
          "data": {
            "text/plain": [
              "[array([0.75042702, 0.76466123, 0.76390204, 0.76390208, 0.75441257,\n",
              "        0.77035487, 0.76674892, 0.77661795, 0.75972669, 0.77509964,\n",
              "        0.82254694, 0.83488328, 0.80072119, 0.79635605, 0.81305752,\n",
              "        0.82710191, 0.85215413, 0.85101536, 0.82520399, 0.80622508,\n",
              "        0.79407856, 0.79180112, 0.80698425, 0.82918956, 0.8443728 ,\n",
              "        0.84627066, 0.84532173, 0.80375782, 0.80926168, 0.79806412,\n",
              "        0.76124499, 0.74947808, 0.76561017, 0.772063  , 0.75706967,\n",
              "        0.76086545, 0.77642814, 0.74530271, 0.76940598, 0.77035492,\n",
              "        0.81476565, 0.80603533, 0.80793317, 0.83621185, 0.82975897,\n",
              "        0.81970008, 0.82729174, 0.83697094, 0.81970007, 0.84095655,\n",
              "        0.8197001 , 0.81286777, 0.81552481, 0.81400645, 0.80831274,\n",
              "        0.83773008, 0.84721956, 0.91914973, 0.94439166, 0.92066805,\n",
              "        0.96394002, 0.94097551, 0.93528183, 0.9094705 , 0.95331182,\n",
              "        0.96963369, 0.96963371, 1.        , 0.96469924, 0.9641298 ,\n",
              "        0.98785344, 0.98007209, 0.95255264, 0.95539953, 0.9582464 ,\n",
              "        0.97760482, 0.97077245, 0.95464032, 0.96394005, 0.94268366,\n",
              "        0.95198327, 0.95805652, 0.9591953 , 0.94059597, 0.94553042,\n",
              "        0.92180677, 0.93167584, 0.95824639, 0.96659704, 0.96014423]),\n",
              " array([0.76466123, 0.76390204, 0.76390208, 0.75441257, 0.77035487,\n",
              "        0.76674892, 0.77661795, 0.75972669, 0.77509964, 0.82254694,\n",
              "        0.83488328, 0.80072119, 0.79635605, 0.81305752, 0.82710191,\n",
              "        0.85215413, 0.85101536, 0.82520399, 0.80622508, 0.79407856,\n",
              "        0.79180112, 0.80698425, 0.82918956, 0.8443728 , 0.84627066,\n",
              "        0.84532173, 0.80375782, 0.80926168, 0.79806412, 0.76124499,\n",
              "        0.74947808, 0.76561017, 0.772063  , 0.75706967, 0.76086545,\n",
              "        0.77642814, 0.74530271, 0.76940598, 0.77035492, 0.81476565,\n",
              "        0.80603533, 0.80793317, 0.83621185, 0.82975897, 0.81970008,\n",
              "        0.82729174, 0.83697094, 0.81970007, 0.84095655, 0.8197001 ,\n",
              "        0.81286777, 0.81552481, 0.81400645, 0.80831274, 0.83773008,\n",
              "        0.84721956, 0.91914973, 0.94439166, 0.92066805, 0.96394002,\n",
              "        0.94097551, 0.93528183, 0.9094705 , 0.95331182, 0.96963369,\n",
              "        0.96963371, 1.        , 0.96469924, 0.9641298 , 0.98785344,\n",
              "        0.98007209, 0.95255264, 0.95539953, 0.9582464 , 0.97760482,\n",
              "        0.97077245, 0.95464032, 0.96394005, 0.94268366, 0.95198327,\n",
              "        0.95805652, 0.9591953 , 0.94059597, 0.94553042, 0.92180677,\n",
              "        0.93167584, 0.95824639, 0.96659704, 0.96014423, 0.98462709]),\n",
              " array([0.76390204, 0.76390208, 0.75441257, 0.77035487, 0.76674892,\n",
              "        0.77661795, 0.75972669, 0.77509964, 0.82254694, 0.83488328,\n",
              "        0.80072119, 0.79635605, 0.81305752, 0.82710191, 0.85215413,\n",
              "        0.85101536, 0.82520399, 0.80622508, 0.79407856, 0.79180112,\n",
              "        0.80698425, 0.82918956, 0.8443728 , 0.84627066, 0.84532173,\n",
              "        0.80375782, 0.80926168, 0.79806412, 0.76124499, 0.74947808,\n",
              "        0.76561017, 0.772063  , 0.75706967, 0.76086545, 0.77642814,\n",
              "        0.74530271, 0.76940598, 0.77035492, 0.81476565, 0.80603533,\n",
              "        0.80793317, 0.83621185, 0.82975897, 0.81970008, 0.82729174,\n",
              "        0.83697094, 0.81970007, 0.84095655, 0.8197001 , 0.81286777,\n",
              "        0.81552481, 0.81400645, 0.80831274, 0.83773008, 0.84721956,\n",
              "        0.91914973, 0.94439166, 0.92066805, 0.96394002, 0.94097551,\n",
              "        0.93528183, 0.9094705 , 0.95331182, 0.96963369, 0.96963371,\n",
              "        1.        , 0.96469924, 0.9641298 , 0.98785344, 0.98007209,\n",
              "        0.95255264, 0.95539953, 0.9582464 , 0.97760482, 0.97077245,\n",
              "        0.95464032, 0.96394005, 0.94268366, 0.95198327, 0.95805652,\n",
              "        0.9591953 , 0.94059597, 0.94553042, 0.92180677, 0.93167584,\n",
              "        0.95824639, 0.96659704, 0.96014423, 0.98462709, 0.97570696]),\n",
              " array([0.76390208, 0.75441257, 0.77035487, 0.76674892, 0.77661795,\n",
              "        0.75972669, 0.77509964, 0.82254694, 0.83488328, 0.80072119,\n",
              "        0.79635605, 0.81305752, 0.82710191, 0.85215413, 0.85101536,\n",
              "        0.82520399, 0.80622508, 0.79407856, 0.79180112, 0.80698425,\n",
              "        0.82918956, 0.8443728 , 0.84627066, 0.84532173, 0.80375782,\n",
              "        0.80926168, 0.79806412, 0.76124499, 0.74947808, 0.76561017,\n",
              "        0.772063  , 0.75706967, 0.76086545, 0.77642814, 0.74530271,\n",
              "        0.76940598, 0.77035492, 0.81476565, 0.80603533, 0.80793317,\n",
              "        0.83621185, 0.82975897, 0.81970008, 0.82729174, 0.83697094,\n",
              "        0.81970007, 0.84095655, 0.8197001 , 0.81286777, 0.81552481,\n",
              "        0.81400645, 0.80831274, 0.83773008, 0.84721956, 0.91914973,\n",
              "        0.94439166, 0.92066805, 0.96394002, 0.94097551, 0.93528183,\n",
              "        0.9094705 , 0.95331182, 0.96963369, 0.96963371, 1.        ,\n",
              "        0.96469924, 0.9641298 , 0.98785344, 0.98007209, 0.95255264,\n",
              "        0.95539953, 0.9582464 , 0.97760482, 0.97077245, 0.95464032,\n",
              "        0.96394005, 0.94268366, 0.95198327, 0.95805652, 0.9591953 ,\n",
              "        0.94059597, 0.94553042, 0.92180677, 0.93167584, 0.95824639,\n",
              "        0.96659704, 0.96014423, 0.98462709, 0.97570696, 0.97380912]),\n",
              " array([0.75441257, 0.77035487, 0.76674892, 0.77661795, 0.75972669,\n",
              "        0.77509964, 0.82254694, 0.83488328, 0.80072119, 0.79635605,\n",
              "        0.81305752, 0.82710191, 0.85215413, 0.85101536, 0.82520399,\n",
              "        0.80622508, 0.79407856, 0.79180112, 0.80698425, 0.82918956,\n",
              "        0.8443728 , 0.84627066, 0.84532173, 0.80375782, 0.80926168,\n",
              "        0.79806412, 0.76124499, 0.74947808, 0.76561017, 0.772063  ,\n",
              "        0.75706967, 0.76086545, 0.77642814, 0.74530271, 0.76940598,\n",
              "        0.77035492, 0.81476565, 0.80603533, 0.80793317, 0.83621185,\n",
              "        0.82975897, 0.81970008, 0.82729174, 0.83697094, 0.81970007,\n",
              "        0.84095655, 0.8197001 , 0.81286777, 0.81552481, 0.81400645,\n",
              "        0.80831274, 0.83773008, 0.84721956, 0.91914973, 0.94439166,\n",
              "        0.92066805, 0.96394002, 0.94097551, 0.93528183, 0.9094705 ,\n",
              "        0.95331182, 0.96963369, 0.96963371, 1.        , 0.96469924,\n",
              "        0.9641298 , 0.98785344, 0.98007209, 0.95255264, 0.95539953,\n",
              "        0.9582464 , 0.97760482, 0.97077245, 0.95464032, 0.96394005,\n",
              "        0.94268366, 0.95198327, 0.95805652, 0.9591953 , 0.94059597,\n",
              "        0.94553042, 0.92180677, 0.93167584, 0.95824639, 0.96659704,\n",
              "        0.96014423, 0.98462709, 0.97570696, 0.97380912, 0.99525522]),\n",
              " array([0.77035487, 0.76674892, 0.77661795, 0.75972669, 0.77509964,\n",
              "        0.82254694, 0.83488328, 0.80072119, 0.79635605, 0.81305752,\n",
              "        0.82710191, 0.85215413, 0.85101536, 0.82520399, 0.80622508,\n",
              "        0.79407856, 0.79180112, 0.80698425, 0.82918956, 0.8443728 ,\n",
              "        0.84627066, 0.84532173, 0.80375782, 0.80926168, 0.79806412,\n",
              "        0.76124499, 0.74947808, 0.76561017, 0.772063  , 0.75706967,\n",
              "        0.76086545, 0.77642814, 0.74530271, 0.76940598, 0.77035492,\n",
              "        0.81476565, 0.80603533, 0.80793317, 0.83621185, 0.82975897,\n",
              "        0.81970008, 0.82729174, 0.83697094, 0.81970007, 0.84095655,\n",
              "        0.8197001 , 0.81286777, 0.81552481, 0.81400645, 0.80831274,\n",
              "        0.83773008, 0.84721956, 0.91914973, 0.94439166, 0.92066805,\n",
              "        0.96394002, 0.94097551, 0.93528183, 0.9094705 , 0.95331182,\n",
              "        0.96963369, 0.96963371, 1.        , 0.96469924, 0.9641298 ,\n",
              "        0.98785344, 0.98007209, 0.95255264, 0.95539953, 0.9582464 ,\n",
              "        0.97760482, 0.97077245, 0.95464032, 0.96394005, 0.94268366,\n",
              "        0.95198327, 0.95805652, 0.9591953 , 0.94059597, 0.94553042,\n",
              "        0.92180677, 0.93167584, 0.95824639, 0.96659704, 0.96014423,\n",
              "        0.98462709, 0.97570696, 0.97380912, 0.99525522, 0.97684568]),\n",
              " array([0.76674892, 0.77661795, 0.75972669, 0.77509964, 0.82254694,\n",
              "        0.83488328, 0.80072119, 0.79635605, 0.81305752, 0.82710191,\n",
              "        0.85215413, 0.85101536, 0.82520399, 0.80622508, 0.79407856,\n",
              "        0.79180112, 0.80698425, 0.82918956, 0.8443728 , 0.84627066,\n",
              "        0.84532173, 0.80375782, 0.80926168, 0.79806412, 0.76124499,\n",
              "        0.74947808, 0.76561017, 0.772063  , 0.75706967, 0.76086545,\n",
              "        0.77642814, 0.74530271, 0.76940598, 0.77035492, 0.81476565,\n",
              "        0.80603533, 0.80793317, 0.83621185, 0.82975897, 0.81970008,\n",
              "        0.82729174, 0.83697094, 0.81970007, 0.84095655, 0.8197001 ,\n",
              "        0.81286777, 0.81552481, 0.81400645, 0.80831274, 0.83773008,\n",
              "        0.84721956, 0.91914973, 0.94439166, 0.92066805, 0.96394002,\n",
              "        0.94097551, 0.93528183, 0.9094705 , 0.95331182, 0.96963369,\n",
              "        0.96963371, 1.        , 0.96469924, 0.9641298 , 0.98785344,\n",
              "        0.98007209, 0.95255264, 0.95539953, 0.9582464 , 0.97760482,\n",
              "        0.97077245, 0.95464032, 0.96394005, 0.94268366, 0.95198327,\n",
              "        0.95805652, 0.9591953 , 0.94059597, 0.94553042, 0.92180677,\n",
              "        0.93167584, 0.95824639, 0.96659704, 0.96014423, 0.98462709,\n",
              "        0.97570696, 0.97380912, 0.99525522, 0.97684568, 0.97532737]),\n",
              " array([0.77661795, 0.75972669, 0.77509964, 0.82254694, 0.83488328,\n",
              "        0.80072119, 0.79635605, 0.81305752, 0.82710191, 0.85215413,\n",
              "        0.85101536, 0.82520399, 0.80622508, 0.79407856, 0.79180112,\n",
              "        0.80698425, 0.82918956, 0.8443728 , 0.84627066, 0.84532173,\n",
              "        0.80375782, 0.80926168, 0.79806412, 0.76124499, 0.74947808,\n",
              "        0.76561017, 0.772063  , 0.75706967, 0.76086545, 0.77642814,\n",
              "        0.74530271, 0.76940598, 0.77035492, 0.81476565, 0.80603533,\n",
              "        0.80793317, 0.83621185, 0.82975897, 0.81970008, 0.82729174,\n",
              "        0.83697094, 0.81970007, 0.84095655, 0.8197001 , 0.81286777,\n",
              "        0.81552481, 0.81400645, 0.80831274, 0.83773008, 0.84721956,\n",
              "        0.91914973, 0.94439166, 0.92066805, 0.96394002, 0.94097551,\n",
              "        0.93528183, 0.9094705 , 0.95331182, 0.96963369, 0.96963371,\n",
              "        1.        , 0.96469924, 0.9641298 , 0.98785344, 0.98007209,\n",
              "        0.95255264, 0.95539953, 0.9582464 , 0.97760482, 0.97077245,\n",
              "        0.95464032, 0.96394005, 0.94268366, 0.95198327, 0.95805652,\n",
              "        0.9591953 , 0.94059597, 0.94553042, 0.92180677, 0.93167584,\n",
              "        0.95824639, 0.96659704, 0.96014423, 0.98462709, 0.97570696,\n",
              "        0.97380912, 0.99525522, 0.97684568, 0.97532737, 0.97134178]),\n",
              " array([0.75972669, 0.77509964, 0.82254694, 0.83488328, 0.80072119,\n",
              "        0.79635605, 0.81305752, 0.82710191, 0.85215413, 0.85101536,\n",
              "        0.82520399, 0.80622508, 0.79407856, 0.79180112, 0.80698425,\n",
              "        0.82918956, 0.8443728 , 0.84627066, 0.84532173, 0.80375782,\n",
              "        0.80926168, 0.79806412, 0.76124499, 0.74947808, 0.76561017,\n",
              "        0.772063  , 0.75706967, 0.76086545, 0.77642814, 0.74530271,\n",
              "        0.76940598, 0.77035492, 0.81476565, 0.80603533, 0.80793317,\n",
              "        0.83621185, 0.82975897, 0.81970008, 0.82729174, 0.83697094,\n",
              "        0.81970007, 0.84095655, 0.8197001 , 0.81286777, 0.81552481,\n",
              "        0.81400645, 0.80831274, 0.83773008, 0.84721956, 0.91914973,\n",
              "        0.94439166, 0.92066805, 0.96394002, 0.94097551, 0.93528183,\n",
              "        0.9094705 , 0.95331182, 0.96963369, 0.96963371, 1.        ,\n",
              "        0.96469924, 0.9641298 , 0.98785344, 0.98007209, 0.95255264,\n",
              "        0.95539953, 0.9582464 , 0.97760482, 0.97077245, 0.95464032,\n",
              "        0.96394005, 0.94268366, 0.95198327, 0.95805652, 0.9591953 ,\n",
              "        0.94059597, 0.94553042, 0.92180677, 0.93167584, 0.95824639,\n",
              "        0.96659704, 0.96014423, 0.98462709, 0.97570696, 0.97380912,\n",
              "        0.99525522, 0.97684568, 0.97532737, 0.97134178, 0.96109318]),\n",
              " array([0.77509964, 0.82254694, 0.83488328, 0.80072119, 0.79635605,\n",
              "        0.81305752, 0.82710191, 0.85215413, 0.85101536, 0.82520399,\n",
              "        0.80622508, 0.79407856, 0.79180112, 0.80698425, 0.82918956,\n",
              "        0.8443728 , 0.84627066, 0.84532173, 0.80375782, 0.80926168,\n",
              "        0.79806412, 0.76124499, 0.74947808, 0.76561017, 0.772063  ,\n",
              "        0.75706967, 0.76086545, 0.77642814, 0.74530271, 0.76940598,\n",
              "        0.77035492, 0.81476565, 0.80603533, 0.80793317, 0.83621185,\n",
              "        0.82975897, 0.81970008, 0.82729174, 0.83697094, 0.81970007,\n",
              "        0.84095655, 0.8197001 , 0.81286777, 0.81552481, 0.81400645,\n",
              "        0.80831274, 0.83773008, 0.84721956, 0.91914973, 0.94439166,\n",
              "        0.92066805, 0.96394002, 0.94097551, 0.93528183, 0.9094705 ,\n",
              "        0.95331182, 0.96963369, 0.96963371, 1.        , 0.96469924,\n",
              "        0.9641298 , 0.98785344, 0.98007209, 0.95255264, 0.95539953,\n",
              "        0.9582464 , 0.97760482, 0.97077245, 0.95464032, 0.96394005,\n",
              "        0.94268366, 0.95198327, 0.95805652, 0.9591953 , 0.94059597,\n",
              "        0.94553042, 0.92180677, 0.93167584, 0.95824639, 0.96659704,\n",
              "        0.96014423, 0.98462709, 0.97570696, 0.97380912, 0.99525522,\n",
              "        0.97684568, 0.97532737, 0.97134178, 0.96109318, 0.97741507]),\n",
              " array([0.82254694, 0.83488328, 0.80072119, 0.79635605, 0.81305752,\n",
              "        0.82710191, 0.85215413, 0.85101536, 0.82520399, 0.80622508,\n",
              "        0.79407856, 0.79180112, 0.80698425, 0.82918956, 0.8443728 ,\n",
              "        0.84627066, 0.84532173, 0.80375782, 0.80926168, 0.79806412,\n",
              "        0.76124499, 0.74947808, 0.76561017, 0.772063  , 0.75706967,\n",
              "        0.76086545, 0.77642814, 0.74530271, 0.76940598, 0.77035492,\n",
              "        0.81476565, 0.80603533, 0.80793317, 0.83621185, 0.82975897,\n",
              "        0.81970008, 0.82729174, 0.83697094, 0.81970007, 0.84095655,\n",
              "        0.8197001 , 0.81286777, 0.81552481, 0.81400645, 0.80831274,\n",
              "        0.83773008, 0.84721956, 0.91914973, 0.94439166, 0.92066805,\n",
              "        0.96394002, 0.94097551, 0.93528183, 0.9094705 , 0.95331182,\n",
              "        0.96963369, 0.96963371, 1.        , 0.96469924, 0.9641298 ,\n",
              "        0.98785344, 0.98007209, 0.95255264, 0.95539953, 0.9582464 ,\n",
              "        0.97760482, 0.97077245, 0.95464032, 0.96394005, 0.94268366,\n",
              "        0.95198327, 0.95805652, 0.9591953 , 0.94059597, 0.94553042,\n",
              "        0.92180677, 0.93167584, 0.95824639, 0.96659704, 0.96014423,\n",
              "        0.98462709, 0.97570696, 0.97380912, 0.99525522, 0.97684568,\n",
              "        0.97532737, 0.97134178, 0.96109318, 0.97741507, 0.99013096]),\n",
              " array([0.83488328, 0.80072119, 0.79635605, 0.81305752, 0.82710191,\n",
              "        0.85215413, 0.85101536, 0.82520399, 0.80622508, 0.79407856,\n",
              "        0.79180112, 0.80698425, 0.82918956, 0.8443728 , 0.84627066,\n",
              "        0.84532173, 0.80375782, 0.80926168, 0.79806412, 0.76124499,\n",
              "        0.74947808, 0.76561017, 0.772063  , 0.75706967, 0.76086545,\n",
              "        0.77642814, 0.74530271, 0.76940598, 0.77035492, 0.81476565,\n",
              "        0.80603533, 0.80793317, 0.83621185, 0.82975897, 0.81970008,\n",
              "        0.82729174, 0.83697094, 0.81970007, 0.84095655, 0.8197001 ,\n",
              "        0.81286777, 0.81552481, 0.81400645, 0.80831274, 0.83773008,\n",
              "        0.84721956, 0.91914973, 0.94439166, 0.92066805, 0.96394002,\n",
              "        0.94097551, 0.93528183, 0.9094705 , 0.95331182, 0.96963369,\n",
              "        0.96963371, 1.        , 0.96469924, 0.9641298 , 0.98785344,\n",
              "        0.98007209, 0.95255264, 0.95539953, 0.9582464 , 0.97760482,\n",
              "        0.97077245, 0.95464032, 0.96394005, 0.94268366, 0.95198327,\n",
              "        0.95805652, 0.9591953 , 0.94059597, 0.94553042, 0.92180677,\n",
              "        0.93167584, 0.95824639, 0.96659704, 0.96014423, 0.98462709,\n",
              "        0.97570696, 0.97380912, 0.99525522, 0.97684568, 0.97532737,\n",
              "        0.97134178, 0.96109318, 0.97741507, 0.99013096, 1.02846838]),\n",
              " array([0.80072119, 0.79635605, 0.81305752, 0.82710191, 0.85215413,\n",
              "        0.85101536, 0.82520399, 0.80622508, 0.79407856, 0.79180112,\n",
              "        0.80698425, 0.82918956, 0.8443728 , 0.84627066, 0.84532173,\n",
              "        0.80375782, 0.80926168, 0.79806412, 0.76124499, 0.74947808,\n",
              "        0.76561017, 0.772063  , 0.75706967, 0.76086545, 0.77642814,\n",
              "        0.74530271, 0.76940598, 0.77035492, 0.81476565, 0.80603533,\n",
              "        0.80793317, 0.83621185, 0.82975897, 0.81970008, 0.82729174,\n",
              "        0.83697094, 0.81970007, 0.84095655, 0.8197001 , 0.81286777,\n",
              "        0.81552481, 0.81400645, 0.80831274, 0.83773008, 0.84721956,\n",
              "        0.91914973, 0.94439166, 0.92066805, 0.96394002, 0.94097551,\n",
              "        0.93528183, 0.9094705 , 0.95331182, 0.96963369, 0.96963371,\n",
              "        1.        , 0.96469924, 0.9641298 , 0.98785344, 0.98007209,\n",
              "        0.95255264, 0.95539953, 0.9582464 , 0.97760482, 0.97077245,\n",
              "        0.95464032, 0.96394005, 0.94268366, 0.95198327, 0.95805652,\n",
              "        0.9591953 , 0.94059597, 0.94553042, 0.92180677, 0.93167584,\n",
              "        0.95824639, 0.96659704, 0.96014423, 0.98462709, 0.97570696,\n",
              "        0.97380912, 0.99525522, 0.97684568, 0.97532737, 0.97134178,\n",
              "        0.96109318, 0.97741507, 0.99013096, 1.02846838, 1.0265705 ]),\n",
              " array([0.79635605, 0.81305752, 0.82710191, 0.85215413, 0.85101536,\n",
              "        0.82520399, 0.80622508, 0.79407856, 0.79180112, 0.80698425,\n",
              "        0.82918956, 0.8443728 , 0.84627066, 0.84532173, 0.80375782,\n",
              "        0.80926168, 0.79806412, 0.76124499, 0.74947808, 0.76561017,\n",
              "        0.772063  , 0.75706967, 0.76086545, 0.77642814, 0.74530271,\n",
              "        0.76940598, 0.77035492, 0.81476565, 0.80603533, 0.80793317,\n",
              "        0.83621185, 0.82975897, 0.81970008, 0.82729174, 0.83697094,\n",
              "        0.81970007, 0.84095655, 0.8197001 , 0.81286777, 0.81552481,\n",
              "        0.81400645, 0.80831274, 0.83773008, 0.84721956, 0.91914973,\n",
              "        0.94439166, 0.92066805, 0.96394002, 0.94097551, 0.93528183,\n",
              "        0.9094705 , 0.95331182, 0.96963369, 0.96963371, 1.        ,\n",
              "        0.96469924, 0.9641298 , 0.98785344, 0.98007209, 0.95255264,\n",
              "        0.95539953, 0.9582464 , 0.97760482, 0.97077245, 0.95464032,\n",
              "        0.96394005, 0.94268366, 0.95198327, 0.95805652, 0.9591953 ,\n",
              "        0.94059597, 0.94553042, 0.92180677, 0.93167584, 0.95824639,\n",
              "        0.96659704, 0.96014423, 0.98462709, 0.97570696, 0.97380912,\n",
              "        0.99525522, 0.97684568, 0.97532737, 0.97134178, 0.96109318,\n",
              "        0.97741507, 0.99013096, 1.02846838, 1.0265705 , 1.03606   ]),\n",
              " array([0.81305752, 0.82710191, 0.85215413, 0.85101536, 0.82520399,\n",
              "        0.80622508, 0.79407856, 0.79180112, 0.80698425, 0.82918956,\n",
              "        0.8443728 , 0.84627066, 0.84532173, 0.80375782, 0.80926168,\n",
              "        0.79806412, 0.76124499, 0.74947808, 0.76561017, 0.772063  ,\n",
              "        0.75706967, 0.76086545, 0.77642814, 0.74530271, 0.76940598,\n",
              "        0.77035492, 0.81476565, 0.80603533, 0.80793317, 0.83621185,\n",
              "        0.82975897, 0.81970008, 0.82729174, 0.83697094, 0.81970007,\n",
              "        0.84095655, 0.8197001 , 0.81286777, 0.81552481, 0.81400645,\n",
              "        0.80831274, 0.83773008, 0.84721956, 0.91914973, 0.94439166,\n",
              "        0.92066805, 0.96394002, 0.94097551, 0.93528183, 0.9094705 ,\n",
              "        0.95331182, 0.96963369, 0.96963371, 1.        , 0.96469924,\n",
              "        0.9641298 , 0.98785344, 0.98007209, 0.95255264, 0.95539953,\n",
              "        0.9582464 , 0.97760482, 0.97077245, 0.95464032, 0.96394005,\n",
              "        0.94268366, 0.95198327, 0.95805652, 0.9591953 , 0.94059597,\n",
              "        0.94553042, 0.92180677, 0.93167584, 0.95824639, 0.96659704,\n",
              "        0.96014423, 0.98462709, 0.97570696, 0.97380912, 0.99525522,\n",
              "        0.97684568, 0.97532737, 0.97134178, 0.96109318, 0.97741507,\n",
              "        0.99013096, 1.02846838, 1.0265705 , 1.03606   , 1.06737523]),\n",
              " array([0.82710191, 0.85215413, 0.85101536, 0.82520399, 0.80622508,\n",
              "        0.79407856, 0.79180112, 0.80698425, 0.82918956, 0.8443728 ,\n",
              "        0.84627066, 0.84532173, 0.80375782, 0.80926168, 0.79806412,\n",
              "        0.76124499, 0.74947808, 0.76561017, 0.772063  , 0.75706967,\n",
              "        0.76086545, 0.77642814, 0.74530271, 0.76940598, 0.77035492,\n",
              "        0.81476565, 0.80603533, 0.80793317, 0.83621185, 0.82975897,\n",
              "        0.81970008, 0.82729174, 0.83697094, 0.81970007, 0.84095655,\n",
              "        0.8197001 , 0.81286777, 0.81552481, 0.81400645, 0.80831274,\n",
              "        0.83773008, 0.84721956, 0.91914973, 0.94439166, 0.92066805,\n",
              "        0.96394002, 0.94097551, 0.93528183, 0.9094705 , 0.95331182,\n",
              "        0.96963369, 0.96963371, 1.        , 0.96469924, 0.9641298 ,\n",
              "        0.98785344, 0.98007209, 0.95255264, 0.95539953, 0.9582464 ,\n",
              "        0.97760482, 0.97077245, 0.95464032, 0.96394005, 0.94268366,\n",
              "        0.95198327, 0.95805652, 0.9591953 , 0.94059597, 0.94553042,\n",
              "        0.92180677, 0.93167584, 0.95824639, 0.96659704, 0.96014423,\n",
              "        0.98462709, 0.97570696, 0.97380912, 0.99525522, 0.97684568,\n",
              "        0.97532737, 0.97134178, 0.96109318, 0.97741507, 0.99013096,\n",
              "        1.02846838, 1.0265705 , 1.03606   , 1.06737523, 1.05978367]),\n",
              " array([0.85215413, 0.85101536, 0.82520399, 0.80622508, 0.79407856,\n",
              "        0.79180112, 0.80698425, 0.82918956, 0.8443728 , 0.84627066,\n",
              "        0.84532173, 0.80375782, 0.80926168, 0.79806412, 0.76124499,\n",
              "        0.74947808, 0.76561017, 0.772063  , 0.75706967, 0.76086545,\n",
              "        0.77642814, 0.74530271, 0.76940598, 0.77035492, 0.81476565,\n",
              "        0.80603533, 0.80793317, 0.83621185, 0.82975897, 0.81970008,\n",
              "        0.82729174, 0.83697094, 0.81970007, 0.84095655, 0.8197001 ,\n",
              "        0.81286777, 0.81552481, 0.81400645, 0.80831274, 0.83773008,\n",
              "        0.84721956, 0.91914973, 0.94439166, 0.92066805, 0.96394002,\n",
              "        0.94097551, 0.93528183, 0.9094705 , 0.95331182, 0.96963369,\n",
              "        0.96963371, 1.        , 0.96469924, 0.9641298 , 0.98785344,\n",
              "        0.98007209, 0.95255264, 0.95539953, 0.9582464 , 0.97760482,\n",
              "        0.97077245, 0.95464032, 0.96394005, 0.94268366, 0.95198327,\n",
              "        0.95805652, 0.9591953 , 0.94059597, 0.94553042, 0.92180677,\n",
              "        0.93167584, 0.95824639, 0.96659704, 0.96014423, 0.98462709,\n",
              "        0.97570696, 0.97380912, 0.99525522, 0.97684568, 0.97532737,\n",
              "        0.97134178, 0.96109318, 0.97741507, 0.99013096, 1.02846838,\n",
              "        1.0265705 , 1.03606   , 1.06737523, 1.05978367, 1.06263053]),\n",
              " array([0.85101536, 0.82520399, 0.80622508, 0.79407856, 0.79180112,\n",
              "        0.80698425, 0.82918956, 0.8443728 , 0.84627066, 0.84532173,\n",
              "        0.80375782, 0.80926168, 0.79806412, 0.76124499, 0.74947808,\n",
              "        0.76561017, 0.772063  , 0.75706967, 0.76086545, 0.77642814,\n",
              "        0.74530271, 0.76940598, 0.77035492, 0.81476565, 0.80603533,\n",
              "        0.80793317, 0.83621185, 0.82975897, 0.81970008, 0.82729174,\n",
              "        0.83697094, 0.81970007, 0.84095655, 0.8197001 , 0.81286777,\n",
              "        0.81552481, 0.81400645, 0.80831274, 0.83773008, 0.84721956,\n",
              "        0.91914973, 0.94439166, 0.92066805, 0.96394002, 0.94097551,\n",
              "        0.93528183, 0.9094705 , 0.95331182, 0.96963369, 0.96963371,\n",
              "        1.        , 0.96469924, 0.9641298 , 0.98785344, 0.98007209,\n",
              "        0.95255264, 0.95539953, 0.9582464 , 0.97760482, 0.97077245,\n",
              "        0.95464032, 0.96394005, 0.94268366, 0.95198327, 0.95805652,\n",
              "        0.9591953 , 0.94059597, 0.94553042, 0.92180677, 0.93167584,\n",
              "        0.95824639, 0.96659704, 0.96014423, 0.98462709, 0.97570696,\n",
              "        0.97380912, 0.99525522, 0.97684568, 0.97532737, 0.97134178,\n",
              "        0.96109318, 0.97741507, 0.99013096, 1.02846838, 1.0265705 ,\n",
              "        1.03606   , 1.06737523, 1.05978367, 1.06263053, 1.0483963 ]),\n",
              " array([0.82520399, 0.80622508, 0.79407856, 0.79180112, 0.80698425,\n",
              "        0.82918956, 0.8443728 , 0.84627066, 0.84532173, 0.80375782,\n",
              "        0.80926168, 0.79806412, 0.76124499, 0.74947808, 0.76561017,\n",
              "        0.772063  , 0.75706967, 0.76086545, 0.77642814, 0.74530271,\n",
              "        0.76940598, 0.77035492, 0.81476565, 0.80603533, 0.80793317,\n",
              "        0.83621185, 0.82975897, 0.81970008, 0.82729174, 0.83697094,\n",
              "        0.81970007, 0.84095655, 0.8197001 , 0.81286777, 0.81552481,\n",
              "        0.81400645, 0.80831274, 0.83773008, 0.84721956, 0.91914973,\n",
              "        0.94439166, 0.92066805, 0.96394002, 0.94097551, 0.93528183,\n",
              "        0.9094705 , 0.95331182, 0.96963369, 0.96963371, 1.        ,\n",
              "        0.96469924, 0.9641298 , 0.98785344, 0.98007209, 0.95255264,\n",
              "        0.95539953, 0.9582464 , 0.97760482, 0.97077245, 0.95464032,\n",
              "        0.96394005, 0.94268366, 0.95198327, 0.95805652, 0.9591953 ,\n",
              "        0.94059597, 0.94553042, 0.92180677, 0.93167584, 0.95824639,\n",
              "        0.96659704, 0.96014423, 0.98462709, 0.97570696, 0.97380912,\n",
              "        0.99525522, 0.97684568, 0.97532737, 0.97134178, 0.96109318,\n",
              "        0.97741507, 0.99013096, 1.02846838, 1.0265705 , 1.03606   ,\n",
              "        1.06737523, 1.05978367, 1.06263053, 1.0483963 , 1.02277467]),\n",
              " array([0.80622508, 0.79407856, 0.79180112, 0.80698425, 0.82918956,\n",
              "        0.8443728 , 0.84627066, 0.84532173, 0.80375782, 0.80926168,\n",
              "        0.79806412, 0.76124499, 0.74947808, 0.76561017, 0.772063  ,\n",
              "        0.75706967, 0.76086545, 0.77642814, 0.74530271, 0.76940598,\n",
              "        0.77035492, 0.81476565, 0.80603533, 0.80793317, 0.83621185,\n",
              "        0.82975897, 0.81970008, 0.82729174, 0.83697094, 0.81970007,\n",
              "        0.84095655, 0.8197001 , 0.81286777, 0.81552481, 0.81400645,\n",
              "        0.80831274, 0.83773008, 0.84721956, 0.91914973, 0.94439166,\n",
              "        0.92066805, 0.96394002, 0.94097551, 0.93528183, 0.9094705 ,\n",
              "        0.95331182, 0.96963369, 0.96963371, 1.        , 0.96469924,\n",
              "        0.9641298 , 0.98785344, 0.98007209, 0.95255264, 0.95539953,\n",
              "        0.9582464 , 0.97760482, 0.97077245, 0.95464032, 0.96394005,\n",
              "        0.94268366, 0.95198327, 0.95805652, 0.9591953 , 0.94059597,\n",
              "        0.94553042, 0.92180677, 0.93167584, 0.95824639, 0.96659704,\n",
              "        0.96014423, 0.98462709, 0.97570696, 0.97380912, 0.99525522,\n",
              "        0.97684568, 0.97532737, 0.97134178, 0.96109318, 0.97741507,\n",
              "        0.99013096, 1.02846838, 1.0265705 , 1.03606   , 1.06737523,\n",
              "        1.05978367, 1.06263053, 1.0483963 , 1.02277467, 1.02334412]),\n",
              " array([0.79407856, 0.79180112, 0.80698425, 0.82918956, 0.8443728 ,\n",
              "        0.84627066, 0.84532173, 0.80375782, 0.80926168, 0.79806412,\n",
              "        0.76124499, 0.74947808, 0.76561017, 0.772063  , 0.75706967,\n",
              "        0.76086545, 0.77642814, 0.74530271, 0.76940598, 0.77035492,\n",
              "        0.81476565, 0.80603533, 0.80793317, 0.83621185, 0.82975897,\n",
              "        0.81970008, 0.82729174, 0.83697094, 0.81970007, 0.84095655,\n",
              "        0.8197001 , 0.81286777, 0.81552481, 0.81400645, 0.80831274,\n",
              "        0.83773008, 0.84721956, 0.91914973, 0.94439166, 0.92066805,\n",
              "        0.96394002, 0.94097551, 0.93528183, 0.9094705 , 0.95331182,\n",
              "        0.96963369, 0.96963371, 1.        , 0.96469924, 0.9641298 ,\n",
              "        0.98785344, 0.98007209, 0.95255264, 0.95539953, 0.9582464 ,\n",
              "        0.97760482, 0.97077245, 0.95464032, 0.96394005, 0.94268366,\n",
              "        0.95198327, 0.95805652, 0.9591953 , 0.94059597, 0.94553042,\n",
              "        0.92180677, 0.93167584, 0.95824639, 0.96659704, 0.96014423,\n",
              "        0.98462709, 0.97570696, 0.97380912, 0.99525522, 0.97684568,\n",
              "        0.97532737, 0.97134178, 0.96109318, 0.97741507, 0.99013096,\n",
              "        1.02846838, 1.0265705 , 1.03606   , 1.06737523, 1.05978367,\n",
              "        1.06263053, 1.0483963 , 1.02277467, 1.02334412, 1.01328526]),\n",
              " array([0.79180112, 0.80698425, 0.82918956, 0.8443728 , 0.84627066,\n",
              "        0.84532173, 0.80375782, 0.80926168, 0.79806412, 0.76124499,\n",
              "        0.74947808, 0.76561017, 0.772063  , 0.75706967, 0.76086545,\n",
              "        0.77642814, 0.74530271, 0.76940598, 0.77035492, 0.81476565,\n",
              "        0.80603533, 0.80793317, 0.83621185, 0.82975897, 0.81970008,\n",
              "        0.82729174, 0.83697094, 0.81970007, 0.84095655, 0.8197001 ,\n",
              "        0.81286777, 0.81552481, 0.81400645, 0.80831274, 0.83773008,\n",
              "        0.84721956, 0.91914973, 0.94439166, 0.92066805, 0.96394002,\n",
              "        0.94097551, 0.93528183, 0.9094705 , 0.95331182, 0.96963369,\n",
              "        0.96963371, 1.        , 0.96469924, 0.9641298 , 0.98785344,\n",
              "        0.98007209, 0.95255264, 0.95539953, 0.9582464 , 0.97760482,\n",
              "        0.97077245, 0.95464032, 0.96394005, 0.94268366, 0.95198327,\n",
              "        0.95805652, 0.9591953 , 0.94059597, 0.94553042, 0.92180677,\n",
              "        0.93167584, 0.95824639, 0.96659704, 0.96014423, 0.98462709,\n",
              "        0.97570696, 0.97380912, 0.99525522, 0.97684568, 0.97532737,\n",
              "        0.97134178, 0.96109318, 0.97741507, 0.99013096, 1.02846838,\n",
              "        1.0265705 , 1.03606   , 1.06737523, 1.05978367, 1.06263053,\n",
              "        1.0483963 , 1.02277467, 1.02334412, 1.01328526, 1.03188456])]"
            ]
          },
          "metadata": {},
          "execution_count": 41
        }
      ]
    },
    {
      "cell_type": "code",
      "source": [
        "X_teste = np.array(X_teste)\n",
        "X_teste = np.reshape(X_teste, (X_teste.shape[0], X_teste.shape[1], 1))"
      ],
      "metadata": {
        "id": "g1HXJKfB2tmz"
      },
      "execution_count": null,
      "outputs": []
    },
    {
      "cell_type": "code",
      "source": [
        "X_teste.shape"
      ],
      "metadata": {
        "colab": {
          "base_uri": "https://localhost:8080/"
        },
        "id": "igPFGTTL2485",
        "outputId": "cd1c62d3-2c39-4614-f0fe-80fda75e96ee"
      },
      "execution_count": null,
      "outputs": [
        {
          "output_type": "execute_result",
          "data": {
            "text/plain": [
              "(22, 90, 1)"
            ]
          },
          "metadata": {},
          "execution_count": 43
        }
      ]
    },
    {
      "cell_type": "code",
      "source": [
        "previsoes = regressor.predict(X_teste)"
      ],
      "metadata": {
        "colab": {
          "base_uri": "https://localhost:8080/"
        },
        "id": "-7FGBgFN3F4h",
        "outputId": "6c95fc95-2efc-408f-de33-cc36fcaec76b"
      },
      "execution_count": null,
      "outputs": [
        {
          "output_type": "stream",
          "name": "stdout",
          "text": [
            "\u001b[1m1/1\u001b[0m \u001b[32m━━━━━━━━━━━━━━━━━━━━\u001b[0m\u001b[37m\u001b[0m \u001b[1m1s\u001b[0m 586ms/step\n"
          ]
        }
      ]
    },
    {
      "cell_type": "code",
      "source": [
        "previsoes"
      ],
      "metadata": {
        "colab": {
          "base_uri": "https://localhost:8080/"
        },
        "id": "Rz4FEcI03KbI",
        "outputId": "aefb3e5c-cf6c-4481-8377-9d69fc063406"
      },
      "execution_count": null,
      "outputs": [
        {
          "output_type": "execute_result",
          "data": {
            "text/plain": [
              "array([[0.8739032 ],\n",
              "       [0.8791201 ],\n",
              "       [0.885779  ],\n",
              "       [0.8923319 ],\n",
              "       [0.89876986],\n",
              "       [0.9039763 ],\n",
              "       [0.9071905 ],\n",
              "       [0.9081404 ],\n",
              "       [0.906668  ],\n",
              "       [0.9041736 ],\n",
              "       [0.9025252 ],\n",
              "       [0.9045302 ],\n",
              "       [0.91055346],\n",
              "       [0.9196866 ],\n",
              "       [0.93169516],\n",
              "       [0.9448248 ],\n",
              "       [0.95722896],\n",
              "       [0.9667925 ],\n",
              "       [0.97131884],\n",
              "       [0.9706482 ],\n",
              "       [0.9656166 ],\n",
              "       [0.95891774]], dtype=float32)"
            ]
          },
          "metadata": {},
          "execution_count": 45
        }
      ]
    },
    {
      "cell_type": "code",
      "source": [
        "previsoes = normalizador.inverse_transform(previsoes)"
      ],
      "metadata": {
        "id": "XDpRnNbn3Pzb"
      },
      "execution_count": null,
      "outputs": []
    },
    {
      "cell_type": "code",
      "source": [
        "previsoes"
      ],
      "metadata": {
        "colab": {
          "base_uri": "https://localhost:8080/"
        },
        "id": "CLJMYQ6W3VxK",
        "outputId": "2ced6f41-ef8d-4362-d56b-c03dd041196c"
      },
      "execution_count": null,
      "outputs": [
        {
          "output_type": "execute_result",
          "data": {
            "text/plain": [
              "array([[51.90248 ],\n",
              "       [52.177074],\n",
              "       [52.527573],\n",
              "       [52.872486],\n",
              "       [53.21135 ],\n",
              "       [53.485397],\n",
              "       [53.654583],\n",
              "       [53.70458 ],\n",
              "       [53.62708 ],\n",
              "       [53.49578 ],\n",
              "       [53.409016],\n",
              "       [53.514557],\n",
              "       [53.83159 ],\n",
              "       [54.312325],\n",
              "       [54.944405],\n",
              "       [55.63549 ],\n",
              "       [56.288395],\n",
              "       [56.79178 ],\n",
              "       [57.03002 ],\n",
              "       [56.994728],\n",
              "       [56.72988 ],\n",
              "       [56.37728 ]], dtype=float32)"
            ]
          },
          "metadata": {},
          "execution_count": 47
        }
      ]
    },
    {
      "cell_type": "code",
      "source": [
        "y_teste"
      ],
      "metadata": {
        "colab": {
          "base_uri": "https://localhost:8080/"
        },
        "id": "itjBhto93d2N",
        "outputId": "6d1e6e89-5729-484b-d1e0-e68bf321535b"
      },
      "execution_count": null,
      "outputs": [
        {
          "output_type": "execute_result",
          "data": {
            "text/plain": [
              "array([[57.73051422],\n",
              "       [57.26099613],\n",
              "       [57.16110216],\n",
              "       [58.28993405],\n",
              "       [57.32093393],\n",
              "       [57.24101639],\n",
              "       [57.031232  ],\n",
              "       [56.49178866],\n",
              "       [57.35090407],\n",
              "       [58.0202148 ],\n",
              "       [60.03813414],\n",
              "       [59.93823734],\n",
              "       [60.43772461],\n",
              "       [62.08602583],\n",
              "       [61.686438  ],\n",
              "       [61.83628483],\n",
              "       [61.08705524],\n",
              "       [59.73844133],\n",
              "       [59.76841469],\n",
              "       [59.23895904],\n",
              "       [60.21794696],\n",
              "       [59.78839099]])"
            ]
          },
          "metadata": {},
          "execution_count": 48
        }
      ]
    },
    {
      "cell_type": "code",
      "source": [
        "previsoes.mean()"
      ],
      "metadata": {
        "colab": {
          "base_uri": "https://localhost:8080/"
        },
        "id": "q2CkXQSu3oxI",
        "outputId": "35856238-a0e0-4bb4-ae3d-8509b6bdde0c"
      },
      "execution_count": null,
      "outputs": [
        {
          "output_type": "execute_result",
          "data": {
            "text/plain": [
              "np.float32(54.38718)"
            ]
          },
          "metadata": {},
          "execution_count": 49
        }
      ]
    },
    {
      "cell_type": "code",
      "source": [
        "y_teste.mean()"
      ],
      "metadata": {
        "colab": {
          "base_uri": "https://localhost:8080/"
        },
        "id": "DCOiJyvw3qcZ",
        "outputId": "c258f606-7386-4a85-d26e-fdccc35c46b3"
      },
      "execution_count": null,
      "outputs": [
        {
          "output_type": "execute_result",
          "data": {
            "text/plain": [
              "np.float64(59.08003133696597)"
            ]
          },
          "metadata": {},
          "execution_count": 50
        }
      ]
    },
    {
      "cell_type": "code",
      "source": [
        "from sklearn.metrics import mean_absolute_error\n",
        "mean_absolute_error(y_teste, previsoes)"
      ],
      "metadata": {
        "colab": {
          "base_uri": "https://localhost:8080/"
        },
        "id": "jvQjFZPs3ulh",
        "outputId": "3b2066b4-941e-4145-c1c1-7d60041bffa8"
      },
      "execution_count": null,
      "outputs": [
        {
          "output_type": "execute_result",
          "data": {
            "text/plain": [
              "4.692856383852072"
            ]
          },
          "metadata": {},
          "execution_count": 51
        }
      ]
    },
    {
      "cell_type": "code",
      "source": [
        "plt.plot(y_teste, color = \"red\", label = \"Preço real\")\n",
        "plt.plot(previsoes, color = \"blue\", label = \"Previsões\")\n",
        "plt.title(\"Previsão do preço das ações\")\n",
        "plt.xlabel(\"Tempo\")\n",
        "plt.ylabel(\"Valor\")\n",
        "plt.legend();"
      ],
      "metadata": {
        "colab": {
          "base_uri": "https://localhost:8080/",
          "height": 472
        },
        "id": "cJ1Z6kWL36yz",
        "outputId": "79508b98-6758-4916-c7ae-1186b8629d05"
      },
      "execution_count": null,
      "outputs": [
        {
          "output_type": "display_data",
          "data": {
            "text/plain": [
              "<Figure size 640x480 with 1 Axes>"
            ],
            "image/png": "[encoded data removed]"
          },
          "metadata": {}
        }
      ]
    },
    {
      "cell_type": "markdown",
      "source": [
        "# API"
      ],
      "metadata": {
        "id": "F41m6vDQPopH"
      }
    },
    {
      "cell_type": "code",
      "source": [
        "# Importa as bibliotecas necessárias\n",
        "from flask import Flask, request, jsonify\n",
        "import numpy as np\n",
        "import tensorflow as tf\n",
        "from sklearn.preprocessing import MinMaxScaler\n",
        "import pandas as pd\n",
        "\n",
        "# Inicializa o Flask\n",
        "app = Flask(__name__)\n",
        "\n",
        "# Carrega o modelo e o scaler na inicialização da API\n",
        "# Isso é feito uma única vez para otimizar o desempenho\n",
        "MODEL = tf.keras.models.load_model('/content/modelo_Embraer_lstm.h5')\n",
        "\n",
        "# Em um projeto de produção, o scaler deve ser salvo junto com o modelo.\n",
        "# Para este exemplo, ele será reajustado com os dados de treinamento.\n",
        "df_data = pd.read_csv('/content/embrear_treinLO.csv')\n",
        "data = df_data['Close'].values.reshape(-1, 1)\n",
        "SCALER = MinMaxScaler(feature_range=(0, 1))\n",
        "SCALER.fit(data)\n",
        "\n",
        "\n",
        "# Define a rota da API para fazer a previsão\n",
        "@app.route('/predict', methods=['POST'])\n",
        "def predict():\n",
        "    try:\n",
        "        # Extrai os dados de entrada da requisição JSON\n",
        "        json_data = request.json\n",
        "        input_data = np.array(json_data['data']).reshape(-1, 1)\n",
        "\n",
        "        # Verifica se a sequência de entrada tem o tamanho correto\n",
        "        if len(input_data) != 90:\n",
        "            return jsonify({'error': 'A entrada deve conter 90 dias de dados.'}), 400\n",
        "\n",
        "        # Pré-processa os dados usando o scaler\n",
        "        scaled_input = SCALER.transform(input_data)\n",
        "        scaled_input = scaled_input.reshape(1, 90, 1)\n",
        "\n",
        "        # Faz a predição\n",
        "        prediction = MODEL.predict(scaled_input)\n",
        "\n",
        "        # Desnormaliza a predição para o valor original\n",
        "        prediction_real = SCALER.inverse_transform(prediction)[0][0]\n",
        "\n",
        "        # Retorna a previsão como um JSON\n",
        "        return jsonify({'prediction': float(prediction_real)})\n",
        "\n",
        "    except Exception as e:\n",
        "        return jsonify({'error': str(e)}), 500\n",
        "\n",
        "\n",
        "# Executa a aplicação\n",
        "if __name__ == '__main__':\n",
        "    # Para rodar localmente na porta 5000\n",
        "    app.run(debug=True, host='0.0.0.0', port=5000)"
      ],
      "metadata": {
        "colab": {
          "base_uri": "https://localhost:8080/"
        },
        "id": "mlsuSMVZrKvk",
        "outputId": "25eca975-949a-4906-afa1-63e512a04d5e"
      },
      "execution_count": null,
      "outputs": [
        {
          "output_type": "stream",
          "name": "stderr",
          "text": [
            "WARNING:absl:Compiled the loaded model, but the compiled metrics have yet to be built. `model.compile_metrics` will be empty until you train or evaluate the model.\n"
          ]
        },
        {
          "output_type": "stream",
          "name": "stdout",
          "text": [
            " * Serving Flask app '__main__'\n",
            " * Debug mode: on\n"
          ]
        },
        {
          "output_type": "stream",
          "name": "stderr",
          "text": [
            "INFO:werkzeug:\u001b[31m\u001b[1mWARNING: This is a development server. Do not use it in a production deployment. Use a production WSGI server instead.\u001b[0m\n",
            " * Running on all addresses (0.0.0.0)\n",
            " * Running on http://127.0.0.1:5000\n",
            " * Running on http://172.28.0.12:5000\n",
            "INFO:werkzeug:\u001b[33mPress CTRL+C to quit\u001b[0m\n",
            "INFO:werkzeug: * Restarting with watchdog (inotify)\n"
          ]
        }
      ]
    }
  ]
}